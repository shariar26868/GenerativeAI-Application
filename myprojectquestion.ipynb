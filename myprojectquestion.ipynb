{
 "cells": [
  {
   "cell_type": "code",
   "execution_count": 7,
   "metadata": {},
   "outputs": [],
   "source": [
    "import os\n",
    "from dotenv import load_dotenv"
   ]
  },
  {
   "cell_type": "code",
   "execution_count": 8,
   "metadata": {},
   "outputs": [],
   "source": [
    "load_dotenv()\n",
    "OPENAI_API_KEY= os.getenv(\"OPENAI_API_KEY\")\n",
    "# OPENAI_API_KEY"
   ]
  },
  {
   "cell_type": "code",
   "execution_count": 9,
   "metadata": {},
   "outputs": [],
   "source": [
    "os.environ[\"OPENAI_API_KEY\"] = OPENAI_API_KEY"
   ]
  },
  {
   "cell_type": "code",
   "execution_count": 10,
   "metadata": {},
   "outputs": [],
   "source": [
    "from langchain.document_loaders import PyPDFLoader"
   ]
  },
  {
   "cell_type": "code",
   "execution_count": 11,
   "metadata": {},
   "outputs": [
    {
     "data": {
      "text/plain": [
       "'d:\\\\Question'"
      ]
     },
     "execution_count": 11,
     "metadata": {},
     "output_type": "execute_result"
    }
   ],
   "source": [
    "%pwd"
   ]
  },
  {
   "cell_type": "code",
   "execution_count": 12,
   "metadata": {},
   "outputs": [],
   "source": [
    "file_path = \"pdf/digital nomadism.pdf\"\n",
    "loader = PyPDFLoader(file_path)\n",
    "data = loader.load()"
   ]
  },
  {
   "cell_type": "code",
   "execution_count": 13,
   "metadata": {},
   "outputs": [
    {
     "data": {
      "text/plain": [
       "[Document(metadata={'producer': 'Microsoft® Word 2016', 'creator': 'Microsoft® Word 2016', 'creationdate': '2022-10-04T10:12:13+11:00', 'author': 'Najmaei, Arash (MB)', 'moddate': '2022-10-04T10:12:13+11:00', 'source': 'pdf/digital nomadism.pdf', 'total_pages': 6, 'page': 0, 'page_label': '1'}, page_content='A Socio-Materialistic View of Digital Nomadism \\n \\nZahra Sadeghinejad \\nArash Najmaei \\n \\nSeptember 2022 \\n \\nDigital nomadism has become one of the most significant social phenomena in the last few \\nyears. Preponderance of scholarly and anecdotal evidence about the rise of digitally nomadic \\nlifer style and its role of transforming societies, markets, and industries suggest that this \\nphenomenon deserve more systematic explanation. To this end, we borrow the socio -\\nmateriality theory from the field of organisation scien ce to propose a socio-materialistic view \\nof digital nomadism. Our conceptualization suggests that digital nomadism is best understood \\nas a form of continuous emergent of social life of a nomad and through his or her use of digital \\nmaterial. The socio -materiality of digital nomadism hence offers a new view of the \\nphenomenon as an inseparable entity that is social and material. \\n \\nDefining digital nomadism  \\nNomads are people who move often to different locations. Traditionally, they were motivated \\nby the need to obtain food, find pasture for livestock, or otherwise make a living. While a grey \\nzone exists in defining nomads and migrants, nomads move more often or move continuously \\nas a lifestyle choice (Schlagwein, 2018). Among traditional nomads, we can distinguish hunter-\\ngatherers (moving in their search for food), pastoral nomads (moving with their livestock, such \\nas the Bedouin) and peripatetic nomads (moving to sell their craft, such as the Sinti) \\n(Schlagwein, 2018).  \\nDigital nomadism departs from these traditional forms by emphasizing the central role of digital \\ntechnologies and the need to seek digital freedom which is enabled by internet. In 1997,'),\n",
       " Document(metadata={'producer': 'Microsoft® Word 2016', 'creator': 'Microsoft® Word 2016', 'creationdate': '2022-10-04T10:12:13+11:00', 'author': 'Najmaei, Arash (MB)', 'moddate': '2022-10-04T10:12:13+11:00', 'source': 'pdf/digital nomadism.pdf', 'total_pages': 6, 'page': 1, 'page_label': '2'}, page_content='Makimoto and Manners recognised the power of internet in transforming lives in their \\nmanifesto called “digital nomad” in which they described the future of work as:  \\n“At the moment, we do not have the ability to communicate by video link between any \\ntwo points on the planet. But we will have it, and it will be generally affordable, within ten \\nyears. We will be able to see people, documents, and pictures wherever they happen to \\nbe, from anywhere we happen to be” (p. 5f). \\nFast forward 25 years, prophesy of Makimoto  and Manners has turned into a global reality. \\nDigital nomadism is the offspring of the freedom that global digital technology and its rapid \\nadvancement and widespread adoption brings about. As described by Reichenberger (2017) \\nfreedom in the information era appears “in a variety of contexts, including freedom within paid \\nemployment, freedom relating to location independence and freedom to pursue self -\\ndevelopment” (p. 9).  Digital nomads are, then those mobile laborers who seek a new mode \\nof work-life reconciliation (Müller, 2016) by adopting a nomadic lifestyle while working remotely \\nby leveraging digital technologies. As such, digital nomads are also called “ neo-nomads,” \\n“global nomads,” “modern nomads,” or “new nomads” (Müller, 2016).  \\nThe lifestyle of th e digital nomad unifies different aspects of  multi-directional technology -\\nenabled mobility and location-independent work on a new social level that may lead to a new \\nglobal culture or a universal social system (Bozzi, 2020; Ibarra & Kalich, 2022; Müller, 2 016; \\nWoldoff & Litchfield, 2021) . As such, a deeper understanding of the genesis of digital \\nnomadism is warranted. To this end, we can distinguish two forces that play pivotal role in the \\nformation of digital nomadism: 1) digital technology 2) socio -cultural style of a nomadic life. \\nThe question is, then, how these forces come together to explain the genesis of digital \\nnomadism? \\n \\nSocio-materiality theory'),\n",
       " Document(metadata={'producer': 'Microsoft® Word 2016', 'creator': 'Microsoft® Word 2016', 'creationdate': '2022-10-04T10:12:13+11:00', 'author': 'Najmaei, Arash (MB)', 'moddate': '2022-10-04T10:12:13+11:00', 'source': 'pdf/digital nomadism.pdf', 'total_pages': 6, 'page': 2, 'page_label': '3'}, page_content='The socio-materiality theory is a theory of the interaction between technology (material) and \\norganisation of societies in which different technologies are used. This theory aims to explain \\nthe state that is simultaneously social and material in the world (Kim & Yang, 2020).  \\nTraditionally, the distinct and direct use of technology in societies was either ab sent or only \\nimplicitly discussed. The separation of technology and organisation of societies was \\nparadoxical and problematic due to the rising importance of technologies in transforming \\nexisting and shaping new social norms and structures (Jain & Srinivasan, 2022; Orlikowski & \\nScott, 2008; Stanko, Dahm, Lahneman, & Richter, 2022) . Therefore, the socio -materiality \\ntheory gained momentum as a theoretical view that replaces the separation of technologies \\nfrom societies with a fusion of them  (Orlikowski & Scot t, 2008) . In this way, the socio -\\nmateriality perspective rests on the premise that social and technological aspects of various \\nsocial systems and phenomena are interlinked and inseparable in a given context. This \\ninseparability creates constitutive entangl ement and recursive intertwining which creates \\nunique forces for the system to adapt and evolve (Jain & Srinivasan, 2022). Therefore, a socio-\\nmaterialistic view of a given social or organisational phenomenon suggests that all materiality \\nis created, interpreted, and used based on social practice, and all social practice is affected \\nby materiality (Leonardi, 2013). We now use this view to propose a socio-materialistic view of \\ndigital nomadism.  \\n \\n A socio-materialistic view of digital nomadism and why it matters \\nIn a socio-materialistic view, materiality refers to the qualities of material agencies including \\nall technological tools, methods, techniques and essentially all non -human elements \\nperforming specific functions. Considering this, the digital and physi cal aspects of a digital \\nnomadic lifestyle form the inseparable materialistic fabric of it. Furthermore, materiality is not \\nlimited to only technical aspects of digital nomadism. The workplace and the physical \\nenvironment where a digital nomad is situated and works also constitutes as components of'),\n",
       " Document(metadata={'producer': 'Microsoft® Word 2016', 'creator': 'Microsoft® Word 2016', 'creationdate': '2022-10-04T10:12:13+11:00', 'author': 'Najmaei, Arash (MB)', 'moddate': '2022-10-04T10:12:13+11:00', 'source': 'pdf/digital nomadism.pdf', 'total_pages': 6, 'page': 3, 'page_label': '4'}, page_content='its material identity. The social practice is however boarder and covers all human-enabled or \\nperformed agencies or routines that make a system functions. In the context of digital \\nnomadism, the human-centric of a nomadic life and the way a nomad organises his or her life \\nwhile balancing it with work constitute social practice. These includes routines, norms, policies, \\ncommunications and personal as well as professional activities that are crucial to perform jobs \\nand sustain the nomadic lifestyle. Taken together, a socio -materialistic view of digital \\nnomadism suggests that digital and non -digital tools and technologies as well as human -\\ncantered agency and different policies and behaviours work in tandem to create a  \\nreconciliation of work -specific requirements with the necessary conditions of a nomadic \\nlifestyle.   \\nThis view is important in two ways. First, it portrays digital nomadism as a complex system of \\nsocial and material factors which work together in order to create a unique lifestyle. This view \\nis, therefore, a theoretically robust approach to study different aspects of digital nomadism. \\nSecond, it offers three intertwined directions to study the formation, functionality, and \\nconsequences of adopting digitally nomadic lifestyle. These three include, the materiality side, \\nthe social practice, and the fusion of these two in the form of a unified socio -materialistic \\nphenomenon. \\n \\nConclusion   \\nDigital nomadism has become one of the most talked-about buzz words recently. Despite its \\nrising popularity, little research has been done on the theoretical foundation of this \\nphenomenon. In this short essay we used the theoretical lens of socio -materiality and \\nproposed a socio-materialistic view of digital nomadism. We argued that the technological and \\nsocial sides of digital nomadism can’t be separated.  We also outlined why this view matters. \\nWe hope other researchers interested in this phenomenon see benefits in this approach and \\nbuild on our conceptualization to advance research on this interesting phenomenon.'),\n",
       " Document(metadata={'producer': 'Microsoft® Word 2016', 'creator': 'Microsoft® Word 2016', 'creationdate': '2022-10-04T10:12:13+11:00', 'author': 'Najmaei, Arash (MB)', 'moddate': '2022-10-04T10:12:13+11:00', 'source': 'pdf/digital nomadism.pdf', 'total_pages': 6, 'page': 4, 'page_label': '5'}, page_content='References  \\n \\nBozzi, N. (2020). #digitalnomads, #solotravellers, #remoteworkers: A Cultural Critique of the \\nTraveling Entrepreneur on Instagram. Social Media + Society, 6(2). \\ndoi:10.1177/2056305120926644 \\nIbarra, B., & Kalich, B. (2022). The nomadic curriculum for the digital age. Currere Exchange \\nJournal, 6(1), 56–62.  \\nJain, A., & Srinivasan, V. (2022). What happened to the work I was doing? Sociomateriality \\nand cognitive tensions in technology work. Organizational Dynamics. \\ndoi:10.1016/j.orgdyn.2022.100901 \\nKim, Y., & Yang, E. (2020). Theoretical understanding of sociomateriality in workplace \\nstudies. Facilities, 38(13/14), 927-942. doi:10.1108/f-10-2019-0112 \\nLeonardi, P. M. (2013). Theoretical foundations for the study of sociomateriality. Information \\nand Organization, 23(2), 59-76.  \\nMakimoto, T., & Manners, D. (1997). Digital Nomad: Wiley. \\nMüller, A. (2016). The digital nomad: Buzzword or research category? Transnational Social \\nReview, 6(3), 344-348. doi:10.1080/21931674.2016.1229930 \\nOrlikowski, W. J., & Scott, S. V. (2008). 10 Sociomateriality: Challenging the Separation of \\nTechnology, Work and Organization. The Academy of Management Annals, 2(1), \\n433-474. doi:10.5465/19416520802211644 \\nReichenberger, I. (2017). Digital nomads: A quest for holistic freedom in work and leisure. \\nAnnals of Leisure Research, 364–380.  \\nSchlagwein, D. (2018). The history of digital nomadism. In 6th International Workshop on the \\nChanging Nature of Work (CNOW), San Francisco (Vol. 13).'),\n",
       " Document(metadata={'producer': 'Microsoft® Word 2016', 'creator': 'Microsoft® Word 2016', 'creationdate': '2022-10-04T10:12:13+11:00', 'author': 'Najmaei, Arash (MB)', 'moddate': '2022-10-04T10:12:13+11:00', 'source': 'pdf/digital nomadism.pdf', 'total_pages': 6, 'page': 5, 'page_label': '6'}, page_content='Stanko, T. L., Dahm, P. C., Lahneman, B., & Richter, J. (2022). Navigating an identity \\nplayground: Using sociomateriality to build a theory of identity play. Organization \\nStudies, 43(1), 81-103.  \\nWoldoff, R. A., & Litchfield, R. C. (2021). Digital Nomads: In Search of Freedom, \\nCommunity, and Meaningful Work in the New Economy: Oxford University Press. \\n \\n \\n \\n \\nDr Zahra Sadeghinejad is an Assistant Professor at UBSS and a Fellow of the Centre for \\nScholarship and Research \\n \\nDr Arash Najmaei is a Fellow of the Centre for Scholarship and Research')]"
      ]
     },
     "execution_count": 13,
     "metadata": {},
     "output_type": "execute_result"
    }
   ],
   "source": [
    "data"
   ]
  },
  {
   "cell_type": "code",
   "execution_count": 14,
   "metadata": {},
   "outputs": [
    {
     "data": {
      "text/plain": [
       "6"
      ]
     },
     "execution_count": 14,
     "metadata": {},
     "output_type": "execute_result"
    }
   ],
   "source": [
    "len(data)"
   ]
  },
  {
   "cell_type": "code",
   "execution_count": 15,
   "metadata": {},
   "outputs": [],
   "source": [
    "question_gen = \"\"\n",
    "for page in data:\n",
    "    question_gen += page.page_content"
   ]
  },
  {
   "cell_type": "code",
   "execution_count": 16,
   "metadata": {},
   "outputs": [
    {
     "data": {
      "text/plain": [
       "'A Socio-Materialistic View of Digital Nomadism \\n \\nZahra Sadeghinejad \\nArash Najmaei \\n \\nSeptember 2022 \\n \\nDigital nomadism has become one of the most significant social phenomena in the last few \\nyears. Preponderance of scholarly and anecdotal evidence about the rise of digitally nomadic \\nlifer style and its role of transforming societies, markets, and industries suggest that this \\nphenomenon deserve more systematic explanation. To this end, we borrow the socio -\\nmateriality theory from the field of organisation scien ce to propose a socio-materialistic view \\nof digital nomadism. Our conceptualization suggests that digital nomadism is best understood \\nas a form of continuous emergent of social life of a nomad and through his or her use of digital \\nmaterial. The socio -materiality of digital nomadism hence offers a new view of the \\nphenomenon as an inseparable entity that is social and material. \\n \\nDefining digital nomadism  \\nNomads are people who move often to different locations. Traditionally, they were motivated \\nby the need to obtain food, find pasture for livestock, or otherwise make a living. While a grey \\nzone exists in defining nomads and migrants, nomads move more often or move continuously \\nas a lifestyle choice (Schlagwein, 2018). Among traditional nomads, we can distinguish hunter-\\ngatherers (moving in their search for food), pastoral nomads (moving with their livestock, such \\nas the Bedouin) and peripatetic nomads (moving to sell their craft, such as the Sinti) \\n(Schlagwein, 2018).  \\nDigital nomadism departs from these traditional forms by emphasizing the central role of digital \\ntechnologies and the need to seek digital freedom which is enabled by internet. In 1997,Makimoto and Manners recognised the power of internet in transforming lives in their \\nmanifesto called “digital nomad” in which they described the future of work as:  \\n“At the moment, we do not have the ability to communicate by video link between any \\ntwo points on the planet. But we will have it, and it will be generally affordable, within ten \\nyears. We will be able to see people, documents, and pictures wherever they happen to \\nbe, from anywhere we happen to be” (p. 5f). \\nFast forward 25 years, prophesy of Makimoto  and Manners has turned into a global reality. \\nDigital nomadism is the offspring of the freedom that global digital technology and its rapid \\nadvancement and widespread adoption brings about. As described by Reichenberger (2017) \\nfreedom in the information era appears “in a variety of contexts, including freedom within paid \\nemployment, freedom relating to location independence and freedom to pursue self -\\ndevelopment” (p. 9).  Digital nomads are, then those mobile laborers who seek a new mode \\nof work-life reconciliation (Müller, 2016) by adopting a nomadic lifestyle while working remotely \\nby leveraging digital technologies. As such, digital nomads are also called “ neo-nomads,” \\n“global nomads,” “modern nomads,” or “new nomads” (Müller, 2016).  \\nThe lifestyle of th e digital nomad unifies different aspects of  multi-directional technology -\\nenabled mobility and location-independent work on a new social level that may lead to a new \\nglobal culture or a universal social system (Bozzi, 2020; Ibarra & Kalich, 2022; Müller, 2 016; \\nWoldoff & Litchfield, 2021) . As such, a deeper understanding of the genesis of digital \\nnomadism is warranted. To this end, we can distinguish two forces that play pivotal role in the \\nformation of digital nomadism: 1) digital technology 2) socio -cultural style of a nomadic life. \\nThe question is, then, how these forces come together to explain the genesis of digital \\nnomadism? \\n \\nSocio-materiality theoryThe socio-materiality theory is a theory of the interaction between technology (material) and \\norganisation of societies in which different technologies are used. This theory aims to explain \\nthe state that is simultaneously social and material in the world (Kim & Yang, 2020).  \\nTraditionally, the distinct and direct use of technology in societies was either ab sent or only \\nimplicitly discussed. The separation of technology and organisation of societies was \\nparadoxical and problematic due to the rising importance of technologies in transforming \\nexisting and shaping new social norms and structures (Jain & Srinivasan, 2022; Orlikowski & \\nScott, 2008; Stanko, Dahm, Lahneman, & Richter, 2022) . Therefore, the socio -materiality \\ntheory gained momentum as a theoretical view that replaces the separation of technologies \\nfrom societies with a fusion of them  (Orlikowski & Scot t, 2008) . In this way, the socio -\\nmateriality perspective rests on the premise that social and technological aspects of various \\nsocial systems and phenomena are interlinked and inseparable in a given context. This \\ninseparability creates constitutive entangl ement and recursive intertwining which creates \\nunique forces for the system to adapt and evolve (Jain & Srinivasan, 2022). Therefore, a socio-\\nmaterialistic view of a given social or organisational phenomenon suggests that all materiality \\nis created, interpreted, and used based on social practice, and all social practice is affected \\nby materiality (Leonardi, 2013). We now use this view to propose a socio-materialistic view of \\ndigital nomadism.  \\n \\n A socio-materialistic view of digital nomadism and why it matters \\nIn a socio-materialistic view, materiality refers to the qualities of material agencies including \\nall technological tools, methods, techniques and essentially all non -human elements \\nperforming specific functions. Considering this, the digital and physi cal aspects of a digital \\nnomadic lifestyle form the inseparable materialistic fabric of it. Furthermore, materiality is not \\nlimited to only technical aspects of digital nomadism. The workplace and the physical \\nenvironment where a digital nomad is situated and works also constitutes as components ofits material identity. The social practice is however boarder and covers all human-enabled or \\nperformed agencies or routines that make a system functions. In the context of digital \\nnomadism, the human-centric of a nomadic life and the way a nomad organises his or her life \\nwhile balancing it with work constitute social practice. These includes routines, norms, policies, \\ncommunications and personal as well as professional activities that are crucial to perform jobs \\nand sustain the nomadic lifestyle. Taken together, a socio -materialistic view of digital \\nnomadism suggests that digital and non -digital tools and technologies as well as human -\\ncantered agency and different policies and behaviours work in tandem to create a  \\nreconciliation of work -specific requirements with the necessary conditions of a nomadic \\nlifestyle.   \\nThis view is important in two ways. First, it portrays digital nomadism as a complex system of \\nsocial and material factors which work together in order to create a unique lifestyle. This view \\nis, therefore, a theoretically robust approach to study different aspects of digital nomadism. \\nSecond, it offers three intertwined directions to study the formation, functionality, and \\nconsequences of adopting digitally nomadic lifestyle. These three include, the materiality side, \\nthe social practice, and the fusion of these two in the form of a unified socio -materialistic \\nphenomenon. \\n \\nConclusion   \\nDigital nomadism has become one of the most talked-about buzz words recently. Despite its \\nrising popularity, little research has been done on the theoretical foundation of this \\nphenomenon. In this short essay we used the theoretical lens of socio -materiality and \\nproposed a socio-materialistic view of digital nomadism. We argued that the technological and \\nsocial sides of digital nomadism can’t be separated.  We also outlined why this view matters. \\nWe hope other researchers interested in this phenomenon see benefits in this approach and \\nbuild on our conceptualization to advance research on this interesting phenomenon.References  \\n \\nBozzi, N. (2020). #digitalnomads, #solotravellers, #remoteworkers: A Cultural Critique of the \\nTraveling Entrepreneur on Instagram. Social Media + Society, 6(2). \\ndoi:10.1177/2056305120926644 \\nIbarra, B., & Kalich, B. (2022). The nomadic curriculum for the digital age. Currere Exchange \\nJournal, 6(1), 56–62.  \\nJain, A., & Srinivasan, V. (2022). What happened to the work I was doing? Sociomateriality \\nand cognitive tensions in technology work. Organizational Dynamics. \\ndoi:10.1016/j.orgdyn.2022.100901 \\nKim, Y., & Yang, E. (2020). Theoretical understanding of sociomateriality in workplace \\nstudies. Facilities, 38(13/14), 927-942. doi:10.1108/f-10-2019-0112 \\nLeonardi, P. M. (2013). Theoretical foundations for the study of sociomateriality. Information \\nand Organization, 23(2), 59-76.  \\nMakimoto, T., & Manners, D. (1997). Digital Nomad: Wiley. \\nMüller, A. (2016). The digital nomad: Buzzword or research category? Transnational Social \\nReview, 6(3), 344-348. doi:10.1080/21931674.2016.1229930 \\nOrlikowski, W. J., & Scott, S. V. (2008). 10 Sociomateriality: Challenging the Separation of \\nTechnology, Work and Organization. The Academy of Management Annals, 2(1), \\n433-474. doi:10.5465/19416520802211644 \\nReichenberger, I. (2017). Digital nomads: A quest for holistic freedom in work and leisure. \\nAnnals of Leisure Research, 364–380.  \\nSchlagwein, D. (2018). The history of digital nomadism. In 6th International Workshop on the \\nChanging Nature of Work (CNOW), San Francisco (Vol. 13).Stanko, T. L., Dahm, P. C., Lahneman, B., & Richter, J. (2022). Navigating an identity \\nplayground: Using sociomateriality to build a theory of identity play. Organization \\nStudies, 43(1), 81-103.  \\nWoldoff, R. A., & Litchfield, R. C. (2021). Digital Nomads: In Search of Freedom, \\nCommunity, and Meaningful Work in the New Economy: Oxford University Press. \\n \\n \\n \\n \\nDr Zahra Sadeghinejad is an Assistant Professor at UBSS and a Fellow of the Centre for \\nScholarship and Research \\n \\nDr Arash Najmaei is a Fellow of the Centre for Scholarship and Research'"
      ]
     },
     "execution_count": 16,
     "metadata": {},
     "output_type": "execute_result"
    }
   ],
   "source": [
    "question_gen"
   ]
  },
  {
   "cell_type": "code",
   "execution_count": 17,
   "metadata": {},
   "outputs": [],
   "source": [
    "from langchain.text_splitter import TokenTextSplitter"
   ]
  },
  {
   "cell_type": "code",
   "execution_count": 18,
   "metadata": {},
   "outputs": [],
   "source": [
    "splitter_ques_gen = TokenTextSplitter(\n",
    "    model_name= \"gpt-3.5-turbo\",\n",
    "    chunk_size= 10000,\n",
    "    chunk_overlap = 200\n",
    ")"
   ]
  },
  {
   "cell_type": "code",
   "execution_count": 19,
   "metadata": {},
   "outputs": [],
   "source": [
    "chunk_ques_gen = splitter_ques_gen.split_text(question_gen)"
   ]
  },
  {
   "cell_type": "code",
   "execution_count": 20,
   "metadata": {},
   "outputs": [
    {
     "data": {
      "text/plain": [
       "['A Socio-Materialistic View of Digital Nomadism \\n \\nZahra Sadeghinejad \\nArash Najmaei \\n \\nSeptember 2022 \\n \\nDigital nomadism has become one of the most significant social phenomena in the last few \\nyears. Preponderance of scholarly and anecdotal evidence about the rise of digitally nomadic \\nlifer style and its role of transforming societies, markets, and industries suggest that this \\nphenomenon deserve more systematic explanation. To this end, we borrow the socio -\\nmateriality theory from the field of organisation scien ce to propose a socio-materialistic view \\nof digital nomadism. Our conceptualization suggests that digital nomadism is best understood \\nas a form of continuous emergent of social life of a nomad and through his or her use of digital \\nmaterial. The socio -materiality of digital nomadism hence offers a new view of the \\nphenomenon as an inseparable entity that is social and material. \\n \\nDefining digital nomadism  \\nNomads are people who move often to different locations. Traditionally, they were motivated \\nby the need to obtain food, find pasture for livestock, or otherwise make a living. While a grey \\nzone exists in defining nomads and migrants, nomads move more often or move continuously \\nas a lifestyle choice (Schlagwein, 2018). Among traditional nomads, we can distinguish hunter-\\ngatherers (moving in their search for food), pastoral nomads (moving with their livestock, such \\nas the Bedouin) and peripatetic nomads (moving to sell their craft, such as the Sinti) \\n(Schlagwein, 2018).  \\nDigital nomadism departs from these traditional forms by emphasizing the central role of digital \\ntechnologies and the need to seek digital freedom which is enabled by internet. In 1997,Makimoto and Manners recognised the power of internet in transforming lives in their \\nmanifesto called “digital nomad” in which they described the future of work as:  \\n“At the moment, we do not have the ability to communicate by video link between any \\ntwo points on the planet. But we will have it, and it will be generally affordable, within ten \\nyears. We will be able to see people, documents, and pictures wherever they happen to \\nbe, from anywhere we happen to be” (p. 5f). \\nFast forward 25 years, prophesy of Makimoto  and Manners has turned into a global reality. \\nDigital nomadism is the offspring of the freedom that global digital technology and its rapid \\nadvancement and widespread adoption brings about. As described by Reichenberger (2017) \\nfreedom in the information era appears “in a variety of contexts, including freedom within paid \\nemployment, freedom relating to location independence and freedom to pursue self -\\ndevelopment” (p. 9).  Digital nomads are, then those mobile laborers who seek a new mode \\nof work-life reconciliation (Müller, 2016) by adopting a nomadic lifestyle while working remotely \\nby leveraging digital technologies. As such, digital nomads are also called “ neo-nomads,” \\n“global nomads,” “modern nomads,” or “new nomads” (Müller, 2016).  \\nThe lifestyle of th e digital nomad unifies different aspects of  multi-directional technology -\\nenabled mobility and location-independent work on a new social level that may lead to a new \\nglobal culture or a universal social system (Bozzi, 2020; Ibarra & Kalich, 2022; Müller, 2 016; \\nWoldoff & Litchfield, 2021) . As such, a deeper understanding of the genesis of digital \\nnomadism is warranted. To this end, we can distinguish two forces that play pivotal role in the \\nformation of digital nomadism: 1) digital technology 2) socio -cultural style of a nomadic life. \\nThe question is, then, how these forces come together to explain the genesis of digital \\nnomadism? \\n \\nSocio-materiality theoryThe socio-materiality theory is a theory of the interaction between technology (material) and \\norganisation of societies in which different technologies are used. This theory aims to explain \\nthe state that is simultaneously social and material in the world (Kim & Yang, 2020).  \\nTraditionally, the distinct and direct use of technology in societies was either ab sent or only \\nimplicitly discussed. The separation of technology and organisation of societies was \\nparadoxical and problematic due to the rising importance of technologies in transforming \\nexisting and shaping new social norms and structures (Jain & Srinivasan, 2022; Orlikowski & \\nScott, 2008; Stanko, Dahm, Lahneman, & Richter, 2022) . Therefore, the socio -materiality \\ntheory gained momentum as a theoretical view that replaces the separation of technologies \\nfrom societies with a fusion of them  (Orlikowski & Scot t, 2008) . In this way, the socio -\\nmateriality perspective rests on the premise that social and technological aspects of various \\nsocial systems and phenomena are interlinked and inseparable in a given context. This \\ninseparability creates constitutive entangl ement and recursive intertwining which creates \\nunique forces for the system to adapt and evolve (Jain & Srinivasan, 2022). Therefore, a socio-\\nmaterialistic view of a given social or organisational phenomenon suggests that all materiality \\nis created, interpreted, and used based on social practice, and all social practice is affected \\nby materiality (Leonardi, 2013). We now use this view to propose a socio-materialistic view of \\ndigital nomadism.  \\n \\n A socio-materialistic view of digital nomadism and why it matters \\nIn a socio-materialistic view, materiality refers to the qualities of material agencies including \\nall technological tools, methods, techniques and essentially all non -human elements \\nperforming specific functions. Considering this, the digital and physi cal aspects of a digital \\nnomadic lifestyle form the inseparable materialistic fabric of it. Furthermore, materiality is not \\nlimited to only technical aspects of digital nomadism. The workplace and the physical \\nenvironment where a digital nomad is situated and works also constitutes as components ofits material identity. The social practice is however boarder and covers all human-enabled or \\nperformed agencies or routines that make a system functions. In the context of digital \\nnomadism, the human-centric of a nomadic life and the way a nomad organises his or her life \\nwhile balancing it with work constitute social practice. These includes routines, norms, policies, \\ncommunications and personal as well as professional activities that are crucial to perform jobs \\nand sustain the nomadic lifestyle. Taken together, a socio -materialistic view of digital \\nnomadism suggests that digital and non -digital tools and technologies as well as human -\\ncantered agency and different policies and behaviours work in tandem to create a  \\nreconciliation of work -specific requirements with the necessary conditions of a nomadic \\nlifestyle.   \\nThis view is important in two ways. First, it portrays digital nomadism as a complex system of \\nsocial and material factors which work together in order to create a unique lifestyle. This view \\nis, therefore, a theoretically robust approach to study different aspects of digital nomadism. \\nSecond, it offers three intertwined directions to study the formation, functionality, and \\nconsequences of adopting digitally nomadic lifestyle. These three include, the materiality side, \\nthe social practice, and the fusion of these two in the form of a unified socio -materialistic \\nphenomenon. \\n \\nConclusion   \\nDigital nomadism has become one of the most talked-about buzz words recently. Despite its \\nrising popularity, little research has been done on the theoretical foundation of this \\nphenomenon. In this short essay we used the theoretical lens of socio -materiality and \\nproposed a socio-materialistic view of digital nomadism. We argued that the technological and \\nsocial sides of digital nomadism can’t be separated.  We also outlined why this view matters. \\nWe hope other researchers interested in this phenomenon see benefits in this approach and \\nbuild on our conceptualization to advance research on this interesting phenomenon.References  \\n \\nBozzi, N. (2020). #digitalnomads, #solotravellers, #remoteworkers: A Cultural Critique of the \\nTraveling Entrepreneur on Instagram. Social Media + Society, 6(2). \\ndoi:10.1177/2056305120926644 \\nIbarra, B., & Kalich, B. (2022). The nomadic curriculum for the digital age. Currere Exchange \\nJournal, 6(1), 56–62.  \\nJain, A., & Srinivasan, V. (2022). What happened to the work I was doing? Sociomateriality \\nand cognitive tensions in technology work. Organizational Dynamics. \\ndoi:10.1016/j.orgdyn.2022.100901 \\nKim, Y., & Yang, E. (2020). Theoretical understanding of sociomateriality in workplace \\nstudies. Facilities, 38(13/14), 927-942. doi:10.1108/f-10-2019-0112 \\nLeonardi, P. M. (2013). Theoretical foundations for the study of sociomateriality. Information \\nand Organization, 23(2), 59-76.  \\nMakimoto, T., & Manners, D. (1997). Digital Nomad: Wiley. \\nMüller, A. (2016). The digital nomad: Buzzword or research category? Transnational Social \\nReview, 6(3), 344-348. doi:10.1080/21931674.2016.1229930 \\nOrlikowski, W. J., & Scott, S. V. (2008). 10 Sociomateriality: Challenging the Separation of \\nTechnology, Work and Organization. The Academy of Management Annals, 2(1), \\n433-474. doi:10.5465/19416520802211644 \\nReichenberger, I. (2017). Digital nomads: A quest for holistic freedom in work and leisure. \\nAnnals of Leisure Research, 364–380.  \\nSchlagwein, D. (2018). The history of digital nomadism. In 6th International Workshop on the \\nChanging Nature of Work (CNOW), San Francisco (Vol. 13).Stanko, T. L., Dahm, P. C., Lahneman, B., & Richter, J. (2022). Navigating an identity \\nplayground: Using sociomateriality to build a theory of identity play. Organization \\nStudies, 43(1), 81-103.  \\nWoldoff, R. A., & Litchfield, R. C. (2021). Digital Nomads: In Search of Freedom, \\nCommunity, and Meaningful Work in the New Economy: Oxford University Press. \\n \\n \\n \\n \\nDr Zahra Sadeghinejad is an Assistant Professor at UBSS and a Fellow of the Centre for \\nScholarship and Research \\n \\nDr Arash Najmaei is a Fellow of the Centre for Scholarship and Research']"
      ]
     },
     "execution_count": 20,
     "metadata": {},
     "output_type": "execute_result"
    }
   ],
   "source": [
    "chunk_ques_gen"
   ]
  },
  {
   "cell_type": "code",
   "execution_count": 21,
   "metadata": {},
   "outputs": [
    {
     "data": {
      "text/plain": [
       "1"
      ]
     },
     "execution_count": 21,
     "metadata": {},
     "output_type": "execute_result"
    }
   ],
   "source": [
    "len(chunk_ques_gen)"
   ]
  },
  {
   "cell_type": "code",
   "execution_count": 22,
   "metadata": {},
   "outputs": [
    {
     "data": {
      "text/plain": [
       "str"
      ]
     },
     "execution_count": 22,
     "metadata": {},
     "output_type": "execute_result"
    }
   ],
   "source": [
    "type(chunk_ques_gen[0])"
   ]
  },
  {
   "cell_type": "code",
   "execution_count": 23,
   "metadata": {},
   "outputs": [],
   "source": [
    "from langchain.docstore.document import Document"
   ]
  },
  {
   "cell_type": "code",
   "execution_count": 24,
   "metadata": {},
   "outputs": [],
   "source": [
    "document_ques_gen = [Document(page_content = t) for t in chunk_ques_gen]"
   ]
  },
  {
   "cell_type": "code",
   "execution_count": 25,
   "metadata": {},
   "outputs": [
    {
     "data": {
      "text/plain": [
       "[Document(metadata={}, page_content='A Socio-Materialistic View of Digital Nomadism \\n \\nZahra Sadeghinejad \\nArash Najmaei \\n \\nSeptember 2022 \\n \\nDigital nomadism has become one of the most significant social phenomena in the last few \\nyears. Preponderance of scholarly and anecdotal evidence about the rise of digitally nomadic \\nlifer style and its role of transforming societies, markets, and industries suggest that this \\nphenomenon deserve more systematic explanation. To this end, we borrow the socio -\\nmateriality theory from the field of organisation scien ce to propose a socio-materialistic view \\nof digital nomadism. Our conceptualization suggests that digital nomadism is best understood \\nas a form of continuous emergent of social life of a nomad and through his or her use of digital \\nmaterial. The socio -materiality of digital nomadism hence offers a new view of the \\nphenomenon as an inseparable entity that is social and material. \\n \\nDefining digital nomadism  \\nNomads are people who move often to different locations. Traditionally, they were motivated \\nby the need to obtain food, find pasture for livestock, or otherwise make a living. While a grey \\nzone exists in defining nomads and migrants, nomads move more often or move continuously \\nas a lifestyle choice (Schlagwein, 2018). Among traditional nomads, we can distinguish hunter-\\ngatherers (moving in their search for food), pastoral nomads (moving with their livestock, such \\nas the Bedouin) and peripatetic nomads (moving to sell their craft, such as the Sinti) \\n(Schlagwein, 2018).  \\nDigital nomadism departs from these traditional forms by emphasizing the central role of digital \\ntechnologies and the need to seek digital freedom which is enabled by internet. In 1997,Makimoto and Manners recognised the power of internet in transforming lives in their \\nmanifesto called “digital nomad” in which they described the future of work as:  \\n“At the moment, we do not have the ability to communicate by video link between any \\ntwo points on the planet. But we will have it, and it will be generally affordable, within ten \\nyears. We will be able to see people, documents, and pictures wherever they happen to \\nbe, from anywhere we happen to be” (p. 5f). \\nFast forward 25 years, prophesy of Makimoto  and Manners has turned into a global reality. \\nDigital nomadism is the offspring of the freedom that global digital technology and its rapid \\nadvancement and widespread adoption brings about. As described by Reichenberger (2017) \\nfreedom in the information era appears “in a variety of contexts, including freedom within paid \\nemployment, freedom relating to location independence and freedom to pursue self -\\ndevelopment” (p. 9).  Digital nomads are, then those mobile laborers who seek a new mode \\nof work-life reconciliation (Müller, 2016) by adopting a nomadic lifestyle while working remotely \\nby leveraging digital technologies. As such, digital nomads are also called “ neo-nomads,” \\n“global nomads,” “modern nomads,” or “new nomads” (Müller, 2016).  \\nThe lifestyle of th e digital nomad unifies different aspects of  multi-directional technology -\\nenabled mobility and location-independent work on a new social level that may lead to a new \\nglobal culture or a universal social system (Bozzi, 2020; Ibarra & Kalich, 2022; Müller, 2 016; \\nWoldoff & Litchfield, 2021) . As such, a deeper understanding of the genesis of digital \\nnomadism is warranted. To this end, we can distinguish two forces that play pivotal role in the \\nformation of digital nomadism: 1) digital technology 2) socio -cultural style of a nomadic life. \\nThe question is, then, how these forces come together to explain the genesis of digital \\nnomadism? \\n \\nSocio-materiality theoryThe socio-materiality theory is a theory of the interaction between technology (material) and \\norganisation of societies in which different technologies are used. This theory aims to explain \\nthe state that is simultaneously social and material in the world (Kim & Yang, 2020).  \\nTraditionally, the distinct and direct use of technology in societies was either ab sent or only \\nimplicitly discussed. The separation of technology and organisation of societies was \\nparadoxical and problematic due to the rising importance of technologies in transforming \\nexisting and shaping new social norms and structures (Jain & Srinivasan, 2022; Orlikowski & \\nScott, 2008; Stanko, Dahm, Lahneman, & Richter, 2022) . Therefore, the socio -materiality \\ntheory gained momentum as a theoretical view that replaces the separation of technologies \\nfrom societies with a fusion of them  (Orlikowski & Scot t, 2008) . In this way, the socio -\\nmateriality perspective rests on the premise that social and technological aspects of various \\nsocial systems and phenomena are interlinked and inseparable in a given context. This \\ninseparability creates constitutive entangl ement and recursive intertwining which creates \\nunique forces for the system to adapt and evolve (Jain & Srinivasan, 2022). Therefore, a socio-\\nmaterialistic view of a given social or organisational phenomenon suggests that all materiality \\nis created, interpreted, and used based on social practice, and all social practice is affected \\nby materiality (Leonardi, 2013). We now use this view to propose a socio-materialistic view of \\ndigital nomadism.  \\n \\n A socio-materialistic view of digital nomadism and why it matters \\nIn a socio-materialistic view, materiality refers to the qualities of material agencies including \\nall technological tools, methods, techniques and essentially all non -human elements \\nperforming specific functions. Considering this, the digital and physi cal aspects of a digital \\nnomadic lifestyle form the inseparable materialistic fabric of it. Furthermore, materiality is not \\nlimited to only technical aspects of digital nomadism. The workplace and the physical \\nenvironment where a digital nomad is situated and works also constitutes as components ofits material identity. The social practice is however boarder and covers all human-enabled or \\nperformed agencies or routines that make a system functions. In the context of digital \\nnomadism, the human-centric of a nomadic life and the way a nomad organises his or her life \\nwhile balancing it with work constitute social practice. These includes routines, norms, policies, \\ncommunications and personal as well as professional activities that are crucial to perform jobs \\nand sustain the nomadic lifestyle. Taken together, a socio -materialistic view of digital \\nnomadism suggests that digital and non -digital tools and technologies as well as human -\\ncantered agency and different policies and behaviours work in tandem to create a  \\nreconciliation of work -specific requirements with the necessary conditions of a nomadic \\nlifestyle.   \\nThis view is important in two ways. First, it portrays digital nomadism as a complex system of \\nsocial and material factors which work together in order to create a unique lifestyle. This view \\nis, therefore, a theoretically robust approach to study different aspects of digital nomadism. \\nSecond, it offers three intertwined directions to study the formation, functionality, and \\nconsequences of adopting digitally nomadic lifestyle. These three include, the materiality side, \\nthe social practice, and the fusion of these two in the form of a unified socio -materialistic \\nphenomenon. \\n \\nConclusion   \\nDigital nomadism has become one of the most talked-about buzz words recently. Despite its \\nrising popularity, little research has been done on the theoretical foundation of this \\nphenomenon. In this short essay we used the theoretical lens of socio -materiality and \\nproposed a socio-materialistic view of digital nomadism. We argued that the technological and \\nsocial sides of digital nomadism can’t be separated.  We also outlined why this view matters. \\nWe hope other researchers interested in this phenomenon see benefits in this approach and \\nbuild on our conceptualization to advance research on this interesting phenomenon.References  \\n \\nBozzi, N. (2020). #digitalnomads, #solotravellers, #remoteworkers: A Cultural Critique of the \\nTraveling Entrepreneur on Instagram. Social Media + Society, 6(2). \\ndoi:10.1177/2056305120926644 \\nIbarra, B., & Kalich, B. (2022). The nomadic curriculum for the digital age. Currere Exchange \\nJournal, 6(1), 56–62.  \\nJain, A., & Srinivasan, V. (2022). What happened to the work I was doing? Sociomateriality \\nand cognitive tensions in technology work. Organizational Dynamics. \\ndoi:10.1016/j.orgdyn.2022.100901 \\nKim, Y., & Yang, E. (2020). Theoretical understanding of sociomateriality in workplace \\nstudies. Facilities, 38(13/14), 927-942. doi:10.1108/f-10-2019-0112 \\nLeonardi, P. M. (2013). Theoretical foundations for the study of sociomateriality. Information \\nand Organization, 23(2), 59-76.  \\nMakimoto, T., & Manners, D. (1997). Digital Nomad: Wiley. \\nMüller, A. (2016). The digital nomad: Buzzword or research category? Transnational Social \\nReview, 6(3), 344-348. doi:10.1080/21931674.2016.1229930 \\nOrlikowski, W. J., & Scott, S. V. (2008). 10 Sociomateriality: Challenging the Separation of \\nTechnology, Work and Organization. The Academy of Management Annals, 2(1), \\n433-474. doi:10.5465/19416520802211644 \\nReichenberger, I. (2017). Digital nomads: A quest for holistic freedom in work and leisure. \\nAnnals of Leisure Research, 364–380.  \\nSchlagwein, D. (2018). The history of digital nomadism. In 6th International Workshop on the \\nChanging Nature of Work (CNOW), San Francisco (Vol. 13).Stanko, T. L., Dahm, P. C., Lahneman, B., & Richter, J. (2022). Navigating an identity \\nplayground: Using sociomateriality to build a theory of identity play. Organization \\nStudies, 43(1), 81-103.  \\nWoldoff, R. A., & Litchfield, R. C. (2021). Digital Nomads: In Search of Freedom, \\nCommunity, and Meaningful Work in the New Economy: Oxford University Press. \\n \\n \\n \\n \\nDr Zahra Sadeghinejad is an Assistant Professor at UBSS and a Fellow of the Centre for \\nScholarship and Research \\n \\nDr Arash Najmaei is a Fellow of the Centre for Scholarship and Research')]"
      ]
     },
     "execution_count": 25,
     "metadata": {},
     "output_type": "execute_result"
    }
   ],
   "source": [
    "document_ques_gen"
   ]
  },
  {
   "cell_type": "code",
   "execution_count": 26,
   "metadata": {},
   "outputs": [
    {
     "data": {
      "text/plain": [
       "langchain_core.documents.base.Document"
      ]
     },
     "execution_count": 26,
     "metadata": {},
     "output_type": "execute_result"
    }
   ],
   "source": [
    "type(document_ques_gen[0])"
   ]
  },
  {
   "cell_type": "code",
   "execution_count": 27,
   "metadata": {},
   "outputs": [],
   "source": [
    "splitter_ans_gen = TokenTextSplitter(\n",
    "    model_name = 'gpt-3.5-turbo',\n",
    "    chunk_size = 1000,\n",
    "    chunk_overlap = 100\n",
    ")"
   ]
  },
  {
   "cell_type": "code",
   "execution_count": 28,
   "metadata": {},
   "outputs": [],
   "source": [
    "document_answer_gen = splitter_ans_gen.split_documents(\n",
    "    document_ques_gen\n",
    ")"
   ]
  },
  {
   "cell_type": "code",
   "execution_count": 29,
   "metadata": {},
   "outputs": [
    {
     "data": {
      "text/plain": [
       "[Document(metadata={}, page_content='A Socio-Materialistic View of Digital Nomadism \\n \\nZahra Sadeghinejad \\nArash Najmaei \\n \\nSeptember 2022 \\n \\nDigital nomadism has become one of the most significant social phenomena in the last few \\nyears. Preponderance of scholarly and anecdotal evidence about the rise of digitally nomadic \\nlifer style and its role of transforming societies, markets, and industries suggest that this \\nphenomenon deserve more systematic explanation. To this end, we borrow the socio -\\nmateriality theory from the field of organisation scien ce to propose a socio-materialistic view \\nof digital nomadism. Our conceptualization suggests that digital nomadism is best understood \\nas a form of continuous emergent of social life of a nomad and through his or her use of digital \\nmaterial. The socio -materiality of digital nomadism hence offers a new view of the \\nphenomenon as an inseparable entity that is social and material. \\n \\nDefining digital nomadism  \\nNomads are people who move often to different locations. Traditionally, they were motivated \\nby the need to obtain food, find pasture for livestock, or otherwise make a living. While a grey \\nzone exists in defining nomads and migrants, nomads move more often or move continuously \\nas a lifestyle choice (Schlagwein, 2018). Among traditional nomads, we can distinguish hunter-\\ngatherers (moving in their search for food), pastoral nomads (moving with their livestock, such \\nas the Bedouin) and peripatetic nomads (moving to sell their craft, such as the Sinti) \\n(Schlagwein, 2018).  \\nDigital nomadism departs from these traditional forms by emphasizing the central role of digital \\ntechnologies and the need to seek digital freedom which is enabled by internet. In 1997,Makimoto and Manners recognised the power of internet in transforming lives in their \\nmanifesto called “digital nomad” in which they described the future of work as:  \\n“At the moment, we do not have the ability to communicate by video link between any \\ntwo points on the planet. But we will have it, and it will be generally affordable, within ten \\nyears. We will be able to see people, documents, and pictures wherever they happen to \\nbe, from anywhere we happen to be” (p. 5f). \\nFast forward 25 years, prophesy of Makimoto  and Manners has turned into a global reality. \\nDigital nomadism is the offspring of the freedom that global digital technology and its rapid \\nadvancement and widespread adoption brings about. As described by Reichenberger (2017) \\nfreedom in the information era appears “in a variety of contexts, including freedom within paid \\nemployment, freedom relating to location independence and freedom to pursue self -\\ndevelopment” (p. 9).  Digital nomads are, then those mobile laborers who seek a new mode \\nof work-life reconciliation (Müller, 2016) by adopting a nomadic lifestyle while working remotely \\nby leveraging digital technologies. As such, digital nomads are also called “ neo-nomads,” \\n“global nomads,” “modern nomads,” or “new nomads” (Müller, 2016).  \\nThe lifestyle of th e digital nomad unifies different aspects of  multi-directional technology -\\nenabled mobility and location-independent work on a new social level that may lead to a new \\nglobal culture or a universal social system (Bozzi, 2020; Ibarra & Kalich, 2022; Müller, 2 016; \\nWoldoff & Litchfield, 2021) . As such, a deeper understanding of the genesis of digital \\nnomadism is warranted. To this end, we can distinguish two forces that play pivotal role in the \\nformation of digital nomadism: 1) digital technology 2) socio -cultural style of a nomadic life. \\nThe question is, then, how these forces come together to explain the genesis of digital \\nnomadism? \\n \\nSocio-materiality theoryThe socio-materiality theory is a theory of the interaction between technology (material) and \\norganisation of societies in which different technologies are used. This theory aims to explain \\nthe state that is simultaneously social and material in the world (Kim & Yang, 2020).  \\nTraditionally, the distinct and direct use of technology in societies was either ab sent or only \\nimplicitly discussed. The separation of technology and organisation of societies was \\nparadoxical and problematic due to the rising importance of technologies in transforming \\nexisting and shaping new social norms and structures (Jain & Srinivasan, 2022; Orlikowski & \\nScott, 2008; Stanko, Dahm,'),\n",
       " Document(metadata={}, page_content=' and material in the world (Kim & Yang, 2020).  \\nTraditionally, the distinct and direct use of technology in societies was either ab sent or only \\nimplicitly discussed. The separation of technology and organisation of societies was \\nparadoxical and problematic due to the rising importance of technologies in transforming \\nexisting and shaping new social norms and structures (Jain & Srinivasan, 2022; Orlikowski & \\nScott, 2008; Stanko, Dahm, Lahneman, & Richter, 2022) . Therefore, the socio -materiality \\ntheory gained momentum as a theoretical view that replaces the separation of technologies \\nfrom societies with a fusion of them  (Orlikowski & Scot t, 2008) . In this way, the socio -\\nmateriality perspective rests on the premise that social and technological aspects of various \\nsocial systems and phenomena are interlinked and inseparable in a given context. This \\ninseparability creates constitutive entangl ement and recursive intertwining which creates \\nunique forces for the system to adapt and evolve (Jain & Srinivasan, 2022). Therefore, a socio-\\nmaterialistic view of a given social or organisational phenomenon suggests that all materiality \\nis created, interpreted, and used based on social practice, and all social practice is affected \\nby materiality (Leonardi, 2013). We now use this view to propose a socio-materialistic view of \\ndigital nomadism.  \\n \\n A socio-materialistic view of digital nomadism and why it matters \\nIn a socio-materialistic view, materiality refers to the qualities of material agencies including \\nall technological tools, methods, techniques and essentially all non -human elements \\nperforming specific functions. Considering this, the digital and physi cal aspects of a digital \\nnomadic lifestyle form the inseparable materialistic fabric of it. Furthermore, materiality is not \\nlimited to only technical aspects of digital nomadism. The workplace and the physical \\nenvironment where a digital nomad is situated and works also constitutes as components ofits material identity. The social practice is however boarder and covers all human-enabled or \\nperformed agencies or routines that make a system functions. In the context of digital \\nnomadism, the human-centric of a nomadic life and the way a nomad organises his or her life \\nwhile balancing it with work constitute social practice. These includes routines, norms, policies, \\ncommunications and personal as well as professional activities that are crucial to perform jobs \\nand sustain the nomadic lifestyle. Taken together, a socio -materialistic view of digital \\nnomadism suggests that digital and non -digital tools and technologies as well as human -\\ncantered agency and different policies and behaviours work in tandem to create a  \\nreconciliation of work -specific requirements with the necessary conditions of a nomadic \\nlifestyle.   \\nThis view is important in two ways. First, it portrays digital nomadism as a complex system of \\nsocial and material factors which work together in order to create a unique lifestyle. This view \\nis, therefore, a theoretically robust approach to study different aspects of digital nomadism. \\nSecond, it offers three intertwined directions to study the formation, functionality, and \\nconsequences of adopting digitally nomadic lifestyle. These three include, the materiality side, \\nthe social practice, and the fusion of these two in the form of a unified socio -materialistic \\nphenomenon. \\n \\nConclusion   \\nDigital nomadism has become one of the most talked-about buzz words recently. Despite its \\nrising popularity, little research has been done on the theoretical foundation of this \\nphenomenon. In this short essay we used the theoretical lens of socio -materiality and \\nproposed a socio-materialistic view of digital nomadism. We argued that the technological and \\nsocial sides of digital nomadism can’t be separated.  We also outlined why this view matters. \\nWe hope other researchers interested in this phenomenon see benefits in this approach and \\nbuild on our conceptualization to advance research on this interesting phenomenon.References  \\n \\nBozzi, N. (2020). #digitalnomads, #solotravellers, #remoteworkers: A Cultural Critique of the \\nTraveling Entrepreneur on Instagram. Social Media + Society, 6(2). \\ndoi:10.1177/2056305120926644 \\nIbarra, B., & Kalich, B. (2022). The nomadic curriculum for the digital age. Currere Exchange \\nJournal, 6(1), 56–62.  \\nJain, A., & Srinivasan, V. (2022). What happened to the work I was doing? Sociomateriality \\nand cognitive tensions in technology work. Organizational Dynamics. \\ndoi:10.1016/j'),\n",
       " Document(metadata={}, page_content='2056305120926644 \\nIbarra, B., & Kalich, B. (2022). The nomadic curriculum for the digital age. Currere Exchange \\nJournal, 6(1), 56–62.  \\nJain, A., & Srinivasan, V. (2022). What happened to the work I was doing? Sociomateriality \\nand cognitive tensions in technology work. Organizational Dynamics. \\ndoi:10.1016/j.orgdyn.2022.100901 \\nKim, Y., & Yang, E. (2020). Theoretical understanding of sociomateriality in workplace \\nstudies. Facilities, 38(13/14), 927-942. doi:10.1108/f-10-2019-0112 \\nLeonardi, P. M. (2013). Theoretical foundations for the study of sociomateriality. Information \\nand Organization, 23(2), 59-76.  \\nMakimoto, T., & Manners, D. (1997). Digital Nomad: Wiley. \\nMüller, A. (2016). The digital nomad: Buzzword or research category? Transnational Social \\nReview, 6(3), 344-348. doi:10.1080/21931674.2016.1229930 \\nOrlikowski, W. J., & Scott, S. V. (2008). 10 Sociomateriality: Challenging the Separation of \\nTechnology, Work and Organization. The Academy of Management Annals, 2(1), \\n433-474. doi:10.5465/19416520802211644 \\nReichenberger, I. (2017). Digital nomads: A quest for holistic freedom in work and leisure. \\nAnnals of Leisure Research, 364–380.  \\nSchlagwein, D. (2018). The history of digital nomadism. In 6th International Workshop on the \\nChanging Nature of Work (CNOW), San Francisco (Vol. 13).Stanko, T. L., Dahm, P. C., Lahneman, B., & Richter, J. (2022). Navigating an identity \\nplayground: Using sociomateriality to build a theory of identity play. Organization \\nStudies, 43(1), 81-103.  \\nWoldoff, R. A., & Litchfield, R. C. (2021). Digital Nomads: In Search of Freedom, \\nCommunity, and Meaningful Work in the New Economy: Oxford University Press. \\n \\n \\n \\n \\nDr Zahra Sadeghinejad is an Assistant Professor at UBSS and a Fellow of the Centre for \\nScholarship and Research \\n \\nDr Arash Najmaei is a Fellow of the Centre for Scholarship and Research')]"
      ]
     },
     "execution_count": 29,
     "metadata": {},
     "output_type": "execute_result"
    }
   ],
   "source": [
    "document_answer_gen"
   ]
  },
  {
   "cell_type": "code",
   "execution_count": 30,
   "metadata": {},
   "outputs": [
    {
     "data": {
      "text/plain": [
       "3"
      ]
     },
     "execution_count": 30,
     "metadata": {},
     "output_type": "execute_result"
    }
   ],
   "source": [
    "len(document_answer_gen)"
   ]
  },
  {
   "cell_type": "code",
   "execution_count": 31,
   "metadata": {},
   "outputs": [],
   "source": [
    "from langchain.chat_models import ChatOpenAI"
   ]
  },
  {
   "cell_type": "code",
   "execution_count": 32,
   "metadata": {},
   "outputs": [
    {
     "name": "stderr",
     "output_type": "stream",
     "text": [
      "C:\\Users\\User\\AppData\\Local\\Temp\\ipykernel_2292\\1473655646.py:1: LangChainDeprecationWarning: The class `ChatOpenAI` was deprecated in LangChain 0.0.10 and will be removed in 1.0. An updated version of the class exists in the :class:`~langchain-openai package and should be used instead. To use it run `pip install -U :class:`~langchain-openai` and import as `from :class:`~langchain_openai import ChatOpenAI``.\n",
      "  llm_ques_gen_pipeline = ChatOpenAI(\n"
     ]
    }
   ],
   "source": [
    "llm_ques_gen_pipeline = ChatOpenAI(\n",
    "    model = 'gpt-3.5-turbo',\n",
    "    temperature = 0.3\n",
    ")"
   ]
  },
  {
   "cell_type": "code",
   "execution_count": 33,
   "metadata": {},
   "outputs": [],
   "source": [
    "prompt_template = \"\"\"\n",
    "You are and expart at creating question based on social civilization and documentations.\n",
    "Your goal is to prepare a candidate for their exam with history.\n",
    "You do this by asking questions about the text below:\n",
    "---------------------\n",
    "{text}\n",
    "---------------------\n",
    "Create questions that will prepare the candidate for their tests.\n",
    "Make r sure not to lose any important information.\n",
    "\n",
    "Questions:\n",
    "\"\"\""
   ]
  },
  {
   "cell_type": "code",
   "execution_count": 34,
   "metadata": {},
   "outputs": [],
   "source": [
    "from langchain.prompts import PromptTemplate"
   ]
  },
  {
   "cell_type": "code",
   "execution_count": 35,
   "metadata": {},
   "outputs": [],
   "source": [
    "PROMPT_QUESTIONS = PromptTemplate(template=prompt_template, input_variables=['text'])"
   ]
  },
  {
   "cell_type": "code",
   "execution_count": 36,
   "metadata": {},
   "outputs": [],
   "source": [
    "refine_template = (\"\"\"\n",
    "You are and expart at creating question based on social civilization and documentations.\n",
    "Your goal is to prepare a candidate for their exam with history.\n",
    "We have received some practice questions to a certain contexr:{existing_answer}.\n",
    "We have the option to refine the existing questions or add new ones.\n",
    "(only if necessary ) with some more context below.\n",
    "--------------\n",
    "{text}\n",
    "--------------\n",
    "\n",
    "Given the new context, refine the original questions in English.\n",
    "If the context is not helpful, please provide the original questions.\n",
    "\n",
    "Questions:\n",
    "\"\"\")\n"
   ]
  },
  {
   "cell_type": "code",
   "execution_count": 37,
   "metadata": {},
   "outputs": [],
   "source": [
    "REFINE_PROMPT_QUESTIONS = PromptTemplate(\n",
    "    input_variables=[\"existing_answer\", \"text\"],\n",
    "    template=refine_template,\n",
    ")"
   ]
  },
  {
   "cell_type": "code",
   "execution_count": 38,
   "metadata": {},
   "outputs": [],
   "source": [
    "from langchain.chains.summarize import load_summarize_chain"
   ]
  },
  {
   "cell_type": "code",
   "execution_count": 39,
   "metadata": {},
   "outputs": [],
   "source": [
    "ques_gen_chain = load_summarize_chain(llm = llm_ques_gen_pipeline, \n",
    "                                          chain_type = \"refine\", \n",
    "                                          verbose = True, \n",
    "                                          question_prompt=PROMPT_QUESTIONS, \n",
    "                                          refine_prompt=REFINE_PROMPT_QUESTIONS)"
   ]
  },
  {
   "cell_type": "code",
   "execution_count": 40,
   "metadata": {},
   "outputs": [
    {
     "name": "stderr",
     "output_type": "stream",
     "text": [
      "C:\\Users\\User\\AppData\\Local\\Temp\\ipykernel_2292\\3836958406.py:1: LangChainDeprecationWarning: The method `Chain.run` was deprecated in langchain 0.1.0 and will be removed in 1.0. Use :meth:`~invoke` instead.\n",
      "  ques = ques_gen_chain.run(document_ques_gen)\n"
     ]
    },
    {
     "name": "stdout",
     "output_type": "stream",
     "text": [
      "\n",
      "\n",
      "\u001b[1m> Entering new RefineDocumentsChain chain...\u001b[0m\n",
      "\n",
      "\n",
      "\u001b[1m> Entering new LLMChain chain...\u001b[0m\n",
      "Prompt after formatting:\n",
      "\u001b[32;1m\u001b[1;3m\n",
      "You are and expart at creating question based on social civilization and documentations.\n",
      "Your goal is to prepare a candidate for their exam with history.\n",
      "You do this by asking questions about the text below:\n",
      "---------------------\n",
      "A Socio-Materialistic View of Digital Nomadism \n",
      " \n",
      "Zahra Sadeghinejad \n",
      "Arash Najmaei \n",
      " \n",
      "September 2022 \n",
      " \n",
      "Digital nomadism has become one of the most significant social phenomena in the last few \n",
      "years. Preponderance of scholarly and anecdotal evidence about the rise of digitally nomadic \n",
      "lifer style and its role of transforming societies, markets, and industries suggest that this \n",
      "phenomenon deserve more systematic explanation. To this end, we borrow the socio -\n",
      "materiality theory from the field of organisation scien ce to propose a socio-materialistic view \n",
      "of digital nomadism. Our conceptualization suggests that digital nomadism is best understood \n",
      "as a form of continuous emergent of social life of a nomad and through his or her use of digital \n",
      "material. The socio -materiality of digital nomadism hence offers a new view of the \n",
      "phenomenon as an inseparable entity that is social and material. \n",
      " \n",
      "Defining digital nomadism  \n",
      "Nomads are people who move often to different locations. Traditionally, they were motivated \n",
      "by the need to obtain food, find pasture for livestock, or otherwise make a living. While a grey \n",
      "zone exists in defining nomads and migrants, nomads move more often or move continuously \n",
      "as a lifestyle choice (Schlagwein, 2018). Among traditional nomads, we can distinguish hunter-\n",
      "gatherers (moving in their search for food), pastoral nomads (moving with their livestock, such \n",
      "as the Bedouin) and peripatetic nomads (moving to sell their craft, such as the Sinti) \n",
      "(Schlagwein, 2018).  \n",
      "Digital nomadism departs from these traditional forms by emphasizing the central role of digital \n",
      "technologies and the need to seek digital freedom which is enabled by internet. In 1997,Makimoto and Manners recognised the power of internet in transforming lives in their \n",
      "manifesto called “digital nomad” in which they described the future of work as:  \n",
      "“At the moment, we do not have the ability to communicate by video link between any \n",
      "two points on the planet. But we will have it, and it will be generally affordable, within ten \n",
      "years. We will be able to see people, documents, and pictures wherever they happen to \n",
      "be, from anywhere we happen to be” (p. 5f). \n",
      "Fast forward 25 years, prophesy of Makimoto  and Manners has turned into a global reality. \n",
      "Digital nomadism is the offspring of the freedom that global digital technology and its rapid \n",
      "advancement and widespread adoption brings about. As described by Reichenberger (2017) \n",
      "freedom in the information era appears “in a variety of contexts, including freedom within paid \n",
      "employment, freedom relating to location independence and freedom to pursue self -\n",
      "development” (p. 9).  Digital nomads are, then those mobile laborers who seek a new mode \n",
      "of work-life reconciliation (Müller, 2016) by adopting a nomadic lifestyle while working remotely \n",
      "by leveraging digital technologies. As such, digital nomads are also called “ neo-nomads,” \n",
      "“global nomads,” “modern nomads,” or “new nomads” (Müller, 2016).  \n",
      "The lifestyle of th e digital nomad unifies different aspects of  multi-directional technology -\n",
      "enabled mobility and location-independent work on a new social level that may lead to a new \n",
      "global culture or a universal social system (Bozzi, 2020; Ibarra & Kalich, 2022; Müller, 2 016; \n",
      "Woldoff & Litchfield, 2021) . As such, a deeper understanding of the genesis of digital \n",
      "nomadism is warranted. To this end, we can distinguish two forces that play pivotal role in the \n",
      "formation of digital nomadism: 1) digital technology 2) socio -cultural style of a nomadic life. \n",
      "The question is, then, how these forces come together to explain the genesis of digital \n",
      "nomadism? \n",
      " \n",
      "Socio-materiality theoryThe socio-materiality theory is a theory of the interaction between technology (material) and \n",
      "organisation of societies in which different technologies are used. This theory aims to explain \n",
      "the state that is simultaneously social and material in the world (Kim & Yang, 2020).  \n",
      "Traditionally, the distinct and direct use of technology in societies was either ab sent or only \n",
      "implicitly discussed. The separation of technology and organisation of societies was \n",
      "paradoxical and problematic due to the rising importance of technologies in transforming \n",
      "existing and shaping new social norms and structures (Jain & Srinivasan, 2022; Orlikowski & \n",
      "Scott, 2008; Stanko, Dahm, Lahneman, & Richter, 2022) . Therefore, the socio -materiality \n",
      "theory gained momentum as a theoretical view that replaces the separation of technologies \n",
      "from societies with a fusion of them  (Orlikowski & Scot t, 2008) . In this way, the socio -\n",
      "materiality perspective rests on the premise that social and technological aspects of various \n",
      "social systems and phenomena are interlinked and inseparable in a given context. This \n",
      "inseparability creates constitutive entangl ement and recursive intertwining which creates \n",
      "unique forces for the system to adapt and evolve (Jain & Srinivasan, 2022). Therefore, a socio-\n",
      "materialistic view of a given social or organisational phenomenon suggests that all materiality \n",
      "is created, interpreted, and used based on social practice, and all social practice is affected \n",
      "by materiality (Leonardi, 2013). We now use this view to propose a socio-materialistic view of \n",
      "digital nomadism.  \n",
      " \n",
      " A socio-materialistic view of digital nomadism and why it matters \n",
      "In a socio-materialistic view, materiality refers to the qualities of material agencies including \n",
      "all technological tools, methods, techniques and essentially all non -human elements \n",
      "performing specific functions. Considering this, the digital and physi cal aspects of a digital \n",
      "nomadic lifestyle form the inseparable materialistic fabric of it. Furthermore, materiality is not \n",
      "limited to only technical aspects of digital nomadism. The workplace and the physical \n",
      "environment where a digital nomad is situated and works also constitutes as components ofits material identity. The social practice is however boarder and covers all human-enabled or \n",
      "performed agencies or routines that make a system functions. In the context of digital \n",
      "nomadism, the human-centric of a nomadic life and the way a nomad organises his or her life \n",
      "while balancing it with work constitute social practice. These includes routines, norms, policies, \n",
      "communications and personal as well as professional activities that are crucial to perform jobs \n",
      "and sustain the nomadic lifestyle. Taken together, a socio -materialistic view of digital \n",
      "nomadism suggests that digital and non -digital tools and technologies as well as human -\n",
      "cantered agency and different policies and behaviours work in tandem to create a  \n",
      "reconciliation of work -specific requirements with the necessary conditions of a nomadic \n",
      "lifestyle.   \n",
      "This view is important in two ways. First, it portrays digital nomadism as a complex system of \n",
      "social and material factors which work together in order to create a unique lifestyle. This view \n",
      "is, therefore, a theoretically robust approach to study different aspects of digital nomadism. \n",
      "Second, it offers three intertwined directions to study the formation, functionality, and \n",
      "consequences of adopting digitally nomadic lifestyle. These three include, the materiality side, \n",
      "the social practice, and the fusion of these two in the form of a unified socio -materialistic \n",
      "phenomenon. \n",
      " \n",
      "Conclusion   \n",
      "Digital nomadism has become one of the most talked-about buzz words recently. Despite its \n",
      "rising popularity, little research has been done on the theoretical foundation of this \n",
      "phenomenon. In this short essay we used the theoretical lens of socio -materiality and \n",
      "proposed a socio-materialistic view of digital nomadism. We argued that the technological and \n",
      "social sides of digital nomadism can’t be separated.  We also outlined why this view matters. \n",
      "We hope other researchers interested in this phenomenon see benefits in this approach and \n",
      "build on our conceptualization to advance research on this interesting phenomenon.References  \n",
      " \n",
      "Bozzi, N. (2020). #digitalnomads, #solotravellers, #remoteworkers: A Cultural Critique of the \n",
      "Traveling Entrepreneur on Instagram. Social Media + Society, 6(2). \n",
      "doi:10.1177/2056305120926644 \n",
      "Ibarra, B., & Kalich, B. (2022). The nomadic curriculum for the digital age. Currere Exchange \n",
      "Journal, 6(1), 56–62.  \n",
      "Jain, A., & Srinivasan, V. (2022). What happened to the work I was doing? Sociomateriality \n",
      "and cognitive tensions in technology work. Organizational Dynamics. \n",
      "doi:10.1016/j.orgdyn.2022.100901 \n",
      "Kim, Y., & Yang, E. (2020). Theoretical understanding of sociomateriality in workplace \n",
      "studies. Facilities, 38(13/14), 927-942. doi:10.1108/f-10-2019-0112 \n",
      "Leonardi, P. M. (2013). Theoretical foundations for the study of sociomateriality. Information \n",
      "and Organization, 23(2), 59-76.  \n",
      "Makimoto, T., & Manners, D. (1997). Digital Nomad: Wiley. \n",
      "Müller, A. (2016). The digital nomad: Buzzword or research category? Transnational Social \n",
      "Review, 6(3), 344-348. doi:10.1080/21931674.2016.1229930 \n",
      "Orlikowski, W. J., & Scott, S. V. (2008). 10 Sociomateriality: Challenging the Separation of \n",
      "Technology, Work and Organization. The Academy of Management Annals, 2(1), \n",
      "433-474. doi:10.5465/19416520802211644 \n",
      "Reichenberger, I. (2017). Digital nomads: A quest for holistic freedom in work and leisure. \n",
      "Annals of Leisure Research, 364–380.  \n",
      "Schlagwein, D. (2018). The history of digital nomadism. In 6th International Workshop on the \n",
      "Changing Nature of Work (CNOW), San Francisco (Vol. 13).Stanko, T. L., Dahm, P. C., Lahneman, B., & Richter, J. (2022). Navigating an identity \n",
      "playground: Using sociomateriality to build a theory of identity play. Organization \n",
      "Studies, 43(1), 81-103.  \n",
      "Woldoff, R. A., & Litchfield, R. C. (2021). Digital Nomads: In Search of Freedom, \n",
      "Community, and Meaningful Work in the New Economy: Oxford University Press. \n",
      " \n",
      " \n",
      " \n",
      " \n",
      "Dr Zahra Sadeghinejad is an Assistant Professor at UBSS and a Fellow of the Centre for \n",
      "Scholarship and Research \n",
      " \n",
      "Dr Arash Najmaei is a Fellow of the Centre for Scholarship and Research\n",
      "---------------------\n",
      "Create questions that will prepare the candidate for their tests.\n",
      "Make r sure not to lose any important information.\n",
      "\n",
      "Questions:\n",
      "\u001b[0m\n",
      "\n",
      "\u001b[1m> Finished chain.\u001b[0m\n",
      "\n",
      "\u001b[1m> Finished chain.\u001b[0m\n",
      "1. What is the socio-materialistic view of digital nomadism proposed by Zahra Sadeghinejad and Arash Najmaei?\n",
      "2. How do traditional nomads differ from digital nomads in terms of motivation and lifestyle?\n",
      "3. According to Makimoto and Manners, what role did the internet play in transforming lives in their manifesto \"digital nomad\"?\n",
      "4. How do digital nomads seek a new mode of work-life reconciliation, according to Müller?\n",
      "5. What are some alternative terms used to refer to digital nomads, as mentioned in the text?\n",
      "6. How does the socio-materiality theory explain the interaction between technology and the organization of societies?\n",
      "7. Why is it important to consider both the material and social aspects of digital nomadism in a socio-materialistic view?\n",
      "8. How does the socio-materialistic view of digital nomadism offer a theoretically robust approach to studying the phenomenon?\n",
      "9. What are the three intertwined directions proposed for studying digital nomadism in the socio-materialistic view?\n",
      "10. How do Sadeghinejad and Najmaei hope their proposed socio-materialistic view will benefit future research on digital nomadism?\n"
     ]
    }
   ],
   "source": [
    "ques = ques_gen_chain.run(document_ques_gen)\n",
    "\n",
    "print(ques)"
   ]
  },
  {
   "cell_type": "code",
   "execution_count": 41,
   "metadata": {},
   "outputs": [],
   "source": [
    "from langchain.embeddings.openai import OpenAIEmbeddings"
   ]
  },
  {
   "cell_type": "code",
   "execution_count": 42,
   "metadata": {},
   "outputs": [],
   "source": [
    "embeddings = OpenAIEmbeddings()"
   ]
  },
  {
   "cell_type": "code",
   "execution_count": 45,
   "metadata": {},
   "outputs": [
    {
     "name": "stdout",
     "output_type": "stream",
     "text": [
      "Defaulting to user installation because normal site-packages is not writeable\n",
      "Collecting faiss-cpu\n",
      "  Using cached faiss_cpu-1.10.0-cp312-cp312-win_amd64.whl.metadata (4.5 kB)\n",
      "Requirement already satisfied: numpy<3.0,>=1.25.0 in c:\\users\\user\\appdata\\roaming\\python\\python312\\site-packages (from faiss-cpu) (2.2.3)\n",
      "Requirement already satisfied: packaging in c:\\users\\user\\appdata\\roaming\\python\\python312\\site-packages (from faiss-cpu) (24.2)\n",
      "Using cached faiss_cpu-1.10.0-cp312-cp312-win_amd64.whl (13.7 MB)\n",
      "Installing collected packages: faiss-cpu\n",
      "Successfully installed faiss-cpu-1.10.0\n"
     ]
    },
    {
     "name": "stderr",
     "output_type": "stream",
     "text": [
      "\n",
      "[notice] A new release of pip is available: 24.2 -> 25.0.1\n",
      "[notice] To update, run: python.exe -m pip install --upgrade pip\n"
     ]
    }
   ],
   "source": [
    "from langchain.vectorstores import FAISS\n",
    "!pip install faiss-cpu"
   ]
  },
  {
   "cell_type": "code",
   "execution_count": 46,
   "metadata": {},
   "outputs": [],
   "source": [
    "vector_store = FAISS.from_documents(document_answer_gen, embeddings)"
   ]
  },
  {
   "cell_type": "code",
   "execution_count": 47,
   "metadata": {},
   "outputs": [],
   "source": [
    "llm_answer_gen = ChatOpenAI(temperature=0.1, model=\"gpt-3.5-turbo\")"
   ]
  },
  {
   "cell_type": "code",
   "execution_count": 48,
   "metadata": {},
   "outputs": [
    {
     "data": {
      "text/plain": [
       "'1. What is the socio-materialistic view of digital nomadism proposed by Zahra Sadeghinejad and Arash Najmaei?\\n2. How do traditional nomads differ from digital nomads in terms of motivation and lifestyle?\\n3. According to Makimoto and Manners, what role did the internet play in transforming lives in their manifesto \"digital nomad\"?\\n4. How do digital nomads seek a new mode of work-life reconciliation, according to Müller?\\n5. What are some alternative terms used to refer to digital nomads, as mentioned in the text?\\n6. How does the socio-materiality theory explain the interaction between technology and the organization of societies?\\n7. Why is it important to consider both the material and social aspects of digital nomadism in a socio-materialistic view?\\n8. How does the socio-materialistic view of digital nomadism offer a theoretically robust approach to studying the phenomenon?\\n9. What are the three intertwined directions proposed for studying digital nomadism in the socio-materialistic view?\\n10. How do Sadeghinejad and Najmaei hope their proposed socio-materialistic view will benefit future research on digital nomadism?'"
      ]
     },
     "execution_count": 48,
     "metadata": {},
     "output_type": "execute_result"
    }
   ],
   "source": [
    "ques"
   ]
  },
  {
   "cell_type": "code",
   "execution_count": 49,
   "metadata": {},
   "outputs": [],
   "source": [
    "ques_list = ques.split(\"\\n\")"
   ]
  },
  {
   "cell_type": "code",
   "execution_count": 50,
   "metadata": {},
   "outputs": [
    {
     "data": {
      "text/plain": [
       "['1. What is the socio-materialistic view of digital nomadism proposed by Zahra Sadeghinejad and Arash Najmaei?',\n",
       " '2. How do traditional nomads differ from digital nomads in terms of motivation and lifestyle?',\n",
       " '3. According to Makimoto and Manners, what role did the internet play in transforming lives in their manifesto \"digital nomad\"?',\n",
       " '4. How do digital nomads seek a new mode of work-life reconciliation, according to Müller?',\n",
       " '5. What are some alternative terms used to refer to digital nomads, as mentioned in the text?',\n",
       " '6. How does the socio-materiality theory explain the interaction between technology and the organization of societies?',\n",
       " '7. Why is it important to consider both the material and social aspects of digital nomadism in a socio-materialistic view?',\n",
       " '8. How does the socio-materialistic view of digital nomadism offer a theoretically robust approach to studying the phenomenon?',\n",
       " '9. What are the three intertwined directions proposed for studying digital nomadism in the socio-materialistic view?',\n",
       " '10. How do Sadeghinejad and Najmaei hope their proposed socio-materialistic view will benefit future research on digital nomadism?']"
      ]
     },
     "execution_count": 50,
     "metadata": {},
     "output_type": "execute_result"
    }
   ],
   "source": [
    "ques_list"
   ]
  },
  {
   "cell_type": "code",
   "execution_count": 51,
   "metadata": {},
   "outputs": [],
   "source": [
    "from langchain.chains import RetrievalQA"
   ]
  },
  {
   "cell_type": "code",
   "execution_count": 52,
   "metadata": {},
   "outputs": [],
   "source": [
    "answer_generation_chain = RetrievalQA.from_chain_type(llm=llm_answer_gen, \n",
    "                                               chain_type=\"stuff\", \n",
    "                                               retriever=vector_store.as_retriever())\n"
   ]
  },
  {
   "cell_type": "code",
   "execution_count": 53,
   "metadata": {},
   "outputs": [
    {
     "name": "stdout",
     "output_type": "stream",
     "text": [
      "Question:  1. What is the socio-materialistic view of digital nomadism proposed by Zahra Sadeghinejad and Arash Najmaei?\n",
      "Answer:  The socio-materialistic view of digital nomadism proposed by Zahra Sadeghinejad and Arash Najmaei suggests that digital nomadism is best understood as a form of continuous emergence of social life of a nomad through his or her use of digital material. It views digital nomadism as an inseparable entity that is both social and material, emphasizing the interaction between technology (material) and the organization of societies in which different technologies are used. This perspective considers the social and technological aspects of digital nomadism as interlinked and inseparable, creating unique forces for the system to adapt and evolve.\n",
      "--------------------------------------------------\\n\\n\n",
      "Question:  2. How do traditional nomads differ from digital nomads in terms of motivation and lifestyle?\n",
      "Answer:  Traditional nomads, such as hunter-gatherers, pastoral nomads, and peripatetic nomads, historically moved due to the need for food, finding pasture for livestock, or selling crafts. Their motivation was primarily survival and livelihood. In contrast, digital nomads are motivated by seeking digital freedom enabled by the internet. They choose a nomadic lifestyle to work remotely using digital technologies, emphasizing freedom in employment, location independence, and self-development. The lifestyle of digital nomads unifies technology-enabled mobility and location-independent work, potentially leading to a new global culture or social system.\n",
      "--------------------------------------------------\\n\\n\n",
      "Question:  3. According to Makimoto and Manners, what role did the internet play in transforming lives in their manifesto \"digital nomad\"?\n",
      "Answer:  According to Makimoto and Manners in their manifesto \"Digital Nomad,\" the internet played a significant role in transforming lives by enabling the ability to communicate by video link between any two points on the planet. They envisioned a future where people could see others, documents, and pictures from anywhere they happened to be, facilitated by the internet.\n",
      "--------------------------------------------------\\n\\n\n",
      "Question:  4. How do digital nomads seek a new mode of work-life reconciliation, according to Müller?\n",
      "Answer:  According to Müller, digital nomads seek a new mode of work-life reconciliation by adopting a nomadic lifestyle while working remotely and leveraging digital technologies. They aim to balance their work-specific requirements with the necessary conditions of a nomadic lifestyle, allowing them to have more freedom and flexibility in their work and personal lives.\n",
      "--------------------------------------------------\\n\\n\n",
      "Question:  5. What are some alternative terms used to refer to digital nomads, as mentioned in the text?\n",
      "Answer:  Some alternative terms used to refer to digital nomads, as mentioned in the text, include \"neo-nomads,\" \"global nomads,\" \"modern nomads,\" or \"new nomads.\"\n",
      "--------------------------------------------------\\n\\n\n",
      "Question:  6. How does the socio-materiality theory explain the interaction between technology and the organization of societies?\n",
      "Answer:  The socio-materiality theory explains the interaction between technology and the organization of societies by emphasizing that these two aspects are inseparable and interlinked in a given context. It challenges the traditional separation of technology from society and highlights the importance of technologies in transforming existing social norms and structures. The theory suggests that social and technological aspects of various social systems and phenomena are intertwined, creating unique forces for the system to adapt and evolve. In essence, the theory posits that technology and society are mutually constitutive and influence each other in shaping social practices and materiality.\n",
      "--------------------------------------------------\\n\\n\n",
      "Question:  7. Why is it important to consider both the material and social aspects of digital nomadism in a socio-materialistic view?\n",
      "Answer:  It is important to consider both the material and social aspects of digital nomadism in a socio-materialistic view because digital nomadism is a complex phenomenon that involves the interaction between technology (material) and the organization of societies (social). By understanding how these two aspects are intertwined and inseparable, we can gain a more comprehensive understanding of how digital nomadism functions and its impact on individuals and societies. This approach allows for a deeper analysis of the unique lifestyle of digital nomads and the factors that contribute to its formation, functionality, and consequences.\n",
      "--------------------------------------------------\\n\\n\n",
      "Question:  8. How does the socio-materialistic view of digital nomadism offer a theoretically robust approach to studying the phenomenon?\n",
      "Answer:  The socio-materialistic view of digital nomadism offers a theoretically robust approach to studying the phenomenon by emphasizing the inseparable connection between the social and material aspects of digital nomadism. This perspective recognizes that digital nomadism is not just about technology but also about the social practices and human-centered agencies that shape this lifestyle. By considering both the material tools and technologies used by digital nomads and the social practices that define their routines, norms, and interactions, researchers can gain a comprehensive understanding of how digital nomadism functions as a unique lifestyle. This integrated approach allows for a deeper exploration of the formation, functionality, and consequences of adopting a digitally nomadic lifestyle, providing a more holistic view of this social phenomenon.\n",
      "--------------------------------------------------\\n\\n\n",
      "Question:  9. What are the three intertwined directions proposed for studying digital nomadism in the socio-materialistic view?\n",
      "Answer:  The three intertwined directions proposed for studying digital nomadism in the socio-materialistic view are the materiality side, the social practice, and the fusion of these two in the form of a unified socio-materialistic phenomenon.\n",
      "--------------------------------------------------\\n\\n\n",
      "Question:  10. How do Sadeghinejad and Najmaei hope their proposed socio-materialistic view will benefit future research on digital nomadism?\n",
      "Answer:  Sadeghinejad and Najmaei hope that their proposed socio-materialistic view of digital nomadism will benefit future research in two main ways. Firstly, they believe that by portraying digital nomadism as a complex system of social and material factors working together to create a unique lifestyle, their view offers a theoretically robust approach to studying different aspects of digital nomadism. Secondly, they suggest that their view provides three intertwined directions for studying the formation, functionality, and consequences of adopting a digitally nomadic lifestyle: the materiality side, the social practice, and the fusion of these two in the form of a unified socio-materialistic phenomenon.\n",
      "--------------------------------------------------\\n\\n\n"
     ]
    }
   ],
   "source": [
    "# Answer each question and save to a file\n",
    "for question in ques_list:\n",
    "    print(\"Question: \", question)\n",
    "    answer = answer_generation_chain.run(question)\n",
    "    print(\"Answer: \", answer)\n",
    "    print(\"--------------------------------------------------\\\\n\\\\n\")\n",
    "    # Save answer to file\n",
    "    with open(\"answers.txt\", \"a\") as f:\n",
    "        f.write(\"Question: \" + question + \"\\\\n\")\n",
    "        f.write(\"Answer: \" + answer + \"\\\\n\")\n",
    "        f.write(\"--------------------------------------------------\\\\n\\\\n\")\n",
    "\n",
    "\n"
   ]
  },
  {
   "cell_type": "code",
   "execution_count": null,
   "metadata": {},
   "outputs": [],
   "source": []
  }
 ],
 "metadata": {
  "kernelspec": {
   "display_name": "Python 3",
   "language": "python",
   "name": "python3"
  },
  "language_info": {
   "codemirror_mode": {
    "name": "ipython",
    "version": 3
   },
   "file_extension": ".py",
   "mimetype": "text/x-python",
   "name": "python",
   "nbconvert_exporter": "python",
   "pygments_lexer": "ipython3",
   "version": "3.12.6"
  }
 },
 "nbformat": 4,
 "nbformat_minor": 2
}
