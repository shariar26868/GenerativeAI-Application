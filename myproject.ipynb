{
 "cells": [
  {
   "cell_type": "code",
   "execution_count": 65,
   "metadata": {},
   "outputs": [],
   "source": [
    "import os"
   ]
  },
  {
   "cell_type": "code",
   "execution_count": 66,
   "metadata": {},
   "outputs": [],
   "source": [
    "from dotenv import load_dotenv"
   ]
  },
  {
   "cell_type": "code",
   "execution_count": 67,
   "metadata": {},
   "outputs": [
    {
     "data": {
      "text/plain": [
       "True"
      ]
     },
     "execution_count": 67,
     "metadata": {},
     "output_type": "execute_result"
    }
   ],
   "source": [
    "load_dotenv()"
   ]
  },
  {
   "cell_type": "code",
   "execution_count": 68,
   "metadata": {},
   "outputs": [],
   "source": [
    "OPENAI_API_KEY=os.getenv(\"OPENAI_API_KEY\")\n"
   ]
  },
  {
   "cell_type": "code",
   "execution_count": 69,
   "metadata": {},
   "outputs": [],
   "source": [
    "os.environ['OPENAI_API_KEY']=OPENAI_API_KEY"
   ]
  },
  {
   "cell_type": "code",
   "execution_count": 70,
   "metadata": {},
   "outputs": [
    {
     "name": "stdout",
     "output_type": "stream",
     "text": [
      "Defaulting to user installation because normal site-packages is not writeable"
     ]
    },
    {
     "name": "stderr",
     "output_type": "stream",
     "text": [
      "\n",
      "[notice] A new release of pip is available: 24.2 -> 25.0.1\n",
      "[notice] To update, run: python.exe -m pip install --upgrade pip\n"
     ]
    },
    {
     "name": "stdout",
     "output_type": "stream",
     "text": [
      "\n",
      "Requirement already satisfied: langchain in c:\\users\\user\\appdata\\roaming\\python\\python312\\site-packages (0.3.18)\n",
      "Requirement already satisfied: langchain-core<1.0.0,>=0.3.34 in c:\\users\\user\\appdata\\roaming\\python\\python312\\site-packages (from langchain) (0.3.35)\n",
      "Requirement already satisfied: langchain-text-splitters<1.0.0,>=0.3.6 in c:\\users\\user\\appdata\\roaming\\python\\python312\\site-packages (from langchain) (0.3.6)\n",
      "Requirement already satisfied: langsmith<0.4,>=0.1.17 in c:\\users\\user\\appdata\\roaming\\python\\python312\\site-packages (from langchain) (0.3.8)\n",
      "Requirement already satisfied: pydantic<3.0.0,>=2.7.4 in c:\\users\\user\\appdata\\roaming\\python\\python312\\site-packages (from langchain) (2.10.6)\n",
      "Requirement already satisfied: SQLAlchemy<3,>=1.4 in c:\\users\\user\\appdata\\roaming\\python\\python312\\site-packages (from langchain) (2.0.38)\n",
      "Requirement already satisfied: requests<3,>=2 in c:\\users\\user\\appdata\\roaming\\python\\python312\\site-packages (from langchain) (2.32.3)\n",
      "Requirement already satisfied: PyYAML>=5.3 in c:\\users\\user\\appdata\\roaming\\python\\python312\\site-packages (from langchain) (6.0.2)\n",
      "Requirement already satisfied: aiohttp<4.0.0,>=3.8.3 in c:\\users\\user\\appdata\\roaming\\python\\python312\\site-packages (from langchain) (3.11.11)\n",
      "Requirement already satisfied: tenacity!=8.4.0,<10,>=8.1.0 in c:\\users\\user\\appdata\\roaming\\python\\python312\\site-packages (from langchain) (9.0.0)\n",
      "Requirement already satisfied: numpy<3,>=1.26.2 in c:\\users\\user\\appdata\\roaming\\python\\python312\\site-packages (from langchain) (2.2.3)\n",
      "Requirement already satisfied: aiohappyeyeballs>=2.3.0 in c:\\users\\user\\appdata\\roaming\\python\\python312\\site-packages (from aiohttp<4.0.0,>=3.8.3->langchain) (2.4.4)\n",
      "Requirement already satisfied: aiosignal>=1.1.2 in c:\\users\\user\\appdata\\roaming\\python\\python312\\site-packages (from aiohttp<4.0.0,>=3.8.3->langchain) (1.3.2)\n",
      "Requirement already satisfied: attrs>=17.3.0 in c:\\users\\user\\appdata\\roaming\\python\\python312\\site-packages (from aiohttp<4.0.0,>=3.8.3->langchain) (24.3.0)\n",
      "Requirement already satisfied: frozenlist>=1.1.1 in c:\\users\\user\\appdata\\roaming\\python\\python312\\site-packages (from aiohttp<4.0.0,>=3.8.3->langchain) (1.5.0)\n",
      "Requirement already satisfied: multidict<7.0,>=4.5 in c:\\users\\user\\appdata\\roaming\\python\\python312\\site-packages (from aiohttp<4.0.0,>=3.8.3->langchain) (6.1.0)\n",
      "Requirement already satisfied: propcache>=0.2.0 in c:\\users\\user\\appdata\\roaming\\python\\python312\\site-packages (from aiohttp<4.0.0,>=3.8.3->langchain) (0.2.1)\n",
      "Requirement already satisfied: yarl<2.0,>=1.17.0 in c:\\users\\user\\appdata\\roaming\\python\\python312\\site-packages (from aiohttp<4.0.0,>=3.8.3->langchain) (1.18.3)\n",
      "Requirement already satisfied: jsonpatch<2.0,>=1.33 in c:\\users\\user\\appdata\\roaming\\python\\python312\\site-packages (from langchain-core<1.0.0,>=0.3.34->langchain) (1.33)\n",
      "Requirement already satisfied: packaging<25,>=23.2 in c:\\users\\user\\appdata\\roaming\\python\\python312\\site-packages (from langchain-core<1.0.0,>=0.3.34->langchain) (24.2)\n",
      "Requirement already satisfied: typing-extensions>=4.7 in c:\\users\\user\\appdata\\roaming\\python\\python312\\site-packages (from langchain-core<1.0.0,>=0.3.34->langchain) (4.12.2)\n",
      "Requirement already satisfied: httpx<1,>=0.23.0 in c:\\users\\user\\appdata\\roaming\\python\\python312\\site-packages (from langsmith<0.4,>=0.1.17->langchain) (0.28.1)\n",
      "Requirement already satisfied: orjson<4.0.0,>=3.9.14 in c:\\users\\user\\appdata\\roaming\\python\\python312\\site-packages (from langsmith<0.4,>=0.1.17->langchain) (3.10.15)\n",
      "Requirement already satisfied: requests-toolbelt<2.0.0,>=1.0.0 in c:\\users\\user\\appdata\\roaming\\python\\python312\\site-packages (from langsmith<0.4,>=0.1.17->langchain) (1.0.0)\n",
      "Requirement already satisfied: zstandard<0.24.0,>=0.23.0 in c:\\users\\user\\appdata\\roaming\\python\\python312\\site-packages (from langsmith<0.4,>=0.1.17->langchain) (0.23.0)\n",
      "Requirement already satisfied: annotated-types>=0.6.0 in c:\\users\\user\\appdata\\roaming\\python\\python312\\site-packages (from pydantic<3.0.0,>=2.7.4->langchain) (0.7.0)\n",
      "Requirement already satisfied: pydantic-core==2.27.2 in c:\\users\\user\\appdata\\roaming\\python\\python312\\site-packages (from pydantic<3.0.0,>=2.7.4->langchain) (2.27.2)\n",
      "Requirement already satisfied: charset-normalizer<4,>=2 in c:\\users\\user\\appdata\\roaming\\python\\python312\\site-packages (from requests<3,>=2->langchain) (3.4.1)\n",
      "Requirement already satisfied: idna<4,>=2.5 in c:\\users\\user\\appdata\\roaming\\python\\python312\\site-packages (from requests<3,>=2->langchain) (2.10)\n",
      "Requirement already satisfied: urllib3<3,>=1.21.1 in c:\\users\\user\\appdata\\roaming\\python\\python312\\site-packages (from requests<3,>=2->langchain) (2.3.0)\n",
      "Requirement already satisfied: certifi>=2017.4.17 in c:\\users\\user\\appdata\\roaming\\python\\python312\\site-packages (from requests<3,>=2->langchain) (2024.12.14)\n",
      "Requirement already satisfied: greenlet!=0.4.17 in c:\\users\\user\\appdata\\roaming\\python\\python312\\site-packages (from SQLAlchemy<3,>=1.4->langchain) (3.1.1)\n",
      "Requirement already satisfied: anyio in c:\\users\\user\\appdata\\roaming\\python\\python312\\site-packages (from httpx<1,>=0.23.0->langsmith<0.4,>=0.1.17->langchain) (4.8.0)\n",
      "Requirement already satisfied: httpcore==1.* in c:\\users\\user\\appdata\\roaming\\python\\python312\\site-packages (from httpx<1,>=0.23.0->langsmith<0.4,>=0.1.17->langchain) (1.0.7)\n",
      "Requirement already satisfied: h11<0.15,>=0.13 in c:\\users\\user\\appdata\\roaming\\python\\python312\\site-packages (from httpcore==1.*->httpx<1,>=0.23.0->langsmith<0.4,>=0.1.17->langchain) (0.14.0)\n",
      "Requirement already satisfied: jsonpointer>=1.9 in c:\\users\\user\\appdata\\roaming\\python\\python312\\site-packages (from jsonpatch<2.0,>=1.33->langchain-core<1.0.0,>=0.3.34->langchain) (3.0.0)\n",
      "Requirement already satisfied: sniffio>=1.1 in c:\\users\\user\\appdata\\roaming\\python\\python312\\site-packages (from anyio->httpx<1,>=0.23.0->langsmith<0.4,>=0.1.17->langchain) (1.3.1)\n"
     ]
    }
   ],
   "source": [
    "!pip install langchain\n"
   ]
  },
  {
   "cell_type": "code",
   "execution_count": 71,
   "metadata": {},
   "outputs": [
    {
     "name": "stdout",
     "output_type": "stream",
     "text": [
      "Defaulting to user installation because normal site-packages is not writeable\n",
      "Requirement already satisfied: langchain in c:\\users\\user\\appdata\\roaming\\python\\python312\\site-packages (0.3.18)\n",
      "Requirement already satisfied: langchain-core<1.0.0,>=0.3.34 in c:\\users\\user\\appdata\\roaming\\python\\python312\\site-packages (from langchain) (0.3.35)\n",
      "Requirement already satisfied: langchain-text-splitters<1.0.0,>=0.3.6 in c:\\users\\user\\appdata\\roaming\\python\\python312\\site-packages (from langchain) (0.3.6)\n",
      "Requirement already satisfied: langsmith<0.4,>=0.1.17 in c:\\users\\user\\appdata\\roaming\\python\\python312\\site-packages (from langchain) (0.3.8)\n",
      "Requirement already satisfied: pydantic<3.0.0,>=2.7.4 in c:\\users\\user\\appdata\\roaming\\python\\python312\\site-packages (from langchain) (2.10.6)\n",
      "Requirement already satisfied: SQLAlchemy<3,>=1.4 in c:\\users\\user\\appdata\\roaming\\python\\python312\\site-packages (from langchain) (2.0.38)\n",
      "Requirement already satisfied: requests<3,>=2 in c:\\users\\user\\appdata\\roaming\\python\\python312\\site-packages (from langchain) (2.32.3)\n",
      "Requirement already satisfied: PyYAML>=5.3 in c:\\users\\user\\appdata\\roaming\\python\\python312\\site-packages (from langchain) (6.0.2)\n",
      "Requirement already satisfied: aiohttp<4.0.0,>=3.8.3 in c:\\users\\user\\appdata\\roaming\\python\\python312\\site-packages (from langchain) (3.11.11)\n",
      "Requirement already satisfied: tenacity!=8.4.0,<10,>=8.1.0 in c:\\users\\user\\appdata\\roaming\\python\\python312\\site-packages (from langchain) (9.0.0)\n",
      "Requirement already satisfied: numpy<3,>=1.26.2 in c:\\users\\user\\appdata\\roaming\\python\\python312\\site-packages (from langchain) (2.2.3)\n",
      "Requirement already satisfied: aiohappyeyeballs>=2.3.0 in c:\\users\\user\\appdata\\roaming\\python\\python312\\site-packages (from aiohttp<4.0.0,>=3.8.3->langchain) (2.4.4)\n",
      "Requirement already satisfied: aiosignal>=1.1.2 in c:\\users\\user\\appdata\\roaming\\python\\python312\\site-packages (from aiohttp<4.0.0,>=3.8.3->langchain) (1.3.2)\n",
      "Requirement already satisfied: attrs>=17.3.0 in c:\\users\\user\\appdata\\roaming\\python\\python312\\site-packages (from aiohttp<4.0.0,>=3.8.3->langchain) (24.3.0)\n",
      "Requirement already satisfied: frozenlist>=1.1.1 in c:\\users\\user\\appdata\\roaming\\python\\python312\\site-packages (from aiohttp<4.0.0,>=3.8.3->langchain) (1.5.0)\n",
      "Requirement already satisfied: multidict<7.0,>=4.5 in c:\\users\\user\\appdata\\roaming\\python\\python312\\site-packages (from aiohttp<4.0.0,>=3.8.3->langchain) (6.1.0)\n",
      "Requirement already satisfied: propcache>=0.2.0 in c:\\users\\user\\appdata\\roaming\\python\\python312\\site-packages (from aiohttp<4.0.0,>=3.8.3->langchain) (0.2.1)\n",
      "Requirement already satisfied: yarl<2.0,>=1.17.0 in c:\\users\\user\\appdata\\roaming\\python\\python312\\site-packages (from aiohttp<4.0.0,>=3.8.3->langchain) (1.18.3)\n",
      "Requirement already satisfied: jsonpatch<2.0,>=1.33 in c:\\users\\user\\appdata\\roaming\\python\\python312\\site-packages (from langchain-core<1.0.0,>=0.3.34->langchain) (1.33)\n",
      "Requirement already satisfied: packaging<25,>=23.2 in c:\\users\\user\\appdata\\roaming\\python\\python312\\site-packages (from langchain-core<1.0.0,>=0.3.34->langchain) (24.2)\n",
      "Requirement already satisfied: typing-extensions>=4.7 in c:\\users\\user\\appdata\\roaming\\python\\python312\\site-packages (from langchain-core<1.0.0,>=0.3.34->langchain) (4.12.2)\n",
      "Requirement already satisfied: httpx<1,>=0.23.0 in c:\\users\\user\\appdata\\roaming\\python\\python312\\site-packages (from langsmith<0.4,>=0.1.17->langchain) (0.28.1)\n",
      "Requirement already satisfied: orjson<4.0.0,>=3.9.14 in c:\\users\\user\\appdata\\roaming\\python\\python312\\site-packages (from langsmith<0.4,>=0.1.17->langchain) (3.10.15)\n",
      "Requirement already satisfied: requests-toolbelt<2.0.0,>=1.0.0 in c:\\users\\user\\appdata\\roaming\\python\\python312\\site-packages (from langsmith<0.4,>=0.1.17->langchain) (1.0.0)\n",
      "Requirement already satisfied: zstandard<0.24.0,>=0.23.0 in c:\\users\\user\\appdata\\roaming\\python\\python312\\site-packages (from langsmith<0.4,>=0.1.17->langchain) (0.23.0)\n",
      "Requirement already satisfied: annotated-types>=0.6.0 in c:\\users\\user\\appdata\\roaming\\python\\python312\\site-packages (from pydantic<3.0.0,>=2.7.4->langchain) (0.7.0)\n",
      "Requirement already satisfied: pydantic-core==2.27.2 in c:\\users\\user\\appdata\\roaming\\python\\python312\\site-packages (from pydantic<3.0.0,>=2.7.4->langchain) (2.27.2)\n",
      "Requirement already satisfied: charset-normalizer<4,>=2 in c:\\users\\user\\appdata\\roaming\\python\\python312\\site-packages (from requests<3,>=2->langchain) (3.4.1)\n",
      "Requirement already satisfied: idna<4,>=2.5 in c:\\users\\user\\appdata\\roaming\\python\\python312\\site-packages (from requests<3,>=2->langchain) (2.10)\n",
      "Requirement already satisfied: urllib3<3,>=1.21.1 in c:\\users\\user\\appdata\\roaming\\python\\python312\\site-packages (from requests<3,>=2->langchain) (2.3.0)\n",
      "Requirement already satisfied: certifi>=2017.4.17 in c:\\users\\user\\appdata\\roaming\\python\\python312\\site-packages (from requests<3,>=2->langchain) (2024.12.14)\n",
      "Requirement already satisfied: greenlet!=0.4.17 in c:\\users\\user\\appdata\\roaming\\python\\python312\\site-packages (from SQLAlchemy<3,>=1.4->langchain) (3.1.1)\n",
      "Requirement already satisfied: anyio in c:\\users\\user\\appdata\\roaming\\python\\python312\\site-packages (from httpx<1,>=0.23.0->langsmith<0.4,>=0.1.17->langchain) (4.8.0)\n",
      "Requirement already satisfied: httpcore==1.* in c:\\users\\user\\appdata\\roaming\\python\\python312\\site-packages (from httpx<1,>=0.23.0->langsmith<0.4,>=0.1.17->langchain) (1.0.7)\n",
      "Requirement already satisfied: h11<0.15,>=0.13 in c:\\users\\user\\appdata\\roaming\\python\\python312\\site-packages (from httpcore==1.*->httpx<1,>=0.23.0->langsmith<0.4,>=0.1.17->langchain) (0.14.0)\n",
      "Requirement already satisfied: jsonpointer>=1.9 in c:\\users\\user\\appdata\\roaming\\python\\python312\\site-packages (from jsonpatch<2.0,>=1.33->langchain-core<1.0.0,>=0.3.34->langchain) (3.0.0)\n",
      "Requirement already satisfied: sniffio>=1.1 in c:\\users\\user\\appdata\\roaming\\python\\python312\\site-packages (from anyio->httpx<1,>=0.23.0->langsmith<0.4,>=0.1.17->langchain) (1.3.1)\n",
      "Note: you may need to restart the kernel to use updated packages.\n"
     ]
    },
    {
     "name": "stderr",
     "output_type": "stream",
     "text": [
      "\n",
      "[notice] A new release of pip is available: 24.2 -> 25.0.1\n",
      "[notice] To update, run: python.exe -m pip install --upgrade pip\n"
     ]
    }
   ],
   "source": [
    "pip install --upgrade langchain\n"
   ]
  },
  {
   "cell_type": "code",
   "execution_count": 72,
   "metadata": {},
   "outputs": [
    {
     "name": "stdout",
     "output_type": "stream",
     "text": [
      "Defaulting to user installation because normal site-packages is not writeable\n",
      "Requirement already satisfied: langchain-community in c:\\users\\user\\appdata\\roaming\\python\\python312\\site-packages (0.3.17)\n",
      "Requirement already satisfied: langchain-core<1.0.0,>=0.3.34 in c:\\users\\user\\appdata\\roaming\\python\\python312\\site-packages (from langchain-community) (0.3.35)\n",
      "Requirement already satisfied: langchain<1.0.0,>=0.3.18 in c:\\users\\user\\appdata\\roaming\\python\\python312\\site-packages (from langchain-community) (0.3.18)\n",
      "Requirement already satisfied: SQLAlchemy<3,>=1.4 in c:\\users\\user\\appdata\\roaming\\python\\python312\\site-packages (from langchain-community) (2.0.38)\n",
      "Requirement already satisfied: requests<3,>=2 in c:\\users\\user\\appdata\\roaming\\python\\python312\\site-packages (from langchain-community) (2.32.3)\n",
      "Requirement already satisfied: PyYAML>=5.3 in c:\\users\\user\\appdata\\roaming\\python\\python312\\site-packages (from langchain-community) (6.0.2)\n",
      "Requirement already satisfied: aiohttp<4.0.0,>=3.8.3 in c:\\users\\user\\appdata\\roaming\\python\\python312\\site-packages (from langchain-community) (3.11.11)\n",
      "Requirement already satisfied: tenacity!=8.4.0,<10,>=8.1.0 in c:\\users\\user\\appdata\\roaming\\python\\python312\\site-packages (from langchain-community) (9.0.0)\n",
      "Requirement already satisfied: dataclasses-json<0.7,>=0.5.7 in c:\\users\\user\\appdata\\roaming\\python\\python312\\site-packages (from langchain-community) (0.6.7)\n",
      "Requirement already satisfied: pydantic-settings<3.0.0,>=2.4.0 in c:\\users\\user\\appdata\\roaming\\python\\python312\\site-packages (from langchain-community) (2.7.1)\n",
      "Requirement already satisfied: langsmith<0.4,>=0.1.125 in c:\\users\\user\\appdata\\roaming\\python\\python312\\site-packages (from langchain-community) (0.3.8)\n",
      "Requirement already satisfied: httpx-sse<1.0.0,>=0.4.0 in c:\\users\\user\\appdata\\roaming\\python\\python312\\site-packages (from langchain-community) (0.4.0)\n",
      "Requirement already satisfied: numpy<3,>=1.26.2 in c:\\users\\user\\appdata\\roaming\\python\\python312\\site-packages (from langchain-community) (2.2.3)\n",
      "Requirement already satisfied: aiohappyeyeballs>=2.3.0 in c:\\users\\user\\appdata\\roaming\\python\\python312\\site-packages (from aiohttp<4.0.0,>=3.8.3->langchain-community) (2.4.4)\n",
      "Requirement already satisfied: aiosignal>=1.1.2 in c:\\users\\user\\appdata\\roaming\\python\\python312\\site-packages (from aiohttp<4.0.0,>=3.8.3->langchain-community) (1.3.2)\n",
      "Requirement already satisfied: attrs>=17.3.0 in c:\\users\\user\\appdata\\roaming\\python\\python312\\site-packages (from aiohttp<4.0.0,>=3.8.3->langchain-community) (24.3.0)\n",
      "Requirement already satisfied: frozenlist>=1.1.1 in c:\\users\\user\\appdata\\roaming\\python\\python312\\site-packages (from aiohttp<4.0.0,>=3.8.3->langchain-community) (1.5.0)\n",
      "Requirement already satisfied: multidict<7.0,>=4.5 in c:\\users\\user\\appdata\\roaming\\python\\python312\\site-packages (from aiohttp<4.0.0,>=3.8.3->langchain-community) (6.1.0)\n",
      "Requirement already satisfied: propcache>=0.2.0 in c:\\users\\user\\appdata\\roaming\\python\\python312\\site-packages (from aiohttp<4.0.0,>=3.8.3->langchain-community) (0.2.1)\n",
      "Requirement already satisfied: yarl<2.0,>=1.17.0 in c:\\users\\user\\appdata\\roaming\\python\\python312\\site-packages (from aiohttp<4.0.0,>=3.8.3->langchain-community) (1.18.3)\n",
      "Requirement already satisfied: marshmallow<4.0.0,>=3.18.0 in c:\\users\\user\\appdata\\roaming\\python\\python312\\site-packages (from dataclasses-json<0.7,>=0.5.7->langchain-community) (3.26.1)\n",
      "Requirement already satisfied: typing-inspect<1,>=0.4.0 in c:\\users\\user\\appdata\\roaming\\python\\python312\\site-packages (from dataclasses-json<0.7,>=0.5.7->langchain-community) (0.9.0)\n",
      "Requirement already satisfied: langchain-text-splitters<1.0.0,>=0.3.6 in c:\\users\\user\\appdata\\roaming\\python\\python312\\site-packages (from langchain<1.0.0,>=0.3.18->langchain-community) (0.3.6)\n",
      "Requirement already satisfied: pydantic<3.0.0,>=2.7.4 in c:\\users\\user\\appdata\\roaming\\python\\python312\\site-packages (from langchain<1.0.0,>=0.3.18->langchain-community) (2.10.6)\n",
      "Requirement already satisfied: jsonpatch<2.0,>=1.33 in c:\\users\\user\\appdata\\roaming\\python\\python312\\site-packages (from langchain-core<1.0.0,>=0.3.34->langchain-community) (1.33)\n",
      "Requirement already satisfied: packaging<25,>=23.2 in c:\\users\\user\\appdata\\roaming\\python\\python312\\site-packages (from langchain-core<1.0.0,>=0.3.34->langchain-community) (24.2)\n",
      "Requirement already satisfied: typing-extensions>=4.7 in c:\\users\\user\\appdata\\roaming\\python\\python312\\site-packages (from langchain-core<1.0.0,>=0.3.34->langchain-community) (4.12.2)\n",
      "Requirement already satisfied: httpx<1,>=0.23.0 in c:\\users\\user\\appdata\\roaming\\python\\python312\\site-packages (from langsmith<0.4,>=0.1.125->langchain-community) (0.28.1)\n",
      "Requirement already satisfied: orjson<4.0.0,>=3.9.14 in c:\\users\\user\\appdata\\roaming\\python\\python312\\site-packages (from langsmith<0.4,>=0.1.125->langchain-community) (3.10.15)\n",
      "Requirement already satisfied: requests-toolbelt<2.0.0,>=1.0.0 in c:\\users\\user\\appdata\\roaming\\python\\python312\\site-packages (from langsmith<0.4,>=0.1.125->langchain-community) (1.0.0)\n",
      "Requirement already satisfied: zstandard<0.24.0,>=0.23.0 in c:\\users\\user\\appdata\\roaming\\python\\python312\\site-packages (from langsmith<0.4,>=0.1.125->langchain-community) (0.23.0)\n",
      "Requirement already satisfied: python-dotenv>=0.21.0 in c:\\users\\user\\appdata\\roaming\\python\\python312\\site-packages (from pydantic-settings<3.0.0,>=2.4.0->langchain-community) (1.0.1)\n",
      "Requirement already satisfied: charset-normalizer<4,>=2 in c:\\users\\user\\appdata\\roaming\\python\\python312\\site-packages (from requests<3,>=2->langchain-community) (3.4.1)\n",
      "Requirement already satisfied: idna<4,>=2.5 in c:\\users\\user\\appdata\\roaming\\python\\python312\\site-packages (from requests<3,>=2->langchain-community) (2.10)\n",
      "Requirement already satisfied: urllib3<3,>=1.21.1 in c:\\users\\user\\appdata\\roaming\\python\\python312\\site-packages (from requests<3,>=2->langchain-community) (2.3.0)\n",
      "Requirement already satisfied: certifi>=2017.4.17 in c:\\users\\user\\appdata\\roaming\\python\\python312\\site-packages (from requests<3,>=2->langchain-community) (2024.12.14)\n",
      "Requirement already satisfied: greenlet!=0.4.17 in c:\\users\\user\\appdata\\roaming\\python\\python312\\site-packages (from SQLAlchemy<3,>=1.4->langchain-community) (3.1.1)\n",
      "Requirement already satisfied: anyio in c:\\users\\user\\appdata\\roaming\\python\\python312\\site-packages (from httpx<1,>=0.23.0->langsmith<0.4,>=0.1.125->langchain-community) (4.8.0)\n",
      "Requirement already satisfied: httpcore==1.* in c:\\users\\user\\appdata\\roaming\\python\\python312\\site-packages (from httpx<1,>=0.23.0->langsmith<0.4,>=0.1.125->langchain-community) (1.0.7)\n",
      "Requirement already satisfied: h11<0.15,>=0.13 in c:\\users\\user\\appdata\\roaming\\python\\python312\\site-packages (from httpcore==1.*->httpx<1,>=0.23.0->langsmith<0.4,>=0.1.125->langchain-community) (0.14.0)\n",
      "Requirement already satisfied: jsonpointer>=1.9 in c:\\users\\user\\appdata\\roaming\\python\\python312\\site-packages (from jsonpatch<2.0,>=1.33->langchain-core<1.0.0,>=0.3.34->langchain-community) (3.0.0)\n",
      "Requirement already satisfied: annotated-types>=0.6.0 in c:\\users\\user\\appdata\\roaming\\python\\python312\\site-packages (from pydantic<3.0.0,>=2.7.4->langchain<1.0.0,>=0.3.18->langchain-community) (0.7.0)\n",
      "Requirement already satisfied: pydantic-core==2.27.2 in c:\\users\\user\\appdata\\roaming\\python\\python312\\site-packages (from pydantic<3.0.0,>=2.7.4->langchain<1.0.0,>=0.3.18->langchain-community) (2.27.2)\n",
      "Requirement already satisfied: mypy-extensions>=0.3.0 in c:\\users\\user\\appdata\\roaming\\python\\python312\\site-packages (from typing-inspect<1,>=0.4.0->dataclasses-json<0.7,>=0.5.7->langchain-community) (1.0.0)\n",
      "Requirement already satisfied: sniffio>=1.1 in c:\\users\\user\\appdata\\roaming\\python\\python312\\site-packages (from anyio->httpx<1,>=0.23.0->langsmith<0.4,>=0.1.125->langchain-community) (1.3.1)\n",
      "Note: you may need to restart the kernel to use updated packages.\n"
     ]
    },
    {
     "name": "stderr",
     "output_type": "stream",
     "text": [
      "\n",
      "[notice] A new release of pip is available: 24.2 -> 25.0.1\n",
      "[notice] To update, run: python.exe -m pip install --upgrade pip\n"
     ]
    }
   ],
   "source": [
    "pip install -U langchain-community"
   ]
  },
  {
   "cell_type": "code",
   "execution_count": 73,
   "metadata": {},
   "outputs": [],
   "source": [
    "from langchain.document_loaders import PyPDFLoader"
   ]
  },
  {
   "cell_type": "code",
   "execution_count": 74,
   "metadata": {},
   "outputs": [
    {
     "data": {
      "text/plain": [
       "'d:\\\\Question'"
      ]
     },
     "execution_count": 74,
     "metadata": {},
     "output_type": "execute_result"
    }
   ],
   "source": [
    "%pwd"
   ]
  },
  {
   "cell_type": "code",
   "execution_count": 75,
   "metadata": {},
   "outputs": [],
   "source": [
    "pdf_file_path='pdf/digital nomadism.pdf'"
   ]
  },
  {
   "cell_type": "code",
   "execution_count": 76,
   "metadata": {},
   "outputs": [
    {
     "data": {
      "text/plain": [
       "<langchain_community.document_loaders.pdf.PyPDFLoader at 0x224c5b0e840>"
      ]
     },
     "execution_count": 76,
     "metadata": {},
     "output_type": "execute_result"
    }
   ],
   "source": [
    "PyPDFLoader(pdf_file_path)"
   ]
  },
  {
   "cell_type": "code",
   "execution_count": 77,
   "metadata": {},
   "outputs": [
    {
     "name": "stdout",
     "output_type": "stream",
     "text": [
      "Defaulting to user installation because normal site-packages is not writeable\n",
      "Requirement already satisfied: pypdf in c:\\users\\user\\appdata\\roaming\\python\\python312\\site-packages (5.3.0)\n"
     ]
    },
    {
     "name": "stderr",
     "output_type": "stream",
     "text": [
      "\n",
      "[notice] A new release of pip is available: 24.2 -> 25.0.1\n",
      "[notice] To update, run: python.exe -m pip install --upgrade pip\n"
     ]
    }
   ],
   "source": [
    "!pip install pypdf"
   ]
  },
  {
   "cell_type": "code",
   "execution_count": 78,
   "metadata": {},
   "outputs": [],
   "source": [
    "loader=PyPDFLoader(pdf_file_path)\n",
    "data=loader.load()"
   ]
  },
  {
   "cell_type": "code",
   "execution_count": 79,
   "metadata": {},
   "outputs": [
    {
     "data": {
      "text/plain": [
       "[Document(metadata={'producer': 'Microsoft® Word 2016', 'creator': 'Microsoft® Word 2016', 'creationdate': '2022-10-04T10:12:13+11:00', 'author': 'Najmaei, Arash (MB)', 'moddate': '2022-10-04T10:12:13+11:00', 'source': 'pdf/digital nomadism.pdf', 'total_pages': 6, 'page': 0, 'page_label': '1'}, page_content='A Socio-Materialistic View of Digital Nomadism \\n \\nZahra Sadeghinejad \\nArash Najmaei \\n \\nSeptember 2022 \\n \\nDigital nomadism has become one of the most significant social phenomena in the last few \\nyears. Preponderance of scholarly and anecdotal evidence about the rise of digitally nomadic \\nlifer style and its role of transforming societies, markets, and industries suggest that this \\nphenomenon deserve more systematic explanation. To this end, we borrow the socio -\\nmateriality theory from the field of organisation scien ce to propose a socio-materialistic view \\nof digital nomadism. Our conceptualization suggests that digital nomadism is best understood \\nas a form of continuous emergent of social life of a nomad and through his or her use of digital \\nmaterial. The socio -materiality of digital nomadism hence offers a new view of the \\nphenomenon as an inseparable entity that is social and material. \\n \\nDefining digital nomadism  \\nNomads are people who move often to different locations. Traditionally, they were motivated \\nby the need to obtain food, find pasture for livestock, or otherwise make a living. While a grey \\nzone exists in defining nomads and migrants, nomads move more often or move continuously \\nas a lifestyle choice (Schlagwein, 2018). Among traditional nomads, we can distinguish hunter-\\ngatherers (moving in their search for food), pastoral nomads (moving with their livestock, such \\nas the Bedouin) and peripatetic nomads (moving to sell their craft, such as the Sinti) \\n(Schlagwein, 2018).  \\nDigital nomadism departs from these traditional forms by emphasizing the central role of digital \\ntechnologies and the need to seek digital freedom which is enabled by internet. In 1997,'),\n",
       " Document(metadata={'producer': 'Microsoft® Word 2016', 'creator': 'Microsoft® Word 2016', 'creationdate': '2022-10-04T10:12:13+11:00', 'author': 'Najmaei, Arash (MB)', 'moddate': '2022-10-04T10:12:13+11:00', 'source': 'pdf/digital nomadism.pdf', 'total_pages': 6, 'page': 1, 'page_label': '2'}, page_content='Makimoto and Manners recognised the power of internet in transforming lives in their \\nmanifesto called “digital nomad” in which they described the future of work as:  \\n“At the moment, we do not have the ability to communicate by video link between any \\ntwo points on the planet. But we will have it, and it will be generally affordable, within ten \\nyears. We will be able to see people, documents, and pictures wherever they happen to \\nbe, from anywhere we happen to be” (p. 5f). \\nFast forward 25 years, prophesy of Makimoto  and Manners has turned into a global reality. \\nDigital nomadism is the offspring of the freedom that global digital technology and its rapid \\nadvancement and widespread adoption brings about. As described by Reichenberger (2017) \\nfreedom in the information era appears “in a variety of contexts, including freedom within paid \\nemployment, freedom relating to location independence and freedom to pursue self -\\ndevelopment” (p. 9).  Digital nomads are, then those mobile laborers who seek a new mode \\nof work-life reconciliation (Müller, 2016) by adopting a nomadic lifestyle while working remotely \\nby leveraging digital technologies. As such, digital nomads are also called “ neo-nomads,” \\n“global nomads,” “modern nomads,” or “new nomads” (Müller, 2016).  \\nThe lifestyle of th e digital nomad unifies different aspects of  multi-directional technology -\\nenabled mobility and location-independent work on a new social level that may lead to a new \\nglobal culture or a universal social system (Bozzi, 2020; Ibarra & Kalich, 2022; Müller, 2 016; \\nWoldoff & Litchfield, 2021) . As such, a deeper understanding of the genesis of digital \\nnomadism is warranted. To this end, we can distinguish two forces that play pivotal role in the \\nformation of digital nomadism: 1) digital technology 2) socio -cultural style of a nomadic life. \\nThe question is, then, how these forces come together to explain the genesis of digital \\nnomadism? \\n \\nSocio-materiality theory'),\n",
       " Document(metadata={'producer': 'Microsoft® Word 2016', 'creator': 'Microsoft® Word 2016', 'creationdate': '2022-10-04T10:12:13+11:00', 'author': 'Najmaei, Arash (MB)', 'moddate': '2022-10-04T10:12:13+11:00', 'source': 'pdf/digital nomadism.pdf', 'total_pages': 6, 'page': 2, 'page_label': '3'}, page_content='The socio-materiality theory is a theory of the interaction between technology (material) and \\norganisation of societies in which different technologies are used. This theory aims to explain \\nthe state that is simultaneously social and material in the world (Kim & Yang, 2020).  \\nTraditionally, the distinct and direct use of technology in societies was either ab sent or only \\nimplicitly discussed. The separation of technology and organisation of societies was \\nparadoxical and problematic due to the rising importance of technologies in transforming \\nexisting and shaping new social norms and structures (Jain & Srinivasan, 2022; Orlikowski & \\nScott, 2008; Stanko, Dahm, Lahneman, & Richter, 2022) . Therefore, the socio -materiality \\ntheory gained momentum as a theoretical view that replaces the separation of technologies \\nfrom societies with a fusion of them  (Orlikowski & Scot t, 2008) . In this way, the socio -\\nmateriality perspective rests on the premise that social and technological aspects of various \\nsocial systems and phenomena are interlinked and inseparable in a given context. This \\ninseparability creates constitutive entangl ement and recursive intertwining which creates \\nunique forces for the system to adapt and evolve (Jain & Srinivasan, 2022). Therefore, a socio-\\nmaterialistic view of a given social or organisational phenomenon suggests that all materiality \\nis created, interpreted, and used based on social practice, and all social practice is affected \\nby materiality (Leonardi, 2013). We now use this view to propose a socio-materialistic view of \\ndigital nomadism.  \\n \\n A socio-materialistic view of digital nomadism and why it matters \\nIn a socio-materialistic view, materiality refers to the qualities of material agencies including \\nall technological tools, methods, techniques and essentially all non -human elements \\nperforming specific functions. Considering this, the digital and physi cal aspects of a digital \\nnomadic lifestyle form the inseparable materialistic fabric of it. Furthermore, materiality is not \\nlimited to only technical aspects of digital nomadism. The workplace and the physical \\nenvironment where a digital nomad is situated and works also constitutes as components of'),\n",
       " Document(metadata={'producer': 'Microsoft® Word 2016', 'creator': 'Microsoft® Word 2016', 'creationdate': '2022-10-04T10:12:13+11:00', 'author': 'Najmaei, Arash (MB)', 'moddate': '2022-10-04T10:12:13+11:00', 'source': 'pdf/digital nomadism.pdf', 'total_pages': 6, 'page': 3, 'page_label': '4'}, page_content='its material identity. The social practice is however boarder and covers all human-enabled or \\nperformed agencies or routines that make a system functions. In the context of digital \\nnomadism, the human-centric of a nomadic life and the way a nomad organises his or her life \\nwhile balancing it with work constitute social practice. These includes routines, norms, policies, \\ncommunications and personal as well as professional activities that are crucial to perform jobs \\nand sustain the nomadic lifestyle. Taken together, a socio -materialistic view of digital \\nnomadism suggests that digital and non -digital tools and technologies as well as human -\\ncantered agency and different policies and behaviours work in tandem to create a  \\nreconciliation of work -specific requirements with the necessary conditions of a nomadic \\nlifestyle.   \\nThis view is important in two ways. First, it portrays digital nomadism as a complex system of \\nsocial and material factors which work together in order to create a unique lifestyle. This view \\nis, therefore, a theoretically robust approach to study different aspects of digital nomadism. \\nSecond, it offers three intertwined directions to study the formation, functionality, and \\nconsequences of adopting digitally nomadic lifestyle. These three include, the materiality side, \\nthe social practice, and the fusion of these two in the form of a unified socio -materialistic \\nphenomenon. \\n \\nConclusion   \\nDigital nomadism has become one of the most talked-about buzz words recently. Despite its \\nrising popularity, little research has been done on the theoretical foundation of this \\nphenomenon. In this short essay we used the theoretical lens of socio -materiality and \\nproposed a socio-materialistic view of digital nomadism. We argued that the technological and \\nsocial sides of digital nomadism can’t be separated.  We also outlined why this view matters. \\nWe hope other researchers interested in this phenomenon see benefits in this approach and \\nbuild on our conceptualization to advance research on this interesting phenomenon.'),\n",
       " Document(metadata={'producer': 'Microsoft® Word 2016', 'creator': 'Microsoft® Word 2016', 'creationdate': '2022-10-04T10:12:13+11:00', 'author': 'Najmaei, Arash (MB)', 'moddate': '2022-10-04T10:12:13+11:00', 'source': 'pdf/digital nomadism.pdf', 'total_pages': 6, 'page': 4, 'page_label': '5'}, page_content='References  \\n \\nBozzi, N. (2020). #digitalnomads, #solotravellers, #remoteworkers: A Cultural Critique of the \\nTraveling Entrepreneur on Instagram. Social Media + Society, 6(2). \\ndoi:10.1177/2056305120926644 \\nIbarra, B., & Kalich, B. (2022). The nomadic curriculum for the digital age. Currere Exchange \\nJournal, 6(1), 56–62.  \\nJain, A., & Srinivasan, V. (2022). What happened to the work I was doing? Sociomateriality \\nand cognitive tensions in technology work. Organizational Dynamics. \\ndoi:10.1016/j.orgdyn.2022.100901 \\nKim, Y., & Yang, E. (2020). Theoretical understanding of sociomateriality in workplace \\nstudies. Facilities, 38(13/14), 927-942. doi:10.1108/f-10-2019-0112 \\nLeonardi, P. M. (2013). Theoretical foundations for the study of sociomateriality. Information \\nand Organization, 23(2), 59-76.  \\nMakimoto, T., & Manners, D. (1997). Digital Nomad: Wiley. \\nMüller, A. (2016). The digital nomad: Buzzword or research category? Transnational Social \\nReview, 6(3), 344-348. doi:10.1080/21931674.2016.1229930 \\nOrlikowski, W. J., & Scott, S. V. (2008). 10 Sociomateriality: Challenging the Separation of \\nTechnology, Work and Organization. The Academy of Management Annals, 2(1), \\n433-474. doi:10.5465/19416520802211644 \\nReichenberger, I. (2017). Digital nomads: A quest for holistic freedom in work and leisure. \\nAnnals of Leisure Research, 364–380.  \\nSchlagwein, D. (2018). The history of digital nomadism. In 6th International Workshop on the \\nChanging Nature of Work (CNOW), San Francisco (Vol. 13).'),\n",
       " Document(metadata={'producer': 'Microsoft® Word 2016', 'creator': 'Microsoft® Word 2016', 'creationdate': '2022-10-04T10:12:13+11:00', 'author': 'Najmaei, Arash (MB)', 'moddate': '2022-10-04T10:12:13+11:00', 'source': 'pdf/digital nomadism.pdf', 'total_pages': 6, 'page': 5, 'page_label': '6'}, page_content='Stanko, T. L., Dahm, P. C., Lahneman, B., & Richter, J. (2022). Navigating an identity \\nplayground: Using sociomateriality to build a theory of identity play. Organization \\nStudies, 43(1), 81-103.  \\nWoldoff, R. A., & Litchfield, R. C. (2021). Digital Nomads: In Search of Freedom, \\nCommunity, and Meaningful Work in the New Economy: Oxford University Press. \\n \\n \\n \\n \\nDr Zahra Sadeghinejad is an Assistant Professor at UBSS and a Fellow of the Centre for \\nScholarship and Research \\n \\nDr Arash Najmaei is a Fellow of the Centre for Scholarship and Research')]"
      ]
     },
     "execution_count": 79,
     "metadata": {},
     "output_type": "execute_result"
    }
   ],
   "source": [
    "data"
   ]
  },
  {
   "cell_type": "code",
   "execution_count": 80,
   "metadata": {},
   "outputs": [
    {
     "data": {
      "text/plain": [
       "6"
      ]
     },
     "execution_count": 80,
     "metadata": {},
     "output_type": "execute_result"
    }
   ],
   "source": [
    "len(data)"
   ]
  },
  {
   "cell_type": "code",
   "execution_count": 81,
   "metadata": {},
   "outputs": [],
   "source": [
    "questionGen=\"\"\n",
    "for page in data:\n",
    "    questionGen+=page.page_content"
   ]
  },
  {
   "cell_type": "code",
   "execution_count": 82,
   "metadata": {},
   "outputs": [
    {
     "data": {
      "text/plain": [
       "'A Socio-Materialistic View of Digital Nomadism \\n \\nZahra Sadeghinejad \\nArash Najmaei \\n \\nSeptember 2022 \\n \\nDigital nomadism has become one of the most significant social phenomena in the last few \\nyears. Preponderance of scholarly and anecdotal evidence about the rise of digitally nomadic \\nlifer style and its role of transforming societies, markets, and industries suggest that this \\nphenomenon deserve more systematic explanation. To this end, we borrow the socio -\\nmateriality theory from the field of organisation scien ce to propose a socio-materialistic view \\nof digital nomadism. Our conceptualization suggests that digital nomadism is best understood \\nas a form of continuous emergent of social life of a nomad and through his or her use of digital \\nmaterial. The socio -materiality of digital nomadism hence offers a new view of the \\nphenomenon as an inseparable entity that is social and material. \\n \\nDefining digital nomadism  \\nNomads are people who move often to different locations. Traditionally, they were motivated \\nby the need to obtain food, find pasture for livestock, or otherwise make a living. While a grey \\nzone exists in defining nomads and migrants, nomads move more often or move continuously \\nas a lifestyle choice (Schlagwein, 2018). Among traditional nomads, we can distinguish hunter-\\ngatherers (moving in their search for food), pastoral nomads (moving with their livestock, such \\nas the Bedouin) and peripatetic nomads (moving to sell their craft, such as the Sinti) \\n(Schlagwein, 2018).  \\nDigital nomadism departs from these traditional forms by emphasizing the central role of digital \\ntechnologies and the need to seek digital freedom which is enabled by internet. In 1997,Makimoto and Manners recognised the power of internet in transforming lives in their \\nmanifesto called “digital nomad” in which they described the future of work as:  \\n“At the moment, we do not have the ability to communicate by video link between any \\ntwo points on the planet. But we will have it, and it will be generally affordable, within ten \\nyears. We will be able to see people, documents, and pictures wherever they happen to \\nbe, from anywhere we happen to be” (p. 5f). \\nFast forward 25 years, prophesy of Makimoto  and Manners has turned into a global reality. \\nDigital nomadism is the offspring of the freedom that global digital technology and its rapid \\nadvancement and widespread adoption brings about. As described by Reichenberger (2017) \\nfreedom in the information era appears “in a variety of contexts, including freedom within paid \\nemployment, freedom relating to location independence and freedom to pursue self -\\ndevelopment” (p. 9).  Digital nomads are, then those mobile laborers who seek a new mode \\nof work-life reconciliation (Müller, 2016) by adopting a nomadic lifestyle while working remotely \\nby leveraging digital technologies. As such, digital nomads are also called “ neo-nomads,” \\n“global nomads,” “modern nomads,” or “new nomads” (Müller, 2016).  \\nThe lifestyle of th e digital nomad unifies different aspects of  multi-directional technology -\\nenabled mobility and location-independent work on a new social level that may lead to a new \\nglobal culture or a universal social system (Bozzi, 2020; Ibarra & Kalich, 2022; Müller, 2 016; \\nWoldoff & Litchfield, 2021) . As such, a deeper understanding of the genesis of digital \\nnomadism is warranted. To this end, we can distinguish two forces that play pivotal role in the \\nformation of digital nomadism: 1) digital technology 2) socio -cultural style of a nomadic life. \\nThe question is, then, how these forces come together to explain the genesis of digital \\nnomadism? \\n \\nSocio-materiality theoryThe socio-materiality theory is a theory of the interaction between technology (material) and \\norganisation of societies in which different technologies are used. This theory aims to explain \\nthe state that is simultaneously social and material in the world (Kim & Yang, 2020).  \\nTraditionally, the distinct and direct use of technology in societies was either ab sent or only \\nimplicitly discussed. The separation of technology and organisation of societies was \\nparadoxical and problematic due to the rising importance of technologies in transforming \\nexisting and shaping new social norms and structures (Jain & Srinivasan, 2022; Orlikowski & \\nScott, 2008; Stanko, Dahm, Lahneman, & Richter, 2022) . Therefore, the socio -materiality \\ntheory gained momentum as a theoretical view that replaces the separation of technologies \\nfrom societies with a fusion of them  (Orlikowski & Scot t, 2008) . In this way, the socio -\\nmateriality perspective rests on the premise that social and technological aspects of various \\nsocial systems and phenomena are interlinked and inseparable in a given context. This \\ninseparability creates constitutive entangl ement and recursive intertwining which creates \\nunique forces for the system to adapt and evolve (Jain & Srinivasan, 2022). Therefore, a socio-\\nmaterialistic view of a given social or organisational phenomenon suggests that all materiality \\nis created, interpreted, and used based on social practice, and all social practice is affected \\nby materiality (Leonardi, 2013). We now use this view to propose a socio-materialistic view of \\ndigital nomadism.  \\n \\n A socio-materialistic view of digital nomadism and why it matters \\nIn a socio-materialistic view, materiality refers to the qualities of material agencies including \\nall technological tools, methods, techniques and essentially all non -human elements \\nperforming specific functions. Considering this, the digital and physi cal aspects of a digital \\nnomadic lifestyle form the inseparable materialistic fabric of it. Furthermore, materiality is not \\nlimited to only technical aspects of digital nomadism. The workplace and the physical \\nenvironment where a digital nomad is situated and works also constitutes as components ofits material identity. The social practice is however boarder and covers all human-enabled or \\nperformed agencies or routines that make a system functions. In the context of digital \\nnomadism, the human-centric of a nomadic life and the way a nomad organises his or her life \\nwhile balancing it with work constitute social practice. These includes routines, norms, policies, \\ncommunications and personal as well as professional activities that are crucial to perform jobs \\nand sustain the nomadic lifestyle. Taken together, a socio -materialistic view of digital \\nnomadism suggests that digital and non -digital tools and technologies as well as human -\\ncantered agency and different policies and behaviours work in tandem to create a  \\nreconciliation of work -specific requirements with the necessary conditions of a nomadic \\nlifestyle.   \\nThis view is important in two ways. First, it portrays digital nomadism as a complex system of \\nsocial and material factors which work together in order to create a unique lifestyle. This view \\nis, therefore, a theoretically robust approach to study different aspects of digital nomadism. \\nSecond, it offers three intertwined directions to study the formation, functionality, and \\nconsequences of adopting digitally nomadic lifestyle. These three include, the materiality side, \\nthe social practice, and the fusion of these two in the form of a unified socio -materialistic \\nphenomenon. \\n \\nConclusion   \\nDigital nomadism has become one of the most talked-about buzz words recently. Despite its \\nrising popularity, little research has been done on the theoretical foundation of this \\nphenomenon. In this short essay we used the theoretical lens of socio -materiality and \\nproposed a socio-materialistic view of digital nomadism. We argued that the technological and \\nsocial sides of digital nomadism can’t be separated.  We also outlined why this view matters. \\nWe hope other researchers interested in this phenomenon see benefits in this approach and \\nbuild on our conceptualization to advance research on this interesting phenomenon.References  \\n \\nBozzi, N. (2020). #digitalnomads, #solotravellers, #remoteworkers: A Cultural Critique of the \\nTraveling Entrepreneur on Instagram. Social Media + Society, 6(2). \\ndoi:10.1177/2056305120926644 \\nIbarra, B., & Kalich, B. (2022). The nomadic curriculum for the digital age. Currere Exchange \\nJournal, 6(1), 56–62.  \\nJain, A., & Srinivasan, V. (2022). What happened to the work I was doing? Sociomateriality \\nand cognitive tensions in technology work. Organizational Dynamics. \\ndoi:10.1016/j.orgdyn.2022.100901 \\nKim, Y., & Yang, E. (2020). Theoretical understanding of sociomateriality in workplace \\nstudies. Facilities, 38(13/14), 927-942. doi:10.1108/f-10-2019-0112 \\nLeonardi, P. M. (2013). Theoretical foundations for the study of sociomateriality. Information \\nand Organization, 23(2), 59-76.  \\nMakimoto, T., & Manners, D. (1997). Digital Nomad: Wiley. \\nMüller, A. (2016). The digital nomad: Buzzword or research category? Transnational Social \\nReview, 6(3), 344-348. doi:10.1080/21931674.2016.1229930 \\nOrlikowski, W. J., & Scott, S. V. (2008). 10 Sociomateriality: Challenging the Separation of \\nTechnology, Work and Organization. The Academy of Management Annals, 2(1), \\n433-474. doi:10.5465/19416520802211644 \\nReichenberger, I. (2017). Digital nomads: A quest for holistic freedom in work and leisure. \\nAnnals of Leisure Research, 364–380.  \\nSchlagwein, D. (2018). The history of digital nomadism. In 6th International Workshop on the \\nChanging Nature of Work (CNOW), San Francisco (Vol. 13).Stanko, T. L., Dahm, P. C., Lahneman, B., & Richter, J. (2022). Navigating an identity \\nplayground: Using sociomateriality to build a theory of identity play. Organization \\nStudies, 43(1), 81-103.  \\nWoldoff, R. A., & Litchfield, R. C. (2021). Digital Nomads: In Search of Freedom, \\nCommunity, and Meaningful Work in the New Economy: Oxford University Press. \\n \\n \\n \\n \\nDr Zahra Sadeghinejad is an Assistant Professor at UBSS and a Fellow of the Centre for \\nScholarship and Research \\n \\nDr Arash Najmaei is a Fellow of the Centre for Scholarship and Research'"
      ]
     },
     "execution_count": 82,
     "metadata": {},
     "output_type": "execute_result"
    }
   ],
   "source": [
    "questionGen"
   ]
  },
  {
   "cell_type": "code",
   "execution_count": 83,
   "metadata": {},
   "outputs": [],
   "source": [
    "from langchain.text_splitter import TokenTextSplitter"
   ]
  },
  {
   "cell_type": "code",
   "execution_count": 84,
   "metadata": {},
   "outputs": [
    {
     "name": "stdout",
     "output_type": "stream",
     "text": [
      "Defaulting to user installation because normal site-packages is not writeable"
     ]
    },
    {
     "name": "stderr",
     "output_type": "stream",
     "text": [
      "\n",
      "[notice] A new release of pip is available: 24.2 -> 25.0.1\n",
      "[notice] To update, run: python.exe -m pip install --upgrade pip\n"
     ]
    },
    {
     "name": "stdout",
     "output_type": "stream",
     "text": [
      "\n",
      "Requirement already satisfied: tiktoken in c:\\users\\user\\appdata\\roaming\\python\\python312\\site-packages (0.9.0)\n",
      "Requirement already satisfied: regex>=2022.1.18 in c:\\users\\user\\appdata\\roaming\\python\\python312\\site-packages (from tiktoken) (2024.11.6)\n",
      "Requirement already satisfied: requests>=2.26.0 in c:\\users\\user\\appdata\\roaming\\python\\python312\\site-packages (from tiktoken) (2.32.3)\n",
      "Requirement already satisfied: charset-normalizer<4,>=2 in c:\\users\\user\\appdata\\roaming\\python\\python312\\site-packages (from requests>=2.26.0->tiktoken) (3.4.1)\n",
      "Requirement already satisfied: idna<4,>=2.5 in c:\\users\\user\\appdata\\roaming\\python\\python312\\site-packages (from requests>=2.26.0->tiktoken) (2.10)\n",
      "Requirement already satisfied: urllib3<3,>=1.21.1 in c:\\users\\user\\appdata\\roaming\\python\\python312\\site-packages (from requests>=2.26.0->tiktoken) (2.3.0)\n",
      "Requirement already satisfied: certifi>=2017.4.17 in c:\\users\\user\\appdata\\roaming\\python\\python312\\site-packages (from requests>=2.26.0->tiktoken) (2024.12.14)\n"
     ]
    }
   ],
   "source": [
    "!pip install tiktoken"
   ]
  },
  {
   "cell_type": "code",
   "execution_count": 85,
   "metadata": {},
   "outputs": [],
   "source": [
    "afterSplitQuestionGen= TokenTextSplitter(\n",
    "    model_name='gpt-3.5-turbo',\n",
    "    chunk_size=60000,\n",
    "    chunk_overlap=200\n",
    ")"
   ]
  },
  {
   "cell_type": "code",
   "execution_count": 86,
   "metadata": {},
   "outputs": [],
   "source": [
    "chunk_question_gen=afterSplitQuestionGen.split_text(questionGen)"
   ]
  },
  {
   "cell_type": "code",
   "execution_count": 87,
   "metadata": {},
   "outputs": [
    {
     "data": {
      "text/plain": [
       "1"
      ]
     },
     "execution_count": 87,
     "metadata": {},
     "output_type": "execute_result"
    }
   ],
   "source": [
    "len(chunk_question_gen)"
   ]
  },
  {
   "cell_type": "code",
   "execution_count": 88,
   "metadata": {},
   "outputs": [
    {
     "data": {
      "text/plain": [
       "['A Socio-Materialistic View of Digital Nomadism \\n \\nZahra Sadeghinejad \\nArash Najmaei \\n \\nSeptember 2022 \\n \\nDigital nomadism has become one of the most significant social phenomena in the last few \\nyears. Preponderance of scholarly and anecdotal evidence about the rise of digitally nomadic \\nlifer style and its role of transforming societies, markets, and industries suggest that this \\nphenomenon deserve more systematic explanation. To this end, we borrow the socio -\\nmateriality theory from the field of organisation scien ce to propose a socio-materialistic view \\nof digital nomadism. Our conceptualization suggests that digital nomadism is best understood \\nas a form of continuous emergent of social life of a nomad and through his or her use of digital \\nmaterial. The socio -materiality of digital nomadism hence offers a new view of the \\nphenomenon as an inseparable entity that is social and material. \\n \\nDefining digital nomadism  \\nNomads are people who move often to different locations. Traditionally, they were motivated \\nby the need to obtain food, find pasture for livestock, or otherwise make a living. While a grey \\nzone exists in defining nomads and migrants, nomads move more often or move continuously \\nas a lifestyle choice (Schlagwein, 2018). Among traditional nomads, we can distinguish hunter-\\ngatherers (moving in their search for food), pastoral nomads (moving with their livestock, such \\nas the Bedouin) and peripatetic nomads (moving to sell their craft, such as the Sinti) \\n(Schlagwein, 2018).  \\nDigital nomadism departs from these traditional forms by emphasizing the central role of digital \\ntechnologies and the need to seek digital freedom which is enabled by internet. In 1997,Makimoto and Manners recognised the power of internet in transforming lives in their \\nmanifesto called “digital nomad” in which they described the future of work as:  \\n“At the moment, we do not have the ability to communicate by video link between any \\ntwo points on the planet. But we will have it, and it will be generally affordable, within ten \\nyears. We will be able to see people, documents, and pictures wherever they happen to \\nbe, from anywhere we happen to be” (p. 5f). \\nFast forward 25 years, prophesy of Makimoto  and Manners has turned into a global reality. \\nDigital nomadism is the offspring of the freedom that global digital technology and its rapid \\nadvancement and widespread adoption brings about. As described by Reichenberger (2017) \\nfreedom in the information era appears “in a variety of contexts, including freedom within paid \\nemployment, freedom relating to location independence and freedom to pursue self -\\ndevelopment” (p. 9).  Digital nomads are, then those mobile laborers who seek a new mode \\nof work-life reconciliation (Müller, 2016) by adopting a nomadic lifestyle while working remotely \\nby leveraging digital technologies. As such, digital nomads are also called “ neo-nomads,” \\n“global nomads,” “modern nomads,” or “new nomads” (Müller, 2016).  \\nThe lifestyle of th e digital nomad unifies different aspects of  multi-directional technology -\\nenabled mobility and location-independent work on a new social level that may lead to a new \\nglobal culture or a universal social system (Bozzi, 2020; Ibarra & Kalich, 2022; Müller, 2 016; \\nWoldoff & Litchfield, 2021) . As such, a deeper understanding of the genesis of digital \\nnomadism is warranted. To this end, we can distinguish two forces that play pivotal role in the \\nformation of digital nomadism: 1) digital technology 2) socio -cultural style of a nomadic life. \\nThe question is, then, how these forces come together to explain the genesis of digital \\nnomadism? \\n \\nSocio-materiality theoryThe socio-materiality theory is a theory of the interaction between technology (material) and \\norganisation of societies in which different technologies are used. This theory aims to explain \\nthe state that is simultaneously social and material in the world (Kim & Yang, 2020).  \\nTraditionally, the distinct and direct use of technology in societies was either ab sent or only \\nimplicitly discussed. The separation of technology and organisation of societies was \\nparadoxical and problematic due to the rising importance of technologies in transforming \\nexisting and shaping new social norms and structures (Jain & Srinivasan, 2022; Orlikowski & \\nScott, 2008; Stanko, Dahm, Lahneman, & Richter, 2022) . Therefore, the socio -materiality \\ntheory gained momentum as a theoretical view that replaces the separation of technologies \\nfrom societies with a fusion of them  (Orlikowski & Scot t, 2008) . In this way, the socio -\\nmateriality perspective rests on the premise that social and technological aspects of various \\nsocial systems and phenomena are interlinked and inseparable in a given context. This \\ninseparability creates constitutive entangl ement and recursive intertwining which creates \\nunique forces for the system to adapt and evolve (Jain & Srinivasan, 2022). Therefore, a socio-\\nmaterialistic view of a given social or organisational phenomenon suggests that all materiality \\nis created, interpreted, and used based on social practice, and all social practice is affected \\nby materiality (Leonardi, 2013). We now use this view to propose a socio-materialistic view of \\ndigital nomadism.  \\n \\n A socio-materialistic view of digital nomadism and why it matters \\nIn a socio-materialistic view, materiality refers to the qualities of material agencies including \\nall technological tools, methods, techniques and essentially all non -human elements \\nperforming specific functions. Considering this, the digital and physi cal aspects of a digital \\nnomadic lifestyle form the inseparable materialistic fabric of it. Furthermore, materiality is not \\nlimited to only technical aspects of digital nomadism. The workplace and the physical \\nenvironment where a digital nomad is situated and works also constitutes as components ofits material identity. The social practice is however boarder and covers all human-enabled or \\nperformed agencies or routines that make a system functions. In the context of digital \\nnomadism, the human-centric of a nomadic life and the way a nomad organises his or her life \\nwhile balancing it with work constitute social practice. These includes routines, norms, policies, \\ncommunications and personal as well as professional activities that are crucial to perform jobs \\nand sustain the nomadic lifestyle. Taken together, a socio -materialistic view of digital \\nnomadism suggests that digital and non -digital tools and technologies as well as human -\\ncantered agency and different policies and behaviours work in tandem to create a  \\nreconciliation of work -specific requirements with the necessary conditions of a nomadic \\nlifestyle.   \\nThis view is important in two ways. First, it portrays digital nomadism as a complex system of \\nsocial and material factors which work together in order to create a unique lifestyle. This view \\nis, therefore, a theoretically robust approach to study different aspects of digital nomadism. \\nSecond, it offers three intertwined directions to study the formation, functionality, and \\nconsequences of adopting digitally nomadic lifestyle. These three include, the materiality side, \\nthe social practice, and the fusion of these two in the form of a unified socio -materialistic \\nphenomenon. \\n \\nConclusion   \\nDigital nomadism has become one of the most talked-about buzz words recently. Despite its \\nrising popularity, little research has been done on the theoretical foundation of this \\nphenomenon. In this short essay we used the theoretical lens of socio -materiality and \\nproposed a socio-materialistic view of digital nomadism. We argued that the technological and \\nsocial sides of digital nomadism can’t be separated.  We also outlined why this view matters. \\nWe hope other researchers interested in this phenomenon see benefits in this approach and \\nbuild on our conceptualization to advance research on this interesting phenomenon.References  \\n \\nBozzi, N. (2020). #digitalnomads, #solotravellers, #remoteworkers: A Cultural Critique of the \\nTraveling Entrepreneur on Instagram. Social Media + Society, 6(2). \\ndoi:10.1177/2056305120926644 \\nIbarra, B., & Kalich, B. (2022). The nomadic curriculum for the digital age. Currere Exchange \\nJournal, 6(1), 56–62.  \\nJain, A., & Srinivasan, V. (2022). What happened to the work I was doing? Sociomateriality \\nand cognitive tensions in technology work. Organizational Dynamics. \\ndoi:10.1016/j.orgdyn.2022.100901 \\nKim, Y., & Yang, E. (2020). Theoretical understanding of sociomateriality in workplace \\nstudies. Facilities, 38(13/14), 927-942. doi:10.1108/f-10-2019-0112 \\nLeonardi, P. M. (2013). Theoretical foundations for the study of sociomateriality. Information \\nand Organization, 23(2), 59-76.  \\nMakimoto, T., & Manners, D. (1997). Digital Nomad: Wiley. \\nMüller, A. (2016). The digital nomad: Buzzword or research category? Transnational Social \\nReview, 6(3), 344-348. doi:10.1080/21931674.2016.1229930 \\nOrlikowski, W. J., & Scott, S. V. (2008). 10 Sociomateriality: Challenging the Separation of \\nTechnology, Work and Organization. The Academy of Management Annals, 2(1), \\n433-474. doi:10.5465/19416520802211644 \\nReichenberger, I. (2017). Digital nomads: A quest for holistic freedom in work and leisure. \\nAnnals of Leisure Research, 364–380.  \\nSchlagwein, D. (2018). The history of digital nomadism. In 6th International Workshop on the \\nChanging Nature of Work (CNOW), San Francisco (Vol. 13).Stanko, T. L., Dahm, P. C., Lahneman, B., & Richter, J. (2022). Navigating an identity \\nplayground: Using sociomateriality to build a theory of identity play. Organization \\nStudies, 43(1), 81-103.  \\nWoldoff, R. A., & Litchfield, R. C. (2021). Digital Nomads: In Search of Freedom, \\nCommunity, and Meaningful Work in the New Economy: Oxford University Press. \\n \\n \\n \\n \\nDr Zahra Sadeghinejad is an Assistant Professor at UBSS and a Fellow of the Centre for \\nScholarship and Research \\n \\nDr Arash Najmaei is a Fellow of the Centre for Scholarship and Research']"
      ]
     },
     "execution_count": 88,
     "metadata": {},
     "output_type": "execute_result"
    }
   ],
   "source": [
    "chunk_question_gen"
   ]
  },
  {
   "cell_type": "code",
   "execution_count": 89,
   "metadata": {},
   "outputs": [
    {
     "data": {
      "text/plain": [
       "list"
      ]
     },
     "execution_count": 89,
     "metadata": {},
     "output_type": "execute_result"
    }
   ],
   "source": [
    "type(chunk_question_gen)"
   ]
  },
  {
   "cell_type": "code",
   "execution_count": 90,
   "metadata": {},
   "outputs": [],
   "source": [
    "from langchain.docstore.document import Document"
   ]
  },
  {
   "cell_type": "code",
   "execution_count": 91,
   "metadata": {},
   "outputs": [],
   "source": [
    "chunk_to_document=[Document(page_content=t)for t in chunk_question_gen]"
   ]
  },
  {
   "cell_type": "code",
   "execution_count": 92,
   "metadata": {},
   "outputs": [
    {
     "data": {
      "text/plain": [
       "[Document(metadata={}, page_content='A Socio-Materialistic View of Digital Nomadism \\n \\nZahra Sadeghinejad \\nArash Najmaei \\n \\nSeptember 2022 \\n \\nDigital nomadism has become one of the most significant social phenomena in the last few \\nyears. Preponderance of scholarly and anecdotal evidence about the rise of digitally nomadic \\nlifer style and its role of transforming societies, markets, and industries suggest that this \\nphenomenon deserve more systematic explanation. To this end, we borrow the socio -\\nmateriality theory from the field of organisation scien ce to propose a socio-materialistic view \\nof digital nomadism. Our conceptualization suggests that digital nomadism is best understood \\nas a form of continuous emergent of social life of a nomad and through his or her use of digital \\nmaterial. The socio -materiality of digital nomadism hence offers a new view of the \\nphenomenon as an inseparable entity that is social and material. \\n \\nDefining digital nomadism  \\nNomads are people who move often to different locations. Traditionally, they were motivated \\nby the need to obtain food, find pasture for livestock, or otherwise make a living. While a grey \\nzone exists in defining nomads and migrants, nomads move more often or move continuously \\nas a lifestyle choice (Schlagwein, 2018). Among traditional nomads, we can distinguish hunter-\\ngatherers (moving in their search for food), pastoral nomads (moving with their livestock, such \\nas the Bedouin) and peripatetic nomads (moving to sell their craft, such as the Sinti) \\n(Schlagwein, 2018).  \\nDigital nomadism departs from these traditional forms by emphasizing the central role of digital \\ntechnologies and the need to seek digital freedom which is enabled by internet. In 1997,Makimoto and Manners recognised the power of internet in transforming lives in their \\nmanifesto called “digital nomad” in which they described the future of work as:  \\n“At the moment, we do not have the ability to communicate by video link between any \\ntwo points on the planet. But we will have it, and it will be generally affordable, within ten \\nyears. We will be able to see people, documents, and pictures wherever they happen to \\nbe, from anywhere we happen to be” (p. 5f). \\nFast forward 25 years, prophesy of Makimoto  and Manners has turned into a global reality. \\nDigital nomadism is the offspring of the freedom that global digital technology and its rapid \\nadvancement and widespread adoption brings about. As described by Reichenberger (2017) \\nfreedom in the information era appears “in a variety of contexts, including freedom within paid \\nemployment, freedom relating to location independence and freedom to pursue self -\\ndevelopment” (p. 9).  Digital nomads are, then those mobile laborers who seek a new mode \\nof work-life reconciliation (Müller, 2016) by adopting a nomadic lifestyle while working remotely \\nby leveraging digital technologies. As such, digital nomads are also called “ neo-nomads,” \\n“global nomads,” “modern nomads,” or “new nomads” (Müller, 2016).  \\nThe lifestyle of th e digital nomad unifies different aspects of  multi-directional technology -\\nenabled mobility and location-independent work on a new social level that may lead to a new \\nglobal culture or a universal social system (Bozzi, 2020; Ibarra & Kalich, 2022; Müller, 2 016; \\nWoldoff & Litchfield, 2021) . As such, a deeper understanding of the genesis of digital \\nnomadism is warranted. To this end, we can distinguish two forces that play pivotal role in the \\nformation of digital nomadism: 1) digital technology 2) socio -cultural style of a nomadic life. \\nThe question is, then, how these forces come together to explain the genesis of digital \\nnomadism? \\n \\nSocio-materiality theoryThe socio-materiality theory is a theory of the interaction between technology (material) and \\norganisation of societies in which different technologies are used. This theory aims to explain \\nthe state that is simultaneously social and material in the world (Kim & Yang, 2020).  \\nTraditionally, the distinct and direct use of technology in societies was either ab sent or only \\nimplicitly discussed. The separation of technology and organisation of societies was \\nparadoxical and problematic due to the rising importance of technologies in transforming \\nexisting and shaping new social norms and structures (Jain & Srinivasan, 2022; Orlikowski & \\nScott, 2008; Stanko, Dahm, Lahneman, & Richter, 2022) . Therefore, the socio -materiality \\ntheory gained momentum as a theoretical view that replaces the separation of technologies \\nfrom societies with a fusion of them  (Orlikowski & Scot t, 2008) . In this way, the socio -\\nmateriality perspective rests on the premise that social and technological aspects of various \\nsocial systems and phenomena are interlinked and inseparable in a given context. This \\ninseparability creates constitutive entangl ement and recursive intertwining which creates \\nunique forces for the system to adapt and evolve (Jain & Srinivasan, 2022). Therefore, a socio-\\nmaterialistic view of a given social or organisational phenomenon suggests that all materiality \\nis created, interpreted, and used based on social practice, and all social practice is affected \\nby materiality (Leonardi, 2013). We now use this view to propose a socio-materialistic view of \\ndigital nomadism.  \\n \\n A socio-materialistic view of digital nomadism and why it matters \\nIn a socio-materialistic view, materiality refers to the qualities of material agencies including \\nall technological tools, methods, techniques and essentially all non -human elements \\nperforming specific functions. Considering this, the digital and physi cal aspects of a digital \\nnomadic lifestyle form the inseparable materialistic fabric of it. Furthermore, materiality is not \\nlimited to only technical aspects of digital nomadism. The workplace and the physical \\nenvironment where a digital nomad is situated and works also constitutes as components ofits material identity. The social practice is however boarder and covers all human-enabled or \\nperformed agencies or routines that make a system functions. In the context of digital \\nnomadism, the human-centric of a nomadic life and the way a nomad organises his or her life \\nwhile balancing it with work constitute social practice. These includes routines, norms, policies, \\ncommunications and personal as well as professional activities that are crucial to perform jobs \\nand sustain the nomadic lifestyle. Taken together, a socio -materialistic view of digital \\nnomadism suggests that digital and non -digital tools and technologies as well as human -\\ncantered agency and different policies and behaviours work in tandem to create a  \\nreconciliation of work -specific requirements with the necessary conditions of a nomadic \\nlifestyle.   \\nThis view is important in two ways. First, it portrays digital nomadism as a complex system of \\nsocial and material factors which work together in order to create a unique lifestyle. This view \\nis, therefore, a theoretically robust approach to study different aspects of digital nomadism. \\nSecond, it offers three intertwined directions to study the formation, functionality, and \\nconsequences of adopting digitally nomadic lifestyle. These three include, the materiality side, \\nthe social practice, and the fusion of these two in the form of a unified socio -materialistic \\nphenomenon. \\n \\nConclusion   \\nDigital nomadism has become one of the most talked-about buzz words recently. Despite its \\nrising popularity, little research has been done on the theoretical foundation of this \\nphenomenon. In this short essay we used the theoretical lens of socio -materiality and \\nproposed a socio-materialistic view of digital nomadism. We argued that the technological and \\nsocial sides of digital nomadism can’t be separated.  We also outlined why this view matters. \\nWe hope other researchers interested in this phenomenon see benefits in this approach and \\nbuild on our conceptualization to advance research on this interesting phenomenon.References  \\n \\nBozzi, N. (2020). #digitalnomads, #solotravellers, #remoteworkers: A Cultural Critique of the \\nTraveling Entrepreneur on Instagram. Social Media + Society, 6(2). \\ndoi:10.1177/2056305120926644 \\nIbarra, B., & Kalich, B. (2022). The nomadic curriculum for the digital age. Currere Exchange \\nJournal, 6(1), 56–62.  \\nJain, A., & Srinivasan, V. (2022). What happened to the work I was doing? Sociomateriality \\nand cognitive tensions in technology work. Organizational Dynamics. \\ndoi:10.1016/j.orgdyn.2022.100901 \\nKim, Y., & Yang, E. (2020). Theoretical understanding of sociomateriality in workplace \\nstudies. Facilities, 38(13/14), 927-942. doi:10.1108/f-10-2019-0112 \\nLeonardi, P. M. (2013). Theoretical foundations for the study of sociomateriality. Information \\nand Organization, 23(2), 59-76.  \\nMakimoto, T., & Manners, D. (1997). Digital Nomad: Wiley. \\nMüller, A. (2016). The digital nomad: Buzzword or research category? Transnational Social \\nReview, 6(3), 344-348. doi:10.1080/21931674.2016.1229930 \\nOrlikowski, W. J., & Scott, S. V. (2008). 10 Sociomateriality: Challenging the Separation of \\nTechnology, Work and Organization. The Academy of Management Annals, 2(1), \\n433-474. doi:10.5465/19416520802211644 \\nReichenberger, I. (2017). Digital nomads: A quest for holistic freedom in work and leisure. \\nAnnals of Leisure Research, 364–380.  \\nSchlagwein, D. (2018). The history of digital nomadism. In 6th International Workshop on the \\nChanging Nature of Work (CNOW), San Francisco (Vol. 13).Stanko, T. L., Dahm, P. C., Lahneman, B., & Richter, J. (2022). Navigating an identity \\nplayground: Using sociomateriality to build a theory of identity play. Organization \\nStudies, 43(1), 81-103.  \\nWoldoff, R. A., & Litchfield, R. C. (2021). Digital Nomads: In Search of Freedom, \\nCommunity, and Meaningful Work in the New Economy: Oxford University Press. \\n \\n \\n \\n \\nDr Zahra Sadeghinejad is an Assistant Professor at UBSS and a Fellow of the Centre for \\nScholarship and Research \\n \\nDr Arash Najmaei is a Fellow of the Centre for Scholarship and Research')]"
      ]
     },
     "execution_count": 92,
     "metadata": {},
     "output_type": "execute_result"
    }
   ],
   "source": [
    "chunk_to_document"
   ]
  },
  {
   "cell_type": "code",
   "execution_count": 93,
   "metadata": {},
   "outputs": [],
   "source": [
    "afterSplitAnswerGen= TokenTextSplitter(\n",
    "    model_name='gpt-3.5-turbo',\n",
    "    chunk_size=1000,\n",
    "    chunk_overlap=100\n",
    ")"
   ]
  },
  {
   "cell_type": "code",
   "execution_count": 94,
   "metadata": {},
   "outputs": [],
   "source": [
    "document_ans_gen=afterSplitAnswerGen.split_documents(\n",
    "    chunk_to_document\n",
    ")"
   ]
  },
  {
   "cell_type": "code",
   "execution_count": 95,
   "metadata": {},
   "outputs": [
    {
     "data": {
      "text/plain": [
       "3"
      ]
     },
     "execution_count": 95,
     "metadata": {},
     "output_type": "execute_result"
    }
   ],
   "source": [
    "len(document_ans_gen)"
   ]
  },
  {
   "cell_type": "code",
   "execution_count": 96,
   "metadata": {},
   "outputs": [
    {
     "data": {
      "text/plain": [
       "[Document(metadata={}, page_content='A Socio-Materialistic View of Digital Nomadism \\n \\nZahra Sadeghinejad \\nArash Najmaei \\n \\nSeptember 2022 \\n \\nDigital nomadism has become one of the most significant social phenomena in the last few \\nyears. Preponderance of scholarly and anecdotal evidence about the rise of digitally nomadic \\nlifer style and its role of transforming societies, markets, and industries suggest that this \\nphenomenon deserve more systematic explanation. To this end, we borrow the socio -\\nmateriality theory from the field of organisation scien ce to propose a socio-materialistic view \\nof digital nomadism. Our conceptualization suggests that digital nomadism is best understood \\nas a form of continuous emergent of social life of a nomad and through his or her use of digital \\nmaterial. The socio -materiality of digital nomadism hence offers a new view of the \\nphenomenon as an inseparable entity that is social and material. \\n \\nDefining digital nomadism  \\nNomads are people who move often to different locations. Traditionally, they were motivated \\nby the need to obtain food, find pasture for livestock, or otherwise make a living. While a grey \\nzone exists in defining nomads and migrants, nomads move more often or move continuously \\nas a lifestyle choice (Schlagwein, 2018). Among traditional nomads, we can distinguish hunter-\\ngatherers (moving in their search for food), pastoral nomads (moving with their livestock, such \\nas the Bedouin) and peripatetic nomads (moving to sell their craft, such as the Sinti) \\n(Schlagwein, 2018).  \\nDigital nomadism departs from these traditional forms by emphasizing the central role of digital \\ntechnologies and the need to seek digital freedom which is enabled by internet. In 1997,Makimoto and Manners recognised the power of internet in transforming lives in their \\nmanifesto called “digital nomad” in which they described the future of work as:  \\n“At the moment, we do not have the ability to communicate by video link between any \\ntwo points on the planet. But we will have it, and it will be generally affordable, within ten \\nyears. We will be able to see people, documents, and pictures wherever they happen to \\nbe, from anywhere we happen to be” (p. 5f). \\nFast forward 25 years, prophesy of Makimoto  and Manners has turned into a global reality. \\nDigital nomadism is the offspring of the freedom that global digital technology and its rapid \\nadvancement and widespread adoption brings about. As described by Reichenberger (2017) \\nfreedom in the information era appears “in a variety of contexts, including freedom within paid \\nemployment, freedom relating to location independence and freedom to pursue self -\\ndevelopment” (p. 9).  Digital nomads are, then those mobile laborers who seek a new mode \\nof work-life reconciliation (Müller, 2016) by adopting a nomadic lifestyle while working remotely \\nby leveraging digital technologies. As such, digital nomads are also called “ neo-nomads,” \\n“global nomads,” “modern nomads,” or “new nomads” (Müller, 2016).  \\nThe lifestyle of th e digital nomad unifies different aspects of  multi-directional technology -\\nenabled mobility and location-independent work on a new social level that may lead to a new \\nglobal culture or a universal social system (Bozzi, 2020; Ibarra & Kalich, 2022; Müller, 2 016; \\nWoldoff & Litchfield, 2021) . As such, a deeper understanding of the genesis of digital \\nnomadism is warranted. To this end, we can distinguish two forces that play pivotal role in the \\nformation of digital nomadism: 1) digital technology 2) socio -cultural style of a nomadic life. \\nThe question is, then, how these forces come together to explain the genesis of digital \\nnomadism? \\n \\nSocio-materiality theoryThe socio-materiality theory is a theory of the interaction between technology (material) and \\norganisation of societies in which different technologies are used. This theory aims to explain \\nthe state that is simultaneously social and material in the world (Kim & Yang, 2020).  \\nTraditionally, the distinct and direct use of technology in societies was either ab sent or only \\nimplicitly discussed. The separation of technology and organisation of societies was \\nparadoxical and problematic due to the rising importance of technologies in transforming \\nexisting and shaping new social norms and structures (Jain & Srinivasan, 2022; Orlikowski & \\nScott, 2008; Stanko, Dahm,'),\n",
       " Document(metadata={}, page_content=' and material in the world (Kim & Yang, 2020).  \\nTraditionally, the distinct and direct use of technology in societies was either ab sent or only \\nimplicitly discussed. The separation of technology and organisation of societies was \\nparadoxical and problematic due to the rising importance of technologies in transforming \\nexisting and shaping new social norms and structures (Jain & Srinivasan, 2022; Orlikowski & \\nScott, 2008; Stanko, Dahm, Lahneman, & Richter, 2022) . Therefore, the socio -materiality \\ntheory gained momentum as a theoretical view that replaces the separation of technologies \\nfrom societies with a fusion of them  (Orlikowski & Scot t, 2008) . In this way, the socio -\\nmateriality perspective rests on the premise that social and technological aspects of various \\nsocial systems and phenomena are interlinked and inseparable in a given context. This \\ninseparability creates constitutive entangl ement and recursive intertwining which creates \\nunique forces for the system to adapt and evolve (Jain & Srinivasan, 2022). Therefore, a socio-\\nmaterialistic view of a given social or organisational phenomenon suggests that all materiality \\nis created, interpreted, and used based on social practice, and all social practice is affected \\nby materiality (Leonardi, 2013). We now use this view to propose a socio-materialistic view of \\ndigital nomadism.  \\n \\n A socio-materialistic view of digital nomadism and why it matters \\nIn a socio-materialistic view, materiality refers to the qualities of material agencies including \\nall technological tools, methods, techniques and essentially all non -human elements \\nperforming specific functions. Considering this, the digital and physi cal aspects of a digital \\nnomadic lifestyle form the inseparable materialistic fabric of it. Furthermore, materiality is not \\nlimited to only technical aspects of digital nomadism. The workplace and the physical \\nenvironment where a digital nomad is situated and works also constitutes as components ofits material identity. The social practice is however boarder and covers all human-enabled or \\nperformed agencies or routines that make a system functions. In the context of digital \\nnomadism, the human-centric of a nomadic life and the way a nomad organises his or her life \\nwhile balancing it with work constitute social practice. These includes routines, norms, policies, \\ncommunications and personal as well as professional activities that are crucial to perform jobs \\nand sustain the nomadic lifestyle. Taken together, a socio -materialistic view of digital \\nnomadism suggests that digital and non -digital tools and technologies as well as human -\\ncantered agency and different policies and behaviours work in tandem to create a  \\nreconciliation of work -specific requirements with the necessary conditions of a nomadic \\nlifestyle.   \\nThis view is important in two ways. First, it portrays digital nomadism as a complex system of \\nsocial and material factors which work together in order to create a unique lifestyle. This view \\nis, therefore, a theoretically robust approach to study different aspects of digital nomadism. \\nSecond, it offers three intertwined directions to study the formation, functionality, and \\nconsequences of adopting digitally nomadic lifestyle. These three include, the materiality side, \\nthe social practice, and the fusion of these two in the form of a unified socio -materialistic \\nphenomenon. \\n \\nConclusion   \\nDigital nomadism has become one of the most talked-about buzz words recently. Despite its \\nrising popularity, little research has been done on the theoretical foundation of this \\nphenomenon. In this short essay we used the theoretical lens of socio -materiality and \\nproposed a socio-materialistic view of digital nomadism. We argued that the technological and \\nsocial sides of digital nomadism can’t be separated.  We also outlined why this view matters. \\nWe hope other researchers interested in this phenomenon see benefits in this approach and \\nbuild on our conceptualization to advance research on this interesting phenomenon.References  \\n \\nBozzi, N. (2020). #digitalnomads, #solotravellers, #remoteworkers: A Cultural Critique of the \\nTraveling Entrepreneur on Instagram. Social Media + Society, 6(2). \\ndoi:10.1177/2056305120926644 \\nIbarra, B., & Kalich, B. (2022). The nomadic curriculum for the digital age. Currere Exchange \\nJournal, 6(1), 56–62.  \\nJain, A., & Srinivasan, V. (2022). What happened to the work I was doing? Sociomateriality \\nand cognitive tensions in technology work. Organizational Dynamics. \\ndoi:10.1016/j'),\n",
       " Document(metadata={}, page_content='2056305120926644 \\nIbarra, B., & Kalich, B. (2022). The nomadic curriculum for the digital age. Currere Exchange \\nJournal, 6(1), 56–62.  \\nJain, A., & Srinivasan, V. (2022). What happened to the work I was doing? Sociomateriality \\nand cognitive tensions in technology work. Organizational Dynamics. \\ndoi:10.1016/j.orgdyn.2022.100901 \\nKim, Y., & Yang, E. (2020). Theoretical understanding of sociomateriality in workplace \\nstudies. Facilities, 38(13/14), 927-942. doi:10.1108/f-10-2019-0112 \\nLeonardi, P. M. (2013). Theoretical foundations for the study of sociomateriality. Information \\nand Organization, 23(2), 59-76.  \\nMakimoto, T., & Manners, D. (1997). Digital Nomad: Wiley. \\nMüller, A. (2016). The digital nomad: Buzzword or research category? Transnational Social \\nReview, 6(3), 344-348. doi:10.1080/21931674.2016.1229930 \\nOrlikowski, W. J., & Scott, S. V. (2008). 10 Sociomateriality: Challenging the Separation of \\nTechnology, Work and Organization. The Academy of Management Annals, 2(1), \\n433-474. doi:10.5465/19416520802211644 \\nReichenberger, I. (2017). Digital nomads: A quest for holistic freedom in work and leisure. \\nAnnals of Leisure Research, 364–380.  \\nSchlagwein, D. (2018). The history of digital nomadism. In 6th International Workshop on the \\nChanging Nature of Work (CNOW), San Francisco (Vol. 13).Stanko, T. L., Dahm, P. C., Lahneman, B., & Richter, J. (2022). Navigating an identity \\nplayground: Using sociomateriality to build a theory of identity play. Organization \\nStudies, 43(1), 81-103.  \\nWoldoff, R. A., & Litchfield, R. C. (2021). Digital Nomads: In Search of Freedom, \\nCommunity, and Meaningful Work in the New Economy: Oxford University Press. \\n \\n \\n \\n \\nDr Zahra Sadeghinejad is an Assistant Professor at UBSS and a Fellow of the Centre for \\nScholarship and Research \\n \\nDr Arash Najmaei is a Fellow of the Centre for Scholarship and Research')]"
      ]
     },
     "execution_count": 96,
     "metadata": {},
     "output_type": "execute_result"
    }
   ],
   "source": [
    "document_ans_gen"
   ]
  },
  {
   "cell_type": "code",
   "execution_count": 97,
   "metadata": {},
   "outputs": [],
   "source": [
    "from langchain.chat_models import ChatOpenAI"
   ]
  },
  {
   "cell_type": "code",
   "execution_count": 98,
   "metadata": {},
   "outputs": [],
   "source": [
    "questionGenerationLLm=ChatOpenAI(\n",
    "    model='gpt-3.5-turbo',\n",
    "    temperature=0.3\n",
    ")"
   ]
  },
  {
   "cell_type": "code",
   "execution_count": 99,
   "metadata": {},
   "outputs": [],
   "source": [
    "prompt_template=\"\"\"\n",
    "You are and expart at creating question based on social civilization and documentations.\n",
    "Your goal is to prepare a candidate for their exam with history.\n",
    "You do this by asking questions about the text below:\n",
    "---------------------\n",
    "{text}\n",
    "---------------------\n",
    "Create questions that will prepare the candidate for their tests.\n",
    "Make r sure not to lose any important information.\n",
    "\n",
    "Questions:\n",
    "\"\"\""
   ]
  },
  {
   "cell_type": "code",
   "execution_count": 100,
   "metadata": {},
   "outputs": [],
   "source": [
    "from langchain.prompts import PromptTemplate\n"
   ]
  },
  {
   "cell_type": "code",
   "execution_count": 101,
   "metadata": {},
   "outputs": [],
   "source": [
    "prompt_question=PromptTemplate(template=prompt_template,input_variable=['text'])"
   ]
  },
  {
   "cell_type": "code",
   "execution_count": 102,
   "metadata": {},
   "outputs": [],
   "source": [
    "refine_template=(\"\"\"\n",
    "You are and expart at creating question based on social civilization and documentations.\n",
    "Your goal is to prepare a candidate for their exam with history.\n",
    "We have received some practice questions to a certain contexr:{existing_answer}.\n",
    "We have the option to refine the existing questions or add new ones.\n",
    "(only if necessary ) with some more context below.\n",
    "--------------\n",
    "{text}\n",
    "--------------\n",
    "\n",
    "Given the new context, refine the original questions in English.\n",
    "If the context is not helpful, please provide the original questions.\n",
    "\n",
    "Questions:\n",
    "\"\"\")"
   ]
  },
  {
   "cell_type": "code",
   "execution_count": 103,
   "metadata": {},
   "outputs": [],
   "source": [
    "refine_promot_question=PromptTemplate(\n",
    "    inputs_variables=['existing_answer','text'],\n",
    "    template=refine_template\n",
    ")"
   ]
  },
  {
   "cell_type": "code",
   "execution_count": 104,
   "metadata": {},
   "outputs": [],
   "source": [
    "from langchain.chains.summarize import load_summarize_chain"
   ]
  },
  {
   "cell_type": "code",
   "execution_count": 105,
   "metadata": {},
   "outputs": [],
   "source": [
    "from langchain.chains import LLMChain\n",
    "from langchain.llms import OpenAI"
   ]
  },
  {
   "cell_type": "code",
   "execution_count": 106,
   "metadata": {},
   "outputs": [],
   "source": [
    "llm = OpenAI(temperature=0.7)\n",
    "llm_ques_gen_pipeline = LLMChain(prompt=prompt_question, llm=llm)"
   ]
  },
  {
   "cell_type": "code",
   "execution_count": 107,
   "metadata": {},
   "outputs": [],
   "source": [
    "question_generation_chain = load_summarize_chain(\n",
    "    llm=llm_ques_gen_pipeline,\n",
    "    chain_type='refine',\n",
    "    verbose=True,\n",
    "    question_prompt=prompt_question,\n",
    "    refine_prompt=refine_promot_question\n",
    ")\n"
   ]
  },
  {
   "cell_type": "code",
   "execution_count": null,
   "metadata": {},
   "outputs": [
    {
     "name": "stdout",
     "output_type": "stream",
     "text": [
      "\n",
      "\n",
      "\u001b[1m> Entering new RefineDocumentsChain chain...\u001b[0m\n",
      "\n",
      "\n",
      "\u001b[1m> Entering new LLMChain chain...\u001b[0m\n",
      "Prompt after formatting:\n",
      "\u001b[32;1m\u001b[1;3m\n",
      "You are and expart at creating question based on social civilization and documentations.\n",
      "Your goal is to prepare a candidate for their exam with history.\n",
      "You do this by asking questions about the text below:\n",
      "---------------------\n",
      "A Socio-Materialistic View of Digital Nomadism \n",
      " \n",
      "Zahra Sadeghinejad \n",
      "Arash Najmaei \n",
      " \n",
      "September 2022 \n",
      " \n",
      "Digital nomadism has become one of the most significant social phenomena in the last few \n",
      "years. Preponderance of scholarly and anecdotal evidence about the rise of digitally nomadic \n",
      "lifer style and its role of transforming societies, markets, and industries suggest that this \n",
      "phenomenon deserve more systematic explanation. To this end, we borrow the socio -\n",
      "materiality theory from the field of organisation scien ce to propose a socio-materialistic view \n",
      "of digital nomadism. Our conceptualization suggests that digital nomadism is best understood \n",
      "as a form of continuous emergent of social life of a nomad and through his or her use of digital \n",
      "material. The socio -materiality of digital nomadism hence offers a new view of the \n",
      "phenomenon as an inseparable entity that is social and material. \n",
      " \n",
      "Defining digital nomadism  \n",
      "Nomads are people who move often to different locations. Traditionally, they were motivated \n",
      "by the need to obtain food, find pasture for livestock, or otherwise make a living. While a grey \n",
      "zone exists in defining nomads and migrants, nomads move more often or move continuously \n",
      "as a lifestyle choice (Schlagwein, 2018). Among traditional nomads, we can distinguish hunter-\n",
      "gatherers (moving in their search for food), pastoral nomads (moving with their livestock, such \n",
      "as the Bedouin) and peripatetic nomads (moving to sell their craft, such as the Sinti) \n",
      "(Schlagwein, 2018).  \n",
      "Digital nomadism departs from these traditional forms by emphasizing the central role of digital \n",
      "technologies and the need to seek digital freedom which is enabled by internet. In 1997,Makimoto and Manners recognised the power of internet in transforming lives in their \n",
      "manifesto called “digital nomad” in which they described the future of work as:  \n",
      "“At the moment, we do not have the ability to communicate by video link between any \n",
      "two points on the planet. But we will have it, and it will be generally affordable, within ten \n",
      "years. We will be able to see people, documents, and pictures wherever they happen to \n",
      "be, from anywhere we happen to be” (p. 5f). \n",
      "Fast forward 25 years, prophesy of Makimoto  and Manners has turned into a global reality. \n",
      "Digital nomadism is the offspring of the freedom that global digital technology and its rapid \n",
      "advancement and widespread adoption brings about. As described by Reichenberger (2017) \n",
      "freedom in the information era appears “in a variety of contexts, including freedom within paid \n",
      "employment, freedom relating to location independence and freedom to pursue self -\n",
      "development” (p. 9).  Digital nomads are, then those mobile laborers who seek a new mode \n",
      "of work-life reconciliation (Müller, 2016) by adopting a nomadic lifestyle while working remotely \n",
      "by leveraging digital technologies. As such, digital nomads are also called “ neo-nomads,” \n",
      "“global nomads,” “modern nomads,” or “new nomads” (Müller, 2016).  \n",
      "The lifestyle of th e digital nomad unifies different aspects of  multi-directional technology -\n",
      "enabled mobility and location-independent work on a new social level that may lead to a new \n",
      "global culture or a universal social system (Bozzi, 2020; Ibarra & Kalich, 2022; Müller, 2 016; \n",
      "Woldoff & Litchfield, 2021) . As such, a deeper understanding of the genesis of digital \n",
      "nomadism is warranted. To this end, we can distinguish two forces that play pivotal role in the \n",
      "formation of digital nomadism: 1) digital technology 2) socio -cultural style of a nomadic life. \n",
      "The question is, then, how these forces come together to explain the genesis of digital \n",
      "nomadism? \n",
      " \n",
      "Socio-materiality theoryThe socio-materiality theory is a theory of the interaction between technology (material) and \n",
      "organisation of societies in which different technologies are used. This theory aims to explain \n",
      "the state that is simultaneously social and material in the world (Kim & Yang, 2020).  \n",
      "Traditionally, the distinct and direct use of technology in societies was either ab sent or only \n",
      "implicitly discussed. The separation of technology and organisation of societies was \n",
      "paradoxical and problematic due to the rising importance of technologies in transforming \n",
      "existing and shaping new social norms and structures (Jain & Srinivasan, 2022; Orlikowski & \n",
      "Scott, 2008; Stanko, Dahm, Lahneman, & Richter, 2022) . Therefore, the socio -materiality \n",
      "theory gained momentum as a theoretical view that replaces the separation of technologies \n",
      "from societies with a fusion of them  (Orlikowski & Scot t, 2008) . In this way, the socio -\n",
      "materiality perspective rests on the premise that social and technological aspects of various \n",
      "social systems and phenomena are interlinked and inseparable in a given context. This \n",
      "inseparability creates constitutive entangl ement and recursive intertwining which creates \n",
      "unique forces for the system to adapt and evolve (Jain & Srinivasan, 2022). Therefore, a socio-\n",
      "materialistic view of a given social or organisational phenomenon suggests that all materiality \n",
      "is created, interpreted, and used based on social practice, and all social practice is affected \n",
      "by materiality (Leonardi, 2013). We now use this view to propose a socio-materialistic view of \n",
      "digital nomadism.  \n",
      " \n",
      " A socio-materialistic view of digital nomadism and why it matters \n",
      "In a socio-materialistic view, materiality refers to the qualities of material agencies including \n",
      "all technological tools, methods, techniques and essentially all non -human elements \n",
      "performing specific functions. Considering this, the digital and physi cal aspects of a digital \n",
      "nomadic lifestyle form the inseparable materialistic fabric of it. Furthermore, materiality is not \n",
      "limited to only technical aspects of digital nomadism. The workplace and the physical \n",
      "environment where a digital nomad is situated and works also constitutes as components ofits material identity. The social practice is however boarder and covers all human-enabled or \n",
      "performed agencies or routines that make a system functions. In the context of digital \n",
      "nomadism, the human-centric of a nomadic life and the way a nomad organises his or her life \n",
      "while balancing it with work constitute social practice. These includes routines, norms, policies, \n",
      "communications and personal as well as professional activities that are crucial to perform jobs \n",
      "and sustain the nomadic lifestyle. Taken together, a socio -materialistic view of digital \n",
      "nomadism suggests that digital and non -digital tools and technologies as well as human -\n",
      "cantered agency and different policies and behaviours work in tandem to create a  \n",
      "reconciliation of work -specific requirements with the necessary conditions of a nomadic \n",
      "lifestyle.   \n",
      "This view is important in two ways. First, it portrays digital nomadism as a complex system of \n",
      "social and material factors which work together in order to create a unique lifestyle. This view \n",
      "is, therefore, a theoretically robust approach to study different aspects of digital nomadism. \n",
      "Second, it offers three intertwined directions to study the formation, functionality, and \n",
      "consequences of adopting digitally nomadic lifestyle. These three include, the materiality side, \n",
      "the social practice, and the fusion of these two in the form of a unified socio -materialistic \n",
      "phenomenon. \n",
      " \n",
      "Conclusion   \n",
      "Digital nomadism has become one of the most talked-about buzz words recently. Despite its \n",
      "rising popularity, little research has been done on the theoretical foundation of this \n",
      "phenomenon. In this short essay we used the theoretical lens of socio -materiality and \n",
      "proposed a socio-materialistic view of digital nomadism. We argued that the technological and \n",
      "social sides of digital nomadism can’t be separated.  We also outlined why this view matters. \n",
      "We hope other researchers interested in this phenomenon see benefits in this approach and \n",
      "build on our conceptualization to advance research on this interesting phenomenon.References  \n",
      " \n",
      "Bozzi, N. (2020). #digitalnomads, #solotravellers, #remoteworkers: A Cultural Critique of the \n",
      "Traveling Entrepreneur on Instagram. Social Media + Society, 6(2). \n",
      "doi:10.1177/2056305120926644 \n",
      "Ibarra, B., & Kalich, B. (2022). The nomadic curriculum for the digital age. Currere Exchange \n",
      "Journal, 6(1), 56–62.  \n",
      "Jain, A., & Srinivasan, V. (2022). What happened to the work I was doing? Sociomateriality \n",
      "and cognitive tensions in technology work. Organizational Dynamics. \n",
      "doi:10.1016/j.orgdyn.2022.100901 \n",
      "Kim, Y., & Yang, E. (2020). Theoretical understanding of sociomateriality in workplace \n",
      "studies. Facilities, 38(13/14), 927-942. doi:10.1108/f-10-2019-0112 \n",
      "Leonardi, P. M. (2013). Theoretical foundations for the study of sociomateriality. Information \n",
      "and Organization, 23(2), 59-76.  \n",
      "Makimoto, T., & Manners, D. (1997). Digital Nomad: Wiley. \n",
      "Müller, A. (2016). The digital nomad: Buzzword or research category? Transnational Social \n",
      "Review, 6(3), 344-348. doi:10.1080/21931674.2016.1229930 \n",
      "Orlikowski, W. J., & Scott, S. V. (2008). 10 Sociomateriality: Challenging the Separation of \n",
      "Technology, Work and Organization. The Academy of Management Annals, 2(1), \n",
      "433-474. doi:10.5465/19416520802211644 \n",
      "Reichenberger, I. (2017). Digital nomads: A quest for holistic freedom in work and leisure. \n",
      "Annals of Leisure Research, 364–380.  \n",
      "Schlagwein, D. (2018). The history of digital nomadism. In 6th International Workshop on the \n",
      "Changing Nature of Work (CNOW), San Francisco (Vol. 13).Stanko, T. L., Dahm, P. C., Lahneman, B., & Richter, J. (2022). Navigating an identity \n",
      "playground: Using sociomateriality to build a theory of identity play. Organization \n",
      "Studies, 43(1), 81-103.  \n",
      "Woldoff, R. A., & Litchfield, R. C. (2021). Digital Nomads: In Search of Freedom, \n",
      "Community, and Meaningful Work in the New Economy: Oxford University Press. \n",
      " \n",
      " \n",
      " \n",
      " \n",
      "Dr Zahra Sadeghinejad is an Assistant Professor at UBSS and a Fellow of the Centre for \n",
      "Scholarship and Research \n",
      " \n",
      "Dr Arash Najmaei is a Fellow of the Centre for Scholarship and Research\n",
      "---------------------\n",
      "Create questions that will prepare the candidate for their tests.\n",
      "Make r sure not to lose any important information.\n",
      "\n",
      "Questions:\n",
      "\u001b[0m\n"
     ]
    },
    {
     "ename": "ValidationError",
     "evalue": "1 validation error for Generation\ntext\n  Input should be a valid string [type=string_type, input_value={'text': '\\n1. What is th...terms used to describe'}, input_type=dict]\n    For further information visit https://errors.pydantic.dev/2.10/v/string_type",
     "output_type": "error",
     "traceback": [
      "\u001b[1;31m---------------------------------------------------------------------------\u001b[0m",
      "\u001b[1;31mValidationError\u001b[0m                           Traceback (most recent call last)",
      "Cell \u001b[1;32mIn[108], line 2\u001b[0m\n\u001b[0;32m      1\u001b[0m \u001b[38;5;66;03m# ques=question_generation_chain.run(chunk_to_document)\u001b[39;00m\n\u001b[1;32m----> 2\u001b[0m ques \u001b[38;5;241m=\u001b[39m \u001b[43mquestion_generation_chain\u001b[49m\u001b[38;5;241;43m.\u001b[39;49m\u001b[43mrun\u001b[49m\u001b[43m(\u001b[49m\u001b[43mchunk_to_document\u001b[49m\u001b[43m)\u001b[49m  \u001b[38;5;66;03m# If chunk_to_document is a Document object\u001b[39;00m\n",
      "File \u001b[1;32m~\\AppData\\Roaming\\Python\\Python312\\site-packages\\langchain_core\\_api\\deprecation.py:181\u001b[0m, in \u001b[0;36mdeprecated.<locals>.deprecate.<locals>.warning_emitting_wrapper\u001b[1;34m(*args, **kwargs)\u001b[0m\n\u001b[0;32m    179\u001b[0m     warned \u001b[38;5;241m=\u001b[39m \u001b[38;5;28;01mTrue\u001b[39;00m\n\u001b[0;32m    180\u001b[0m     emit_warning()\n\u001b[1;32m--> 181\u001b[0m \u001b[38;5;28;01mreturn\u001b[39;00m \u001b[43mwrapped\u001b[49m\u001b[43m(\u001b[49m\u001b[38;5;241;43m*\u001b[39;49m\u001b[43margs\u001b[49m\u001b[43m,\u001b[49m\u001b[43m \u001b[49m\u001b[38;5;241;43m*\u001b[39;49m\u001b[38;5;241;43m*\u001b[39;49m\u001b[43mkwargs\u001b[49m\u001b[43m)\u001b[49m\n",
      "File \u001b[1;32m~\\AppData\\Roaming\\Python\\Python312\\site-packages\\langchain\\chains\\base.py:606\u001b[0m, in \u001b[0;36mChain.run\u001b[1;34m(self, callbacks, tags, metadata, *args, **kwargs)\u001b[0m\n\u001b[0;32m    604\u001b[0m     \u001b[38;5;28;01mif\u001b[39;00m \u001b[38;5;28mlen\u001b[39m(args) \u001b[38;5;241m!=\u001b[39m \u001b[38;5;241m1\u001b[39m:\n\u001b[0;32m    605\u001b[0m         \u001b[38;5;28;01mraise\u001b[39;00m \u001b[38;5;167;01mValueError\u001b[39;00m(\u001b[38;5;124m\"\u001b[39m\u001b[38;5;124m`run` supports only one positional argument.\u001b[39m\u001b[38;5;124m\"\u001b[39m)\n\u001b[1;32m--> 606\u001b[0m     \u001b[38;5;28;01mreturn\u001b[39;00m \u001b[38;5;28;43mself\u001b[39;49m\u001b[43m(\u001b[49m\u001b[43margs\u001b[49m\u001b[43m[\u001b[49m\u001b[38;5;241;43m0\u001b[39;49m\u001b[43m]\u001b[49m\u001b[43m,\u001b[49m\u001b[43m \u001b[49m\u001b[43mcallbacks\u001b[49m\u001b[38;5;241;43m=\u001b[39;49m\u001b[43mcallbacks\u001b[49m\u001b[43m,\u001b[49m\u001b[43m \u001b[49m\u001b[43mtags\u001b[49m\u001b[38;5;241;43m=\u001b[39;49m\u001b[43mtags\u001b[49m\u001b[43m,\u001b[49m\u001b[43m \u001b[49m\u001b[43mmetadata\u001b[49m\u001b[38;5;241;43m=\u001b[39;49m\u001b[43mmetadata\u001b[49m\u001b[43m)\u001b[49m[\n\u001b[0;32m    607\u001b[0m         _output_key\n\u001b[0;32m    608\u001b[0m     ]\n\u001b[0;32m    610\u001b[0m \u001b[38;5;28;01mif\u001b[39;00m kwargs \u001b[38;5;129;01mand\u001b[39;00m \u001b[38;5;129;01mnot\u001b[39;00m args:\n\u001b[0;32m    611\u001b[0m     \u001b[38;5;28;01mreturn\u001b[39;00m \u001b[38;5;28mself\u001b[39m(kwargs, callbacks\u001b[38;5;241m=\u001b[39mcallbacks, tags\u001b[38;5;241m=\u001b[39mtags, metadata\u001b[38;5;241m=\u001b[39mmetadata)[\n\u001b[0;32m    612\u001b[0m         _output_key\n\u001b[0;32m    613\u001b[0m     ]\n",
      "File \u001b[1;32m~\\AppData\\Roaming\\Python\\Python312\\site-packages\\langchain_core\\_api\\deprecation.py:181\u001b[0m, in \u001b[0;36mdeprecated.<locals>.deprecate.<locals>.warning_emitting_wrapper\u001b[1;34m(*args, **kwargs)\u001b[0m\n\u001b[0;32m    179\u001b[0m     warned \u001b[38;5;241m=\u001b[39m \u001b[38;5;28;01mTrue\u001b[39;00m\n\u001b[0;32m    180\u001b[0m     emit_warning()\n\u001b[1;32m--> 181\u001b[0m \u001b[38;5;28;01mreturn\u001b[39;00m \u001b[43mwrapped\u001b[49m\u001b[43m(\u001b[49m\u001b[38;5;241;43m*\u001b[39;49m\u001b[43margs\u001b[49m\u001b[43m,\u001b[49m\u001b[43m \u001b[49m\u001b[38;5;241;43m*\u001b[39;49m\u001b[38;5;241;43m*\u001b[39;49m\u001b[43mkwargs\u001b[49m\u001b[43m)\u001b[49m\n",
      "File \u001b[1;32m~\\AppData\\Roaming\\Python\\Python312\\site-packages\\langchain\\chains\\base.py:389\u001b[0m, in \u001b[0;36mChain.__call__\u001b[1;34m(self, inputs, return_only_outputs, callbacks, tags, metadata, run_name, include_run_info)\u001b[0m\n\u001b[0;32m    357\u001b[0m \u001b[38;5;250m\u001b[39m\u001b[38;5;124;03m\"\"\"Execute the chain.\u001b[39;00m\n\u001b[0;32m    358\u001b[0m \n\u001b[0;32m    359\u001b[0m \u001b[38;5;124;03mArgs:\u001b[39;00m\n\u001b[1;32m   (...)\u001b[0m\n\u001b[0;32m    380\u001b[0m \u001b[38;5;124;03m        `Chain.output_keys`.\u001b[39;00m\n\u001b[0;32m    381\u001b[0m \u001b[38;5;124;03m\"\"\"\u001b[39;00m\n\u001b[0;32m    382\u001b[0m config \u001b[38;5;241m=\u001b[39m {\n\u001b[0;32m    383\u001b[0m     \u001b[38;5;124m\"\u001b[39m\u001b[38;5;124mcallbacks\u001b[39m\u001b[38;5;124m\"\u001b[39m: callbacks,\n\u001b[0;32m    384\u001b[0m     \u001b[38;5;124m\"\u001b[39m\u001b[38;5;124mtags\u001b[39m\u001b[38;5;124m\"\u001b[39m: tags,\n\u001b[0;32m    385\u001b[0m     \u001b[38;5;124m\"\u001b[39m\u001b[38;5;124mmetadata\u001b[39m\u001b[38;5;124m\"\u001b[39m: metadata,\n\u001b[0;32m    386\u001b[0m     \u001b[38;5;124m\"\u001b[39m\u001b[38;5;124mrun_name\u001b[39m\u001b[38;5;124m\"\u001b[39m: run_name,\n\u001b[0;32m    387\u001b[0m }\n\u001b[1;32m--> 389\u001b[0m \u001b[38;5;28;01mreturn\u001b[39;00m \u001b[38;5;28;43mself\u001b[39;49m\u001b[38;5;241;43m.\u001b[39;49m\u001b[43minvoke\u001b[49m\u001b[43m(\u001b[49m\n\u001b[0;32m    390\u001b[0m \u001b[43m    \u001b[49m\u001b[43minputs\u001b[49m\u001b[43m,\u001b[49m\n\u001b[0;32m    391\u001b[0m \u001b[43m    \u001b[49m\u001b[43mcast\u001b[49m\u001b[43m(\u001b[49m\u001b[43mRunnableConfig\u001b[49m\u001b[43m,\u001b[49m\u001b[43m \u001b[49m\u001b[43m{\u001b[49m\u001b[43mk\u001b[49m\u001b[43m:\u001b[49m\u001b[43m \u001b[49m\u001b[43mv\u001b[49m\u001b[43m \u001b[49m\u001b[38;5;28;43;01mfor\u001b[39;49;00m\u001b[43m \u001b[49m\u001b[43mk\u001b[49m\u001b[43m,\u001b[49m\u001b[43m \u001b[49m\u001b[43mv\u001b[49m\u001b[43m \u001b[49m\u001b[38;5;129;43;01min\u001b[39;49;00m\u001b[43m \u001b[49m\u001b[43mconfig\u001b[49m\u001b[38;5;241;43m.\u001b[39;49m\u001b[43mitems\u001b[49m\u001b[43m(\u001b[49m\u001b[43m)\u001b[49m\u001b[43m \u001b[49m\u001b[38;5;28;43;01mif\u001b[39;49;00m\u001b[43m \u001b[49m\u001b[43mv\u001b[49m\u001b[43m \u001b[49m\u001b[38;5;129;43;01mis\u001b[39;49;00m\u001b[43m \u001b[49m\u001b[38;5;129;43;01mnot\u001b[39;49;00m\u001b[43m \u001b[49m\u001b[38;5;28;43;01mNone\u001b[39;49;00m\u001b[43m}\u001b[49m\u001b[43m)\u001b[49m\u001b[43m,\u001b[49m\n\u001b[0;32m    392\u001b[0m \u001b[43m    \u001b[49m\u001b[43mreturn_only_outputs\u001b[49m\u001b[38;5;241;43m=\u001b[39;49m\u001b[43mreturn_only_outputs\u001b[49m\u001b[43m,\u001b[49m\n\u001b[0;32m    393\u001b[0m \u001b[43m    \u001b[49m\u001b[43minclude_run_info\u001b[49m\u001b[38;5;241;43m=\u001b[39;49m\u001b[43minclude_run_info\u001b[49m\u001b[43m,\u001b[49m\n\u001b[0;32m    394\u001b[0m \u001b[43m\u001b[49m\u001b[43m)\u001b[49m\n",
      "File \u001b[1;32m~\\AppData\\Roaming\\Python\\Python312\\site-packages\\langchain\\chains\\base.py:170\u001b[0m, in \u001b[0;36mChain.invoke\u001b[1;34m(self, input, config, **kwargs)\u001b[0m\n\u001b[0;32m    168\u001b[0m \u001b[38;5;28;01mexcept\u001b[39;00m \u001b[38;5;167;01mBaseException\u001b[39;00m \u001b[38;5;28;01mas\u001b[39;00m e:\n\u001b[0;32m    169\u001b[0m     run_manager\u001b[38;5;241m.\u001b[39mon_chain_error(e)\n\u001b[1;32m--> 170\u001b[0m     \u001b[38;5;28;01mraise\u001b[39;00m e\n\u001b[0;32m    171\u001b[0m run_manager\u001b[38;5;241m.\u001b[39mon_chain_end(outputs)\n\u001b[0;32m    173\u001b[0m \u001b[38;5;28;01mif\u001b[39;00m include_run_info:\n",
      "File \u001b[1;32m~\\AppData\\Roaming\\Python\\Python312\\site-packages\\langchain\\chains\\base.py:160\u001b[0m, in \u001b[0;36mChain.invoke\u001b[1;34m(self, input, config, **kwargs)\u001b[0m\n\u001b[0;32m    157\u001b[0m \u001b[38;5;28;01mtry\u001b[39;00m:\n\u001b[0;32m    158\u001b[0m     \u001b[38;5;28mself\u001b[39m\u001b[38;5;241m.\u001b[39m_validate_inputs(inputs)\n\u001b[0;32m    159\u001b[0m     outputs \u001b[38;5;241m=\u001b[39m (\n\u001b[1;32m--> 160\u001b[0m         \u001b[38;5;28;43mself\u001b[39;49m\u001b[38;5;241;43m.\u001b[39;49m\u001b[43m_call\u001b[49m\u001b[43m(\u001b[49m\u001b[43minputs\u001b[49m\u001b[43m,\u001b[49m\u001b[43m \u001b[49m\u001b[43mrun_manager\u001b[49m\u001b[38;5;241;43m=\u001b[39;49m\u001b[43mrun_manager\u001b[49m\u001b[43m)\u001b[49m\n\u001b[0;32m    161\u001b[0m         \u001b[38;5;28;01mif\u001b[39;00m new_arg_supported\n\u001b[0;32m    162\u001b[0m         \u001b[38;5;28;01melse\u001b[39;00m \u001b[38;5;28mself\u001b[39m\u001b[38;5;241m.\u001b[39m_call(inputs)\n\u001b[0;32m    163\u001b[0m     )\n\u001b[0;32m    165\u001b[0m     final_outputs: Dict[\u001b[38;5;28mstr\u001b[39m, Any] \u001b[38;5;241m=\u001b[39m \u001b[38;5;28mself\u001b[39m\u001b[38;5;241m.\u001b[39mprep_outputs(\n\u001b[0;32m    166\u001b[0m         inputs, outputs, return_only_outputs\n\u001b[0;32m    167\u001b[0m     )\n\u001b[0;32m    168\u001b[0m \u001b[38;5;28;01mexcept\u001b[39;00m \u001b[38;5;167;01mBaseException\u001b[39;00m \u001b[38;5;28;01mas\u001b[39;00m e:\n",
      "File \u001b[1;32m~\\AppData\\Roaming\\Python\\Python312\\site-packages\\langchain\\chains\\combine_documents\\base.py:138\u001b[0m, in \u001b[0;36mBaseCombineDocumentsChain._call\u001b[1;34m(self, inputs, run_manager)\u001b[0m\n\u001b[0;32m    136\u001b[0m \u001b[38;5;66;03m# Other keys are assumed to be needed for LLM prediction\u001b[39;00m\n\u001b[0;32m    137\u001b[0m other_keys \u001b[38;5;241m=\u001b[39m {k: v \u001b[38;5;28;01mfor\u001b[39;00m k, v \u001b[38;5;129;01min\u001b[39;00m inputs\u001b[38;5;241m.\u001b[39mitems() \u001b[38;5;28;01mif\u001b[39;00m k \u001b[38;5;241m!=\u001b[39m \u001b[38;5;28mself\u001b[39m\u001b[38;5;241m.\u001b[39minput_key}\n\u001b[1;32m--> 138\u001b[0m output, extra_return_dict \u001b[38;5;241m=\u001b[39m \u001b[38;5;28;43mself\u001b[39;49m\u001b[38;5;241;43m.\u001b[39;49m\u001b[43mcombine_docs\u001b[49m\u001b[43m(\u001b[49m\n\u001b[0;32m    139\u001b[0m \u001b[43m    \u001b[49m\u001b[43mdocs\u001b[49m\u001b[43m,\u001b[49m\u001b[43m \u001b[49m\u001b[43mcallbacks\u001b[49m\u001b[38;5;241;43m=\u001b[39;49m\u001b[43m_run_manager\u001b[49m\u001b[38;5;241;43m.\u001b[39;49m\u001b[43mget_child\u001b[49m\u001b[43m(\u001b[49m\u001b[43m)\u001b[49m\u001b[43m,\u001b[49m\u001b[43m \u001b[49m\u001b[38;5;241;43m*\u001b[39;49m\u001b[38;5;241;43m*\u001b[39;49m\u001b[43mother_keys\u001b[49m\n\u001b[0;32m    140\u001b[0m \u001b[43m\u001b[49m\u001b[43m)\u001b[49m\n\u001b[0;32m    141\u001b[0m extra_return_dict[\u001b[38;5;28mself\u001b[39m\u001b[38;5;241m.\u001b[39moutput_key] \u001b[38;5;241m=\u001b[39m output\n\u001b[0;32m    142\u001b[0m \u001b[38;5;28;01mreturn\u001b[39;00m extra_return_dict\n",
      "File \u001b[1;32m~\\AppData\\Roaming\\Python\\Python312\\site-packages\\langchain\\chains\\combine_documents\\refine.py:165\u001b[0m, in \u001b[0;36mRefineDocumentsChain.combine_docs\u001b[1;34m(self, docs, callbacks, **kwargs)\u001b[0m\n\u001b[0;32m    152\u001b[0m \u001b[38;5;250m\u001b[39m\u001b[38;5;124;03m\"\"\"Combine by mapping first chain over all, then stuffing into final chain.\u001b[39;00m\n\u001b[0;32m    153\u001b[0m \n\u001b[0;32m    154\u001b[0m \u001b[38;5;124;03mArgs:\u001b[39;00m\n\u001b[1;32m   (...)\u001b[0m\n\u001b[0;32m    162\u001b[0m \u001b[38;5;124;03m    element returned is a dictionary of other keys to return.\u001b[39;00m\n\u001b[0;32m    163\u001b[0m \u001b[38;5;124;03m\"\"\"\u001b[39;00m\n\u001b[0;32m    164\u001b[0m inputs \u001b[38;5;241m=\u001b[39m \u001b[38;5;28mself\u001b[39m\u001b[38;5;241m.\u001b[39m_construct_initial_inputs(docs, \u001b[38;5;241m*\u001b[39m\u001b[38;5;241m*\u001b[39mkwargs)\n\u001b[1;32m--> 165\u001b[0m res \u001b[38;5;241m=\u001b[39m \u001b[38;5;28;43mself\u001b[39;49m\u001b[38;5;241;43m.\u001b[39;49m\u001b[43minitial_llm_chain\u001b[49m\u001b[38;5;241;43m.\u001b[39;49m\u001b[43mpredict\u001b[49m\u001b[43m(\u001b[49m\u001b[43mcallbacks\u001b[49m\u001b[38;5;241;43m=\u001b[39;49m\u001b[43mcallbacks\u001b[49m\u001b[43m,\u001b[49m\u001b[43m \u001b[49m\u001b[38;5;241;43m*\u001b[39;49m\u001b[38;5;241;43m*\u001b[39;49m\u001b[43minputs\u001b[49m\u001b[43m)\u001b[49m\n\u001b[0;32m    166\u001b[0m refine_steps \u001b[38;5;241m=\u001b[39m [res]\n\u001b[0;32m    167\u001b[0m \u001b[38;5;28;01mfor\u001b[39;00m doc \u001b[38;5;129;01min\u001b[39;00m docs[\u001b[38;5;241m1\u001b[39m:]:\n",
      "File \u001b[1;32m~\\AppData\\Roaming\\Python\\Python312\\site-packages\\langchain\\chains\\llm.py:318\u001b[0m, in \u001b[0;36mLLMChain.predict\u001b[1;34m(self, callbacks, **kwargs)\u001b[0m\n\u001b[0;32m    303\u001b[0m \u001b[38;5;28;01mdef\u001b[39;00m\u001b[38;5;250m \u001b[39m\u001b[38;5;21mpredict\u001b[39m(\u001b[38;5;28mself\u001b[39m, callbacks: Callbacks \u001b[38;5;241m=\u001b[39m \u001b[38;5;28;01mNone\u001b[39;00m, \u001b[38;5;241m*\u001b[39m\u001b[38;5;241m*\u001b[39mkwargs: Any) \u001b[38;5;241m-\u001b[39m\u001b[38;5;241m>\u001b[39m \u001b[38;5;28mstr\u001b[39m:\n\u001b[0;32m    304\u001b[0m \u001b[38;5;250m    \u001b[39m\u001b[38;5;124;03m\"\"\"Format prompt with kwargs and pass to LLM.\u001b[39;00m\n\u001b[0;32m    305\u001b[0m \n\u001b[0;32m    306\u001b[0m \u001b[38;5;124;03m    Args:\u001b[39;00m\n\u001b[1;32m   (...)\u001b[0m\n\u001b[0;32m    316\u001b[0m \u001b[38;5;124;03m            completion = llm.predict(adjective=\"funny\")\u001b[39;00m\n\u001b[0;32m    317\u001b[0m \u001b[38;5;124;03m    \"\"\"\u001b[39;00m\n\u001b[1;32m--> 318\u001b[0m     \u001b[38;5;28;01mreturn\u001b[39;00m \u001b[38;5;28;43mself\u001b[39;49m\u001b[43m(\u001b[49m\u001b[43mkwargs\u001b[49m\u001b[43m,\u001b[49m\u001b[43m \u001b[49m\u001b[43mcallbacks\u001b[49m\u001b[38;5;241;43m=\u001b[39;49m\u001b[43mcallbacks\u001b[49m\u001b[43m)\u001b[49m[\u001b[38;5;28mself\u001b[39m\u001b[38;5;241m.\u001b[39moutput_key]\n",
      "File \u001b[1;32m~\\AppData\\Roaming\\Python\\Python312\\site-packages\\langchain_core\\_api\\deprecation.py:181\u001b[0m, in \u001b[0;36mdeprecated.<locals>.deprecate.<locals>.warning_emitting_wrapper\u001b[1;34m(*args, **kwargs)\u001b[0m\n\u001b[0;32m    179\u001b[0m     warned \u001b[38;5;241m=\u001b[39m \u001b[38;5;28;01mTrue\u001b[39;00m\n\u001b[0;32m    180\u001b[0m     emit_warning()\n\u001b[1;32m--> 181\u001b[0m \u001b[38;5;28;01mreturn\u001b[39;00m \u001b[43mwrapped\u001b[49m\u001b[43m(\u001b[49m\u001b[38;5;241;43m*\u001b[39;49m\u001b[43margs\u001b[49m\u001b[43m,\u001b[49m\u001b[43m \u001b[49m\u001b[38;5;241;43m*\u001b[39;49m\u001b[38;5;241;43m*\u001b[39;49m\u001b[43mkwargs\u001b[49m\u001b[43m)\u001b[49m\n",
      "File \u001b[1;32m~\\AppData\\Roaming\\Python\\Python312\\site-packages\\langchain\\chains\\base.py:389\u001b[0m, in \u001b[0;36mChain.__call__\u001b[1;34m(self, inputs, return_only_outputs, callbacks, tags, metadata, run_name, include_run_info)\u001b[0m\n\u001b[0;32m    357\u001b[0m \u001b[38;5;250m\u001b[39m\u001b[38;5;124;03m\"\"\"Execute the chain.\u001b[39;00m\n\u001b[0;32m    358\u001b[0m \n\u001b[0;32m    359\u001b[0m \u001b[38;5;124;03mArgs:\u001b[39;00m\n\u001b[1;32m   (...)\u001b[0m\n\u001b[0;32m    380\u001b[0m \u001b[38;5;124;03m        `Chain.output_keys`.\u001b[39;00m\n\u001b[0;32m    381\u001b[0m \u001b[38;5;124;03m\"\"\"\u001b[39;00m\n\u001b[0;32m    382\u001b[0m config \u001b[38;5;241m=\u001b[39m {\n\u001b[0;32m    383\u001b[0m     \u001b[38;5;124m\"\u001b[39m\u001b[38;5;124mcallbacks\u001b[39m\u001b[38;5;124m\"\u001b[39m: callbacks,\n\u001b[0;32m    384\u001b[0m     \u001b[38;5;124m\"\u001b[39m\u001b[38;5;124mtags\u001b[39m\u001b[38;5;124m\"\u001b[39m: tags,\n\u001b[0;32m    385\u001b[0m     \u001b[38;5;124m\"\u001b[39m\u001b[38;5;124mmetadata\u001b[39m\u001b[38;5;124m\"\u001b[39m: metadata,\n\u001b[0;32m    386\u001b[0m     \u001b[38;5;124m\"\u001b[39m\u001b[38;5;124mrun_name\u001b[39m\u001b[38;5;124m\"\u001b[39m: run_name,\n\u001b[0;32m    387\u001b[0m }\n\u001b[1;32m--> 389\u001b[0m \u001b[38;5;28;01mreturn\u001b[39;00m \u001b[38;5;28;43mself\u001b[39;49m\u001b[38;5;241;43m.\u001b[39;49m\u001b[43minvoke\u001b[49m\u001b[43m(\u001b[49m\n\u001b[0;32m    390\u001b[0m \u001b[43m    \u001b[49m\u001b[43minputs\u001b[49m\u001b[43m,\u001b[49m\n\u001b[0;32m    391\u001b[0m \u001b[43m    \u001b[49m\u001b[43mcast\u001b[49m\u001b[43m(\u001b[49m\u001b[43mRunnableConfig\u001b[49m\u001b[43m,\u001b[49m\u001b[43m \u001b[49m\u001b[43m{\u001b[49m\u001b[43mk\u001b[49m\u001b[43m:\u001b[49m\u001b[43m \u001b[49m\u001b[43mv\u001b[49m\u001b[43m \u001b[49m\u001b[38;5;28;43;01mfor\u001b[39;49;00m\u001b[43m \u001b[49m\u001b[43mk\u001b[49m\u001b[43m,\u001b[49m\u001b[43m \u001b[49m\u001b[43mv\u001b[49m\u001b[43m \u001b[49m\u001b[38;5;129;43;01min\u001b[39;49;00m\u001b[43m \u001b[49m\u001b[43mconfig\u001b[49m\u001b[38;5;241;43m.\u001b[39;49m\u001b[43mitems\u001b[49m\u001b[43m(\u001b[49m\u001b[43m)\u001b[49m\u001b[43m \u001b[49m\u001b[38;5;28;43;01mif\u001b[39;49;00m\u001b[43m \u001b[49m\u001b[43mv\u001b[49m\u001b[43m \u001b[49m\u001b[38;5;129;43;01mis\u001b[39;49;00m\u001b[43m \u001b[49m\u001b[38;5;129;43;01mnot\u001b[39;49;00m\u001b[43m \u001b[49m\u001b[38;5;28;43;01mNone\u001b[39;49;00m\u001b[43m}\u001b[49m\u001b[43m)\u001b[49m\u001b[43m,\u001b[49m\n\u001b[0;32m    392\u001b[0m \u001b[43m    \u001b[49m\u001b[43mreturn_only_outputs\u001b[49m\u001b[38;5;241;43m=\u001b[39;49m\u001b[43mreturn_only_outputs\u001b[49m\u001b[43m,\u001b[49m\n\u001b[0;32m    393\u001b[0m \u001b[43m    \u001b[49m\u001b[43minclude_run_info\u001b[49m\u001b[38;5;241;43m=\u001b[39;49m\u001b[43minclude_run_info\u001b[49m\u001b[43m,\u001b[49m\n\u001b[0;32m    394\u001b[0m \u001b[43m\u001b[49m\u001b[43m)\u001b[49m\n",
      "File \u001b[1;32m~\\AppData\\Roaming\\Python\\Python312\\site-packages\\langchain\\chains\\base.py:170\u001b[0m, in \u001b[0;36mChain.invoke\u001b[1;34m(self, input, config, **kwargs)\u001b[0m\n\u001b[0;32m    168\u001b[0m \u001b[38;5;28;01mexcept\u001b[39;00m \u001b[38;5;167;01mBaseException\u001b[39;00m \u001b[38;5;28;01mas\u001b[39;00m e:\n\u001b[0;32m    169\u001b[0m     run_manager\u001b[38;5;241m.\u001b[39mon_chain_error(e)\n\u001b[1;32m--> 170\u001b[0m     \u001b[38;5;28;01mraise\u001b[39;00m e\n\u001b[0;32m    171\u001b[0m run_manager\u001b[38;5;241m.\u001b[39mon_chain_end(outputs)\n\u001b[0;32m    173\u001b[0m \u001b[38;5;28;01mif\u001b[39;00m include_run_info:\n",
      "File \u001b[1;32m~\\AppData\\Roaming\\Python\\Python312\\site-packages\\langchain\\chains\\base.py:160\u001b[0m, in \u001b[0;36mChain.invoke\u001b[1;34m(self, input, config, **kwargs)\u001b[0m\n\u001b[0;32m    157\u001b[0m \u001b[38;5;28;01mtry\u001b[39;00m:\n\u001b[0;32m    158\u001b[0m     \u001b[38;5;28mself\u001b[39m\u001b[38;5;241m.\u001b[39m_validate_inputs(inputs)\n\u001b[0;32m    159\u001b[0m     outputs \u001b[38;5;241m=\u001b[39m (\n\u001b[1;32m--> 160\u001b[0m         \u001b[38;5;28;43mself\u001b[39;49m\u001b[38;5;241;43m.\u001b[39;49m\u001b[43m_call\u001b[49m\u001b[43m(\u001b[49m\u001b[43minputs\u001b[49m\u001b[43m,\u001b[49m\u001b[43m \u001b[49m\u001b[43mrun_manager\u001b[49m\u001b[38;5;241;43m=\u001b[39;49m\u001b[43mrun_manager\u001b[49m\u001b[43m)\u001b[49m\n\u001b[0;32m    161\u001b[0m         \u001b[38;5;28;01mif\u001b[39;00m new_arg_supported\n\u001b[0;32m    162\u001b[0m         \u001b[38;5;28;01melse\u001b[39;00m \u001b[38;5;28mself\u001b[39m\u001b[38;5;241m.\u001b[39m_call(inputs)\n\u001b[0;32m    163\u001b[0m     )\n\u001b[0;32m    165\u001b[0m     final_outputs: Dict[\u001b[38;5;28mstr\u001b[39m, Any] \u001b[38;5;241m=\u001b[39m \u001b[38;5;28mself\u001b[39m\u001b[38;5;241m.\u001b[39mprep_outputs(\n\u001b[0;32m    166\u001b[0m         inputs, outputs, return_only_outputs\n\u001b[0;32m    167\u001b[0m     )\n\u001b[0;32m    168\u001b[0m \u001b[38;5;28;01mexcept\u001b[39;00m \u001b[38;5;167;01mBaseException\u001b[39;00m \u001b[38;5;28;01mas\u001b[39;00m e:\n",
      "File \u001b[1;32m~\\AppData\\Roaming\\Python\\Python312\\site-packages\\langchain\\chains\\llm.py:126\u001b[0m, in \u001b[0;36mLLMChain._call\u001b[1;34m(self, inputs, run_manager)\u001b[0m\n\u001b[0;32m    121\u001b[0m \u001b[38;5;28;01mdef\u001b[39;00m\u001b[38;5;250m \u001b[39m\u001b[38;5;21m_call\u001b[39m(\n\u001b[0;32m    122\u001b[0m     \u001b[38;5;28mself\u001b[39m,\n\u001b[0;32m    123\u001b[0m     inputs: Dict[\u001b[38;5;28mstr\u001b[39m, Any],\n\u001b[0;32m    124\u001b[0m     run_manager: Optional[CallbackManagerForChainRun] \u001b[38;5;241m=\u001b[39m \u001b[38;5;28;01mNone\u001b[39;00m,\n\u001b[0;32m    125\u001b[0m ) \u001b[38;5;241m-\u001b[39m\u001b[38;5;241m>\u001b[39m Dict[\u001b[38;5;28mstr\u001b[39m, \u001b[38;5;28mstr\u001b[39m]:\n\u001b[1;32m--> 126\u001b[0m     response \u001b[38;5;241m=\u001b[39m \u001b[38;5;28;43mself\u001b[39;49m\u001b[38;5;241;43m.\u001b[39;49m\u001b[43mgenerate\u001b[49m\u001b[43m(\u001b[49m\u001b[43m[\u001b[49m\u001b[43minputs\u001b[49m\u001b[43m]\u001b[49m\u001b[43m,\u001b[49m\u001b[43m \u001b[49m\u001b[43mrun_manager\u001b[49m\u001b[38;5;241;43m=\u001b[39;49m\u001b[43mrun_manager\u001b[49m\u001b[43m)\u001b[49m\n\u001b[0;32m    127\u001b[0m     \u001b[38;5;28;01mreturn\u001b[39;00m \u001b[38;5;28mself\u001b[39m\u001b[38;5;241m.\u001b[39mcreate_outputs(response)[\u001b[38;5;241m0\u001b[39m]\n",
      "File \u001b[1;32m~\\AppData\\Roaming\\Python\\Python312\\site-packages\\langchain\\chains\\llm.py:153\u001b[0m, in \u001b[0;36mLLMChain.generate\u001b[1;34m(self, input_list, run_manager)\u001b[0m\n\u001b[0;32m    151\u001b[0m         generations\u001b[38;5;241m.\u001b[39mappend([ChatGeneration(message\u001b[38;5;241m=\u001b[39mres)])\n\u001b[0;32m    152\u001b[0m     \u001b[38;5;28;01melse\u001b[39;00m:\n\u001b[1;32m--> 153\u001b[0m         generations\u001b[38;5;241m.\u001b[39mappend([\u001b[43mGeneration\u001b[49m\u001b[43m(\u001b[49m\u001b[43mtext\u001b[49m\u001b[38;5;241;43m=\u001b[39;49m\u001b[43mres\u001b[49m\u001b[43m)\u001b[49m])\n\u001b[0;32m    154\u001b[0m \u001b[38;5;28;01mreturn\u001b[39;00m LLMResult(generations\u001b[38;5;241m=\u001b[39mgenerations)\n",
      "File \u001b[1;32m~\\AppData\\Roaming\\Python\\Python312\\site-packages\\langchain_core\\load\\serializable.py:125\u001b[0m, in \u001b[0;36mSerializable.__init__\u001b[1;34m(self, *args, **kwargs)\u001b[0m\n\u001b[0;32m    123\u001b[0m \u001b[38;5;28;01mdef\u001b[39;00m\u001b[38;5;250m \u001b[39m\u001b[38;5;21m__init__\u001b[39m(\u001b[38;5;28mself\u001b[39m, \u001b[38;5;241m*\u001b[39margs: Any, \u001b[38;5;241m*\u001b[39m\u001b[38;5;241m*\u001b[39mkwargs: Any) \u001b[38;5;241m-\u001b[39m\u001b[38;5;241m>\u001b[39m \u001b[38;5;28;01mNone\u001b[39;00m:\n\u001b[0;32m    124\u001b[0m \u001b[38;5;250m    \u001b[39m\u001b[38;5;124;03m\"\"\"\"\"\"\u001b[39;00m\n\u001b[1;32m--> 125\u001b[0m     \u001b[38;5;28;43msuper\u001b[39;49m\u001b[43m(\u001b[49m\u001b[43m)\u001b[49m\u001b[38;5;241;43m.\u001b[39;49m\u001b[38;5;21;43m__init__\u001b[39;49m\u001b[43m(\u001b[49m\u001b[38;5;241;43m*\u001b[39;49m\u001b[43margs\u001b[49m\u001b[43m,\u001b[49m\u001b[43m \u001b[49m\u001b[38;5;241;43m*\u001b[39;49m\u001b[38;5;241;43m*\u001b[39;49m\u001b[43mkwargs\u001b[49m\u001b[43m)\u001b[49m\n",
      "File \u001b[1;32m~\\AppData\\Roaming\\Python\\Python312\\site-packages\\pydantic\\main.py:214\u001b[0m, in \u001b[0;36mBaseModel.__init__\u001b[1;34m(self, **data)\u001b[0m\n\u001b[0;32m    212\u001b[0m \u001b[38;5;66;03m# `__tracebackhide__` tells pytest and some other tools to omit this function from tracebacks\u001b[39;00m\n\u001b[0;32m    213\u001b[0m __tracebackhide__ \u001b[38;5;241m=\u001b[39m \u001b[38;5;28;01mTrue\u001b[39;00m\n\u001b[1;32m--> 214\u001b[0m validated_self \u001b[38;5;241m=\u001b[39m \u001b[38;5;28;43mself\u001b[39;49m\u001b[38;5;241;43m.\u001b[39;49m\u001b[43m__pydantic_validator__\u001b[49m\u001b[38;5;241;43m.\u001b[39;49m\u001b[43mvalidate_python\u001b[49m\u001b[43m(\u001b[49m\u001b[43mdata\u001b[49m\u001b[43m,\u001b[49m\u001b[43m \u001b[49m\u001b[43mself_instance\u001b[49m\u001b[38;5;241;43m=\u001b[39;49m\u001b[38;5;28;43mself\u001b[39;49m\u001b[43m)\u001b[49m\n\u001b[0;32m    215\u001b[0m \u001b[38;5;28;01mif\u001b[39;00m \u001b[38;5;28mself\u001b[39m \u001b[38;5;129;01mis\u001b[39;00m \u001b[38;5;129;01mnot\u001b[39;00m validated_self:\n\u001b[0;32m    216\u001b[0m     warnings\u001b[38;5;241m.\u001b[39mwarn(\n\u001b[0;32m    217\u001b[0m         \u001b[38;5;124m'\u001b[39m\u001b[38;5;124mA custom validator is returning a value other than `self`.\u001b[39m\u001b[38;5;130;01m\\n\u001b[39;00m\u001b[38;5;124m'\u001b[39m\n\u001b[0;32m    218\u001b[0m         \u001b[38;5;124m\"\u001b[39m\u001b[38;5;124mReturning anything other than `self` from a top level model validator isn\u001b[39m\u001b[38;5;124m'\u001b[39m\u001b[38;5;124mt supported when validating via `__init__`.\u001b[39m\u001b[38;5;130;01m\\n\u001b[39;00m\u001b[38;5;124m\"\u001b[39m\n\u001b[0;32m    219\u001b[0m         \u001b[38;5;124m'\u001b[39m\u001b[38;5;124mSee the `model_validator` docs (https://docs.pydantic.dev/latest/concepts/validators/#model-validators) for more details.\u001b[39m\u001b[38;5;124m'\u001b[39m,\n\u001b[0;32m    220\u001b[0m         stacklevel\u001b[38;5;241m=\u001b[39m\u001b[38;5;241m2\u001b[39m,\n\u001b[0;32m    221\u001b[0m     )\n",
      "\u001b[1;31mValidationError\u001b[0m: 1 validation error for Generation\ntext\n  Input should be a valid string [type=string_type, input_value={'text': '\\n1. What is th...terms used to describe'}, input_type=dict]\n    For further information visit https://errors.pydantic.dev/2.10/v/string_type"
     ]
    }
   ],
   "source": [
    "# ques=question_generation_chain.run(chunk_to_document)\n",
    "ques = question_generation_chain.run(chunk_to_document)  # If chunk_to_document is a Document object\n",
    "\n"
   ]
  },
  {
   "cell_type": "code",
   "execution_count": null,
   "metadata": {},
   "outputs": [],
   "source": []
  }
 ],
 "metadata": {
  "kernelspec": {
   "display_name": "Python 3",
   "language": "python",
   "name": "python3"
  },
  "language_info": {
   "codemirror_mode": {
    "name": "ipython",
    "version": 3
   },
   "file_extension": ".py",
   "mimetype": "text/x-python",
   "name": "python",
   "nbconvert_exporter": "python",
   "pygments_lexer": "ipython3",
   "version": "3.12.6"
  }
 },
 "nbformat": 4,
 "nbformat_minor": 2
}
